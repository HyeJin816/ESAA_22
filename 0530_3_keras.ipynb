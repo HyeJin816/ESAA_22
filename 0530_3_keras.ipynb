{
  "nbformat": 4,
  "nbformat_minor": 0,
  "metadata": {
    "colab": {
      "name": "0530_3.keras.ipynb",
      "provenance": [],
      "collapsed_sections": [],
      "authorship_tag": "ABX9TyO9v00zS4jcZMacqF2rDTCT",
      "include_colab_link": true
    },
    "kernelspec": {
      "name": "python3",
      "display_name": "Python 3"
    },
    "language_info": {
      "name": "python"
    }
  },
  "cells": [
    {
      "cell_type": "markdown",
      "metadata": {
        "id": "view-in-github",
        "colab_type": "text"
      },
      "source": [
        "<a href=\"https://colab.research.google.com/github/HyeJin816/ESAA_22/blob/main/0530_3_keras.ipynb\" target=\"_parent\"><img src=\"https://colab.research.google.com/assets/colab-badge.svg\" alt=\"Open In Colab\"/></a>"
      ]
    },
    {
      "cell_type": "markdown",
      "source": [
        "# **파이썬 딥러닝 텐서플로 03. Keras**"
      ],
      "metadata": {
        "id": "vpa-eiFiSsFr"
      }
    },
    {
      "cell_type": "markdown",
      "source": [
        "# **01 딥러닝 준비**"
      ],
      "metadata": {
        "id": "tgLGf2ipSsKo"
      }
    },
    {
      "cell_type": "markdown",
      "source": [
        "## **1-1. 주요 용어**"
      ],
      "metadata": {
        "id": "OheL6ksmS6Al"
      }
    },
    {
      "cell_type": "markdown",
      "source": [
        "#### **1-1-1. 하이퍼 파라미터**\n",
        ": 사용자가 직접 설정해주는 설정 값 - 하이퍼 파라미터 값 조절 : *튜닝*"
      ],
      "metadata": {
        "id": "hkC9BhS40AVl"
      }
    },
    {
      "cell_type": "markdown",
      "source": [
        "#### **1-1-2. 과소적합vs과대적합**"
      ],
      "metadata": {
        "id": "Qls_Rpeb0Flm"
      }
    },
    {
      "cell_type": "markdown",
      "source": [
        "* 과소적합 : 모델이 충분히 학습되지 않은 경우 예측 성능이 떨어짐.  \n",
        "* 과대적합 : 학습 데이터를 지나치게 반복 학습하여 과하게 적합. 불필요한 노이즈까지 과도하게 반영되어 예측성능은 좋지만 오차 발생"
      ],
      "metadata": {
        "id": "PQ9eOv720IIQ"
      }
    },
    {
      "cell_type": "markdown",
      "source": [
        "#### **1-1-3. 에포크**"
      ],
      "metadata": {
        "id": "crFdGhFAiXes"
      }
    },
    {
      "cell_type": "markdown",
      "source": [
        ": 딥러닝 모델이 반복 훈련할 때 데이터셋을 전부 학습에 사용하는 1회 훈련 루프"
      ],
      "metadata": {
        "id": "gc8KYa2DibJc"
      }
    },
    {
      "cell_type": "markdown",
      "source": [
        "#### **1-1-4 손실함수**"
      ],
      "metadata": {
        "id": "yXw-r82yimnc"
      }
    },
    {
      "cell_type": "markdown",
      "source": [
        ": 예측 값과 정답 값의 차이 또는 오차"
      ],
      "metadata": {
        "id": "nVQ-tc3uipM3"
      }
    },
    {
      "cell_type": "code",
      "source": [
        "import tensorflow as tf\n",
        "\n",
        "tf.keras.losses.BinaryCrossentropy()\n",
        "\n",
        "tf.keras.losses.binary_crossentropy"
      ],
      "metadata": {
        "colab": {
          "base_uri": "https://localhost:8080/"
        },
        "id": "R4w91ENCi-MU",
        "outputId": "c3f89eb1-f639-4ff8-efcf-9a610720e15b"
      },
      "execution_count": null,
      "outputs": [
        {
          "output_type": "execute_result",
          "data": {
            "text/plain": [
              "<function keras.losses.binary_crossentropy>"
            ]
          },
          "metadata": {},
          "execution_count": 1
        }
      ]
    },
    {
      "cell_type": "markdown",
      "source": [
        "#### **1-1-5. 경사하강법**"
      ],
      "metadata": {
        "id": "2zycA_AfjBAW"
      }
    },
    {
      "cell_type": "markdown",
      "source": [
        ": 모델 내부의 가중치에 대한 미분값을 구하고 목적 함수 값이 낮아지는 방향으로 차감하면서 최소 함수 값을 갖도록"
      ],
      "metadata": {
        "id": "E5OISqVCjCO-"
      }
    },
    {
      "cell_type": "code",
      "source": [
        "import numpy as np\n",
        "import matplotlib.pyplot as plt\n",
        "\n",
        "# 샘플에 활용할 데이터 셋 만들기\n",
        "def make_linear(w=0.5, b=0.8, size=50, noise=1.0):\n",
        "    x = np.random.rand(size)\n",
        "    y = w * x + b\n",
        "    noise = np.random.uniform(-abs(noise), abs(noise), size=y.shape) \n",
        "    yy = y + noise\n",
        "    plt.figure(figsize=(10, 7))\n",
        "    plt.plot(x, y, color='r', label=f'y = {w}*x + {b}')\n",
        "    plt.scatter(x, yy, label='data')\n",
        "    plt.legend(fontsize=20)\n",
        "    plt.show()\n",
        "    print(f'w: {w}, b: {b}')\n",
        "    return x, yy\n",
        "\n",
        "x, y = make_linear(w=0.3, b=0.5, size=100, noise=0.01)"
      ],
      "metadata": {
        "colab": {
          "base_uri": "https://localhost:8080/",
          "height": 446
        },
        "id": "fRcw7Tj7jNRQ",
        "outputId": "df406f89-0728-46e2-f503-b4611b53866c"
      },
      "execution_count": null,
      "outputs": [
        {
          "output_type": "display_data",
          "data": {
            "text/plain": [
              "<Figure size 720x504 with 1 Axes>"
            ],
            "image/png": "[encoded data removed]"
          },
          "metadata": {
            "needs_background": "light"
          }
        },
        {
          "output_type": "stream",
          "name": "stdout",
          "text": [
            "w: 0.3, b: 0.5\n"
          ]
        }
      ]
    },
    {
      "cell_type": "code",
      "source": [
        "# 최대 반복 횟수\n",
        "num_epoch = 1000\n",
        "\n",
        "# 학습율 (learning_rate)\n",
        "learning_rate = 0.005\n",
        "\n",
        "# 에러 기록\n",
        "errors = []\n",
        "\n",
        "# random 한 값으로 w, b를 초기화 합니다.\n",
        "w = np.random.uniform(low=0.0, high=1.0)\n",
        "b = np.random.uniform(low=0.0, high=1.0)\n",
        "\n",
        "for epoch in range(num_epoch):\n",
        "    # Hypothesis 정의\n",
        "    y_hat = w * x + b\n",
        "    \n",
        "    # Loss Function 정의\n",
        "    error = 0.5*((y_hat - y) ** 2).sum()\n",
        "    if error < 0.005:\n",
        "        break\n",
        "    # Gradient 미분 계산\n",
        "    w = w - learning_rate * ((y_hat - y) * x).sum()\n",
        "    b = b - learning_rate * (y_hat - y).sum()\n",
        "    \n",
        "    errors.append(error)\n",
        "\n",
        "    if epoch % 5 == 0:\n",
        "        print(\"{0:2} w = {1:.5f}, b = {2:.5f} error = {3:.5f}\".format(epoch, w, b, error))\n",
        "    \n",
        "print(\"----\" * 15)\n",
        "print(\"{0:2} w = {1:.1f}, b = {2:.1f} error = {3:.5f}\".format(epoch, w, b, error))"
      ],
      "metadata": {
        "colab": {
          "base_uri": "https://localhost:8080/"
        },
        "id": "Vtn4zl262_KL",
        "outputId": "5a640000-f3a6-40c6-87fe-53590d950339"
      },
      "execution_count": null,
      "outputs": [
        {
          "output_type": "stream",
          "name": "stdout",
          "text": [
            " 0 w = 0.55611, b = 0.42010 error = 1.40113\n",
            " 5 w = 0.50343, b = 0.39186 error = 0.14667\n",
            "10 w = 0.47788, b = 0.40522 error = 0.11192\n",
            "15 w = 0.45572, b = 0.41712 error = 0.08552\n",
            "20 w = 0.43640, b = 0.42749 error = 0.06544\n",
            "25 w = 0.41954, b = 0.43654 error = 0.05017\n",
            "30 w = 0.40484, b = 0.44444 error = 0.03855\n",
            "35 w = 0.39202, b = 0.45132 error = 0.02971\n",
            "40 w = 0.38084, b = 0.45732 error = 0.02298\n",
            "45 w = 0.37109, b = 0.46256 error = 0.01787\n",
            "50 w = 0.36258, b = 0.46713 error = 0.01398\n",
            "55 w = 0.35516, b = 0.47111 error = 0.01102\n",
            "60 w = 0.34869, b = 0.47459 error = 0.00877\n",
            "65 w = 0.34305, b = 0.47762 error = 0.00705\n",
            "70 w = 0.33812, b = 0.48026 error = 0.00575\n",
            "------------------------------------------------------------\n",
            "74 w = 0.3, b = 0.5 error = 0.00494\n"
          ]
        }
      ]
    },
    {
      "cell_type": "code",
      "source": [
        "plt.figure(figsize=(10, 7))\n",
        "plt.plot(errors)\n",
        "plt.xlabel('Epochs')\n",
        "plt.ylabel('Error')\n",
        "plt.show()"
      ],
      "metadata": {
        "colab": {
          "base_uri": "https://localhost:8080/",
          "height": 442
        },
        "id": "94nUfLZW3C9W",
        "outputId": "ef45bba4-7e0b-4f8d-f5b7-68da60257738"
      },
      "execution_count": null,
      "outputs": [
        {
          "output_type": "display_data",
          "data": {
            "text/plain": [
              "<Figure size 720x504 with 1 Axes>"
            ],
            "image/png": "[encoded data removed]"
          },
          "metadata": {
            "needs_background": "light"
          }
        }
      ]
    },
    {
      "cell_type": "markdown",
      "source": [
        "## **1-2. 딥러닝 프로세스**"
      ],
      "metadata": {
        "id": "nWtm4NFC3Ild"
      }
    },
    {
      "cell_type": "markdown",
      "source": [
        "#### **1-2-1. 데이터 전처리**\n",
        ": 데이터를 모델에 주입하기 전 데이터를 가공하는 단계"
      ],
      "metadata": {
        "id": "ojRyKZu13Jyj"
      }
    },
    {
      "cell_type": "markdown",
      "source": [
        "#### **1-2-2 모델 생성**\n",
        "모델의 구조를 정의하고 생성하는 단계"
      ],
      "metadata": {
        "id": "dQ842Iic3Yzy"
      }
    },
    {
      "cell_type": "markdown",
      "source": [
        "#### **1-2-3 모델 컴파일**\n",
        "```compile()``` 함수로 모델 훈련에 사용할 손실함수, 옵티마이저, 평가지표(metrics) 등 정의"
      ],
      "metadata": {
        "id": "5OVsraR96m8f"
      }
    },
    {
      "cell_type": "markdown",
      "source": [
        "#### **1-2-4 모델 훈련**\n",
        "```fit()``` 함수에 모델 훈련에 필요한  훈련 데이터셋, 검증 데이터셋, epoch, 배치 크기 및 콜백 함수 등을 매개변수로 전달"
      ],
      "metadata": {
        "id": "r4grDSng6x3G"
      }
    },
    {
      "cell_type": "markdown",
      "source": [
        "### **1-2-5 모델 검증**\n",
        "모델을 훈련할 때 사용하지 않은 검증 데이터 셋을 모델에 입력하고 모델의 예측 값을 정답과 비교하여 평가지표를 계산. 검증 결과를 토대로 모델 성능 평가"
      ],
      "metadata": {
        "id": "_T6irb5765O1"
      }
    },
    {
      "cell_type": "markdown",
      "source": [
        "#### **1-2-6 모델 예측**\n",
        "훈련과 검증이 완료된 모델로 테스트셋을 예측하고 그 결과를 반환"
      ],
      "metadata": {
        "id": "ilCZMMud7GVc"
      }
    },
    {
      "cell_type": "markdown",
      "source": [
        "# **02 단순 신경망 훈련**"
      ],
      "metadata": {
        "id": "Hb5TDr8z7SR9"
      }
    },
    {
      "cell_type": "markdown",
      "source": [
        "### **2-1. 선형회귀**"
      ],
      "metadata": {
        "id": "A5wbCmrB7WWx"
      }
    },
    {
      "cell_type": "markdown",
      "source": [
        "**회귀분석** : 하나 이상의 독립변수들이 종속변수에 미치는 영향을 추정"
      ],
      "metadata": {
        "id": "7lA8nuVWJIL8"
      }
    },
    {
      "cell_type": "markdown",
      "source": [
        "### **2-2. 뉴런(Neuron)**"
      ],
      "metadata": {
        "id": "dG5NBdsK7gyi"
      }
    },
    {
      "cell_type": "markdown",
      "source": [
        ": 인공 신경망 모델을 구성하는 하나의 신경\n",
        "> 신경망은 여러 개의 레이어를 가지며 1개의 레이어는 1개 이상의 뉴런으로 구성"
      ],
      "metadata": {
        "id": "vIKbKP6BJQuP"
      }
    },
    {
      "cell_type": "markdown",
      "source": [
        "### **2-3. Dense 레이어**"
      ],
      "metadata": {
        "id": "D7I7yMeB7mxe"
      }
    },
    {
      "cell_type": "markdown",
      "source": [
        ": 심층신경망 모델을 구성하는 가장 기본 레이어\n",
        "> Dense 레이어를 구성하는 노드 개수와 활성화 함수 지정 가능"
      ],
      "metadata": {
        "id": "y4iUxIL_JXoJ"
      }
    },
    {
      "cell_type": "code",
      "source": [
        "import tensorflow as tf\n",
        "\n",
        "# 10개의 노드로 이루어진 Dense 레이어\n",
        "tf.keras.layers.Dense(10)\n",
        "\n",
        "# ReLU 활성화 함수 적용\n",
        "tf.keras.layers.Dense(10, activation='relu')"
      ],
      "metadata": {
        "colab": {
          "base_uri": "https://localhost:8080/"
        },
        "id": "AImzz1LqJjtB",
        "outputId": "32b0721e-c6f3-44b2-cbe9-24f5bdf38f0e"
      },
      "execution_count": 5,
      "outputs": [
        {
          "output_type": "execute_result",
          "data": {
            "text/plain": [
              "<keras.layers.core.dense.Dense at 0x7f35379b1250>"
            ]
          },
          "metadata": {},
          "execution_count": 5
        }
      ]
    },
    {
      "cell_type": "markdown",
      "source": [
        "### **2-4. 데이터셋 만들기**"
      ],
      "metadata": {
        "id": "eoHcZkV87sAG"
      }
    },
    {
      "cell_type": "code",
      "source": [
        "import numpy as np\n",
        "\n",
        "x = np.arange(1, 6)\n",
        "\n",
        "y = 3 * x + 2\n",
        "print(x)\n",
        "print(y)"
      ],
      "metadata": {
        "colab": {
          "base_uri": "https://localhost:8080/"
        },
        "id": "U8h594tzJoMV",
        "outputId": "320e482a-5ee8-44bd-eac2-509f08500029"
      },
      "execution_count": 6,
      "outputs": [
        {
          "output_type": "stream",
          "name": "stdout",
          "text": [
            "[1 2 3 4 5]\n",
            "[ 5  8 11 14 17]\n"
          ]
        }
      ]
    },
    {
      "cell_type": "code",
      "source": [
        "import matplotlib.pyplot as plt\n",
        "\n",
        "plt.plot(x, y)\n",
        "plt.title('y = 3x + 2')\n",
        "plt.show()"
      ],
      "metadata": {
        "colab": {
          "base_uri": "https://localhost:8080/",
          "height": 281
        },
        "id": "f_ltotMKJqDM",
        "outputId": "b50b5bfb-8bd3-49a0-c8a2-d709e021867e"
      },
      "execution_count": 7,
      "outputs": [
        {
          "output_type": "display_data",
          "data": {
            "text/plain": [
              "<Figure size 432x288 with 1 Axes>"
            ],
            "image/png": "[encoded data removed]"
          },
          "metadata": {
            "needs_background": "light"
          }
        }
      ]
    },
    {
      "cell_type": "markdown",
      "source": [
        "### **2-5. Sequential API**"
      ],
      "metadata": {
        "id": "6YRA_1Ab7xzu"
      }
    },
    {
      "cell_type": "markdown",
      "source": [
        ": 층을 이어 붙이듯 시퀀스에 맞게 일렬로 연결하는 방식\n",
        "> 장점 : keras 모델 생성/훈련에서 가장 간단한 방법  \n",
        "> 단점 : 다중입력이나 다중출력 등의 복잡한 구조 구현 불가"
      ],
      "metadata": {
        "id": "1jPJ4hMaJrKb"
      }
    },
    {
      "cell_type": "code",
      "source": [
        "### 모델 구조 (Sequantial API 모델 생성) ###\n",
        "\n",
        "model = tf.keras.Sequential([\n",
        "    tf.keras.layers.Dense(10), \n",
        "    tf.keras.layers.Dense(5), \n",
        "    tf.keras.layers.Dense(1), \n",
        "])\n",
        "\n",
        "model = tf.keras.Sequential()\n",
        "model.add(tf.keras.layers.Dense(10))\n",
        "model.add(tf.keras.layers.Dense(5))\n",
        "model.add(tf.keras.layers.Dense(1))"
      ],
      "metadata": {
        "id": "Pq5DpezaJ-Gz"
      },
      "execution_count": 8,
      "outputs": []
    },
    {
      "cell_type": "code",
      "source": [
        "### 입력 데이터 형태 ###\n",
        "\n",
        "import tensorflow as tf\n",
        "model = tf.keras.Sequential([\n",
        "        # 입력 데이터의 shape=(150, 4)인 경우 input_shape 지정\n",
        "        tf.keras.layers.Dense(10, input_shape=[4]), # input_shape=(4,)도 가능\n",
        "        tf.keras.layers.Dense(5), \n",
        "        tf.keras.layers.Dense(1), \n",
        "])"
      ],
      "metadata": {
        "id": "f8QcC6iHKHsS"
      },
      "execution_count": 9,
      "outputs": []
    },
    {
      "cell_type": "code",
      "source": [
        "### 단순선형회귀모델 정의 ###\n",
        "\n",
        "model = tf.keras.Sequential([\n",
        "        tf.keras.layers.Dense(1, input_shape=[1]) # 입력 데이터는 x 값을 나타내는 입력 변수 1개만 존재                   \n",
        "])"
      ],
      "metadata": {
        "id": "o5iz1PuUKLOb"
      },
      "execution_count": 10,
      "outputs": []
    },
    {
      "cell_type": "markdown",
      "source": [
        "### **2-6. 모델 요약**"
      ],
      "metadata": {
        "id": "l41Zcnhz72Cf"
      }
    },
    {
      "cell_type": "markdown",
      "source": [
        "```model.summary()``` : 모델 구조, 층별 노드 개수, 훈련 시 업데이트할 파라미터 개수 확인 가능  \n",
        "> *Trainable params*: 모델 훈련 시 업데이트할 파라미터의 총 개수(단순선형회귀에서는 가중치 w, 편향 b로 2개)  \n",
        "> *Non-trainable params*: 훈련시 업데이트하지 않을 파라미터의 총 개수"
      ],
      "metadata": {
        "id": "RfqNXu4yKWPd"
      }
    },
    {
      "cell_type": "code",
      "source": [
        "model.summary()"
      ],
      "metadata": {
        "colab": {
          "base_uri": "https://localhost:8080/"
        },
        "id": "gX2qG415Kgmq",
        "outputId": "9b0177ad-7e58-4519-ace5-b170433e855a"
      },
      "execution_count": 11,
      "outputs": [
        {
          "output_type": "stream",
          "name": "stdout",
          "text": [
            "Model: \"sequential_3\"\n",
            "_________________________________________________________________\n",
            " Layer (type)                Output Shape              Param #   \n",
            "=================================================================\n",
            " dense_11 (Dense)            (None, 1)                 2         \n",
            "                                                                 \n",
            "=================================================================\n",
            "Total params: 2\n",
            "Trainable params: 2\n",
            "Non-trainable params: 0\n",
            "_________________________________________________________________\n"
          ]
        }
      ]
    },
    {
      "cell_type": "markdown",
      "source": [
        "### **2-7. 컴파일**"
      ],
      "metadata": {
        "id": "tu_peeJ174Ud"
      }
    },
    {
      "cell_type": "markdown",
      "source": [
        "옵티마이저, 손실함수, 평가지표를 지정\n",
        "> * 클래스 인스턴스 : 학습률, 모멘텀 등의 하이퍼파라미터를 사용자가 직접 지정  \n",
        "> * 함수   \n",
        "> * 사전 정의된 문자열 : 기본값으로 설정된 > 하이퍼파라미터 사용 "
      ],
      "metadata": {
        "id": "X6-2DrBoKl61"
      }
    },
    {
      "cell_type": "code",
      "source": [
        "# 긴 문자열 지정\n",
        "model.compile(optimizer='sgd', loss='mean_squared_error', \n",
        "              metrics=['mean_squared_error', 'mean_absolute_error'])\n",
        "\n",
        "# 짧은 문자열 지정\n",
        "model.compile(optimizer='sgd', loss='mse', metrics=['mse', 'mae'])\n",
        "\n",
        "# 클래스 인스턴스 지정\n",
        "model.compile(optimizer=tf.keras.optimizers.SGD(lr=0.005), \n",
        "              loss=tf.keras.losses.MeanAbsoluteError(), \n",
        "              metrics=[tf.keras.metrics.MeanAbsoluteError(), \n",
        "                       tf.keras.metrics.MeanSquaredError()\n",
        "                       ])"
      ],
      "metadata": {
        "colab": {
          "base_uri": "https://localhost:8080/"
        },
        "id": "dBVDQRANK3As",
        "outputId": "ea439a21-f07f-4641-b7d5-1bf087b49fbd"
      },
      "execution_count": 12,
      "outputs": [
        {
          "output_type": "stream",
          "name": "stderr",
          "text": [
            "/usr/local/lib/python3.7/dist-packages/keras/optimizer_v2/gradient_descent.py:102: UserWarning: The `lr` argument is deprecated, use `learning_rate` instead.\n",
            "  super(SGD, self).__init__(name, **kwargs)\n"
          ]
        }
      ]
    },
    {
      "cell_type": "markdown",
      "source": [
        "### **2-8. 훈련**"
      ],
      "metadata": {
        "id": "MpOpGIJP7825"
      }
    },
    {
      "cell_type": "markdown",
      "source": [
        "가중치 텐서 업데이트 : 생성한 모델 인스턴스에 ```fit(x,y,epoch)```  적용"
      ],
      "metadata": {
        "id": "Wu9l4wxsK__u"
      }
    },
    {
      "cell_type": "code",
      "source": [
        "# 컴파일\n",
        "model.compile(optimizer='sgd', loss='mse', metrics=['mae'])"
      ],
      "metadata": {
        "id": "jG6EFPJuK6Yt"
      },
      "execution_count": 13,
      "outputs": []
    },
    {
      "cell_type": "code",
      "source": [
        "# 훈련\n",
        "model.fit(x, y, epochs=5)"
      ],
      "metadata": {
        "colab": {
          "base_uri": "https://localhost:8080/"
        },
        "id": "6KL9ehKOLH0g",
        "outputId": "8ed41954-f321-4d40-8852-f24f41d11caa"
      },
      "execution_count": 14,
      "outputs": [
        {
          "output_type": "stream",
          "name": "stdout",
          "text": [
            "Epoch 1/5\n",
            "1/1 [==============================] - 0s 485ms/step - loss: 137.9474 - mae: 10.9594\n",
            "Epoch 2/5\n",
            "1/1 [==============================] - 0s 6ms/step - loss: 80.4775 - mae: 8.4092\n",
            "Epoch 3/5\n",
            "1/1 [==============================] - 0s 4ms/step - loss: 46.9864 - mae: 6.4622\n",
            "Epoch 4/5\n",
            "1/1 [==============================] - 0s 5ms/step - loss: 27.4688 - mae: 4.9758\n",
            "Epoch 5/5\n",
            "1/1 [==============================] - 0s 4ms/step - loss: 16.0943 - mae: 3.8409\n"
          ]
        },
        {
          "output_type": "execute_result",
          "data": {
            "text/plain": [
              "<keras.callbacks.History at 0x7f352eff2d50>"
            ]
          },
          "metadata": {},
          "execution_count": 14
        }
      ]
    },
    {
      "cell_type": "markdown",
      "source": [
        "5 epoch의 훈련 >>> 손실함수는 16.0943, 평균절대오차는 3.8409"
      ],
      "metadata": {
        "id": "1pOmc5ZLLR9e"
      }
    },
    {
      "cell_type": "code",
      "source": [
        "# 단순선형회귀 모델 생성\n",
        "model = tf.keras.Sequential([\n",
        "        tf.keras.layers.Dense(1, input_shape=[1])                    \n",
        "])\n",
        "\n",
        "# 컴파일\n",
        "model.compile(optimizer='sgd', loss='mse', metrics=['mae'])\n",
        "\n",
        "# 훈련\n",
        "history = model.fit(x, y, epochs=100) # epoch별 훈련 손실과 평가지표가 딕셔너리 형태로 저장"
      ],
      "metadata": {
        "colab": {
          "base_uri": "https://localhost:8080/"
        },
        "id": "22OKc2sALjQo",
        "outputId": "6b36512a-d385-4da9-9004-67e67a438269"
      },
      "execution_count": 16,
      "outputs": [
        {
          "output_type": "stream",
          "name": "stdout",
          "text": [
            "Epoch 1/100\n",
            "1/1 [==============================] - 0s 231ms/step - loss: 63.8190 - mae: 7.5484\n",
            "Epoch 2/100\n",
            "1/1 [==============================] - 0s 7ms/step - loss: 37.3332 - mae: 5.8168\n",
            "Epoch 3/100\n",
            "1/1 [==============================] - 0s 7ms/step - loss: 21.8976 - mae: 4.4947\n",
            "Epoch 4/100\n",
            "1/1 [==============================] - 0s 5ms/step - loss: 12.9016 - mae: 3.4853\n",
            "Epoch 5/100\n",
            "1/1 [==============================] - 0s 6ms/step - loss: 7.6582 - mae: 2.7145\n",
            "Epoch 6/100\n",
            "1/1 [==============================] - 0s 7ms/step - loss: 4.6016 - mae: 2.1260\n",
            "Epoch 7/100\n",
            "1/1 [==============================] - 0s 6ms/step - loss: 2.8195 - mae: 1.6765\n",
            "Epoch 8/100\n",
            "1/1 [==============================] - 0s 6ms/step - loss: 1.7800 - mae: 1.3332\n",
            "Epoch 9/100\n",
            "1/1 [==============================] - 0s 6ms/step - loss: 1.1734 - mae: 1.0709\n",
            "Epoch 10/100\n",
            "1/1 [==============================] - 0s 6ms/step - loss: 0.8189 - mae: 0.8705\n",
            "Epoch 11/100\n",
            "1/1 [==============================] - 0s 6ms/step - loss: 0.6114 - mae: 0.7174\n",
            "Epoch 12/100\n",
            "1/1 [==============================] - 0s 6ms/step - loss: 0.4896 - mae: 0.6003\n",
            "Epoch 13/100\n",
            "1/1 [==============================] - 0s 6ms/step - loss: 0.4177 - mae: 0.5305\n",
            "Epoch 14/100\n",
            "1/1 [==============================] - 0s 6ms/step - loss: 0.3749 - mae: 0.5049\n",
            "Epoch 15/100\n",
            "1/1 [==============================] - 0s 6ms/step - loss: 0.3491 - mae: 0.4851\n",
            "Epoch 16/100\n",
            "1/1 [==============================] - 0s 5ms/step - loss: 0.3332 - mae: 0.4696\n",
            "Epoch 17/100\n",
            "1/1 [==============================] - 0s 5ms/step - loss: 0.3230 - mae: 0.4631\n",
            "Epoch 18/100\n",
            "1/1 [==============================] - 0s 5ms/step - loss: 0.3162 - mae: 0.4653\n",
            "Epoch 19/100\n",
            "1/1 [==============================] - 0s 5ms/step - loss: 0.3114 - mae: 0.4666\n",
            "Epoch 20/100\n",
            "1/1 [==============================] - 0s 5ms/step - loss: 0.3078 - mae: 0.4672\n",
            "Epoch 21/100\n",
            "1/1 [==============================] - 0s 5ms/step - loss: 0.3048 - mae: 0.4673\n",
            "Epoch 22/100\n",
            "1/1 [==============================] - 0s 9ms/step - loss: 0.3022 - mae: 0.4670\n",
            "Epoch 23/100\n",
            "1/1 [==============================] - 0s 9ms/step - loss: 0.2998 - mae: 0.4664\n",
            "Epoch 24/100\n",
            "1/1 [==============================] - 0s 4ms/step - loss: 0.2976 - mae: 0.4656\n",
            "Epoch 25/100\n",
            "1/1 [==============================] - 0s 5ms/step - loss: 0.2955 - mae: 0.4646\n",
            "Epoch 26/100\n",
            "1/1 [==============================] - 0s 5ms/step - loss: 0.2935 - mae: 0.4635\n",
            "Epoch 27/100\n",
            "1/1 [==============================] - 0s 5ms/step - loss: 0.2914 - mae: 0.4622\n",
            "Epoch 28/100\n",
            "1/1 [==============================] - 0s 5ms/step - loss: 0.2895 - mae: 0.4609\n",
            "Epoch 29/100\n",
            "1/1 [==============================] - 0s 5ms/step - loss: 0.2875 - mae: 0.4596\n",
            "Epoch 30/100\n",
            "1/1 [==============================] - 0s 5ms/step - loss: 0.2855 - mae: 0.4582\n",
            "Epoch 31/100\n",
            "1/1 [==============================] - 0s 5ms/step - loss: 0.2836 - mae: 0.4567\n",
            "Epoch 32/100\n",
            "1/1 [==============================] - 0s 5ms/step - loss: 0.2817 - mae: 0.4553\n",
            "Epoch 33/100\n",
            "1/1 [==============================] - 0s 5ms/step - loss: 0.2798 - mae: 0.4538\n",
            "Epoch 34/100\n",
            "1/1 [==============================] - 0s 6ms/step - loss: 0.2779 - mae: 0.4523\n",
            "Epoch 35/100\n",
            "1/1 [==============================] - 0s 5ms/step - loss: 0.2760 - mae: 0.4508\n",
            "Epoch 36/100\n",
            "1/1 [==============================] - 0s 5ms/step - loss: 0.2742 - mae: 0.4493\n",
            "Epoch 37/100\n",
            "1/1 [==============================] - 0s 5ms/step - loss: 0.2723 - mae: 0.4478\n",
            "Epoch 38/100\n",
            "1/1 [==============================] - 0s 5ms/step - loss: 0.2705 - mae: 0.4463\n",
            "Epoch 39/100\n",
            "1/1 [==============================] - 0s 5ms/step - loss: 0.2686 - mae: 0.4448\n",
            "Epoch 40/100\n",
            "1/1 [==============================] - 0s 6ms/step - loss: 0.2668 - mae: 0.4433\n",
            "Epoch 41/100\n",
            "1/1 [==============================] - 0s 9ms/step - loss: 0.2650 - mae: 0.4418\n",
            "Epoch 42/100\n",
            "1/1 [==============================] - 0s 8ms/step - loss: 0.2632 - mae: 0.4404\n",
            "Epoch 43/100\n",
            "1/1 [==============================] - 0s 6ms/step - loss: 0.2615 - mae: 0.4389\n",
            "Epoch 44/100\n",
            "1/1 [==============================] - 0s 6ms/step - loss: 0.2597 - mae: 0.4374\n",
            "Epoch 45/100\n",
            "1/1 [==============================] - 0s 4ms/step - loss: 0.2579 - mae: 0.4359\n",
            "Epoch 46/100\n",
            "1/1 [==============================] - 0s 5ms/step - loss: 0.2562 - mae: 0.4344\n",
            "Epoch 47/100\n",
            "1/1 [==============================] - 0s 5ms/step - loss: 0.2545 - mae: 0.4330\n",
            "Epoch 48/100\n",
            "1/1 [==============================] - 0s 4ms/step - loss: 0.2528 - mae: 0.4315\n",
            "Epoch 49/100\n",
            "1/1 [==============================] - 0s 5ms/step - loss: 0.2510 - mae: 0.4301\n",
            "Epoch 50/100\n",
            "1/1 [==============================] - 0s 5ms/step - loss: 0.2494 - mae: 0.4286\n",
            "Epoch 51/100\n",
            "1/1 [==============================] - 0s 5ms/step - loss: 0.2477 - mae: 0.4272\n",
            "Epoch 52/100\n",
            "1/1 [==============================] - 0s 5ms/step - loss: 0.2460 - mae: 0.4257\n",
            "Epoch 53/100\n",
            "1/1 [==============================] - 0s 5ms/step - loss: 0.2443 - mae: 0.4243\n",
            "Epoch 54/100\n",
            "1/1 [==============================] - 0s 6ms/step - loss: 0.2427 - mae: 0.4228\n",
            "Epoch 55/100\n",
            "1/1 [==============================] - 0s 6ms/step - loss: 0.2410 - mae: 0.4214\n",
            "Epoch 56/100\n",
            "1/1 [==============================] - 0s 5ms/step - loss: 0.2394 - mae: 0.4200\n",
            "Epoch 57/100\n",
            "1/1 [==============================] - 0s 5ms/step - loss: 0.2378 - mae: 0.4186\n",
            "Epoch 58/100\n",
            "1/1 [==============================] - 0s 5ms/step - loss: 0.2362 - mae: 0.4171\n",
            "Epoch 59/100\n",
            "1/1 [==============================] - 0s 5ms/step - loss: 0.2346 - mae: 0.4157\n",
            "Epoch 60/100\n",
            "1/1 [==============================] - 0s 5ms/step - loss: 0.2330 - mae: 0.4143\n",
            "Epoch 61/100\n",
            "1/1 [==============================] - 0s 5ms/step - loss: 0.2314 - mae: 0.4129\n",
            "Epoch 62/100\n",
            "1/1 [==============================] - 0s 5ms/step - loss: 0.2299 - mae: 0.4115\n",
            "Epoch 63/100\n",
            "1/1 [==============================] - 0s 9ms/step - loss: 0.2283 - mae: 0.4101\n",
            "Epoch 64/100\n",
            "1/1 [==============================] - 0s 14ms/step - loss: 0.2268 - mae: 0.4088\n",
            "Epoch 65/100\n",
            "1/1 [==============================] - 0s 18ms/step - loss: 0.2253 - mae: 0.4074\n",
            "Epoch 66/100\n",
            "1/1 [==============================] - 0s 24ms/step - loss: 0.2237 - mae: 0.4060\n",
            "Epoch 67/100\n",
            "1/1 [==============================] - 0s 8ms/step - loss: 0.2222 - mae: 0.4046\n",
            "Epoch 68/100\n",
            "1/1 [==============================] - 0s 9ms/step - loss: 0.2207 - mae: 0.4033\n",
            "Epoch 69/100\n",
            "1/1 [==============================] - 0s 8ms/step - loss: 0.2192 - mae: 0.4019\n",
            "Epoch 70/100\n",
            "1/1 [==============================] - 0s 8ms/step - loss: 0.2178 - mae: 0.4005\n",
            "Epoch 71/100\n",
            "1/1 [==============================] - 0s 8ms/step - loss: 0.2163 - mae: 0.3992\n",
            "Epoch 72/100\n",
            "1/1 [==============================] - 0s 9ms/step - loss: 0.2148 - mae: 0.3978\n",
            "Epoch 73/100\n",
            "1/1 [==============================] - 0s 8ms/step - loss: 0.2134 - mae: 0.3965\n",
            "Epoch 74/100\n",
            "1/1 [==============================] - 0s 11ms/step - loss: 0.2119 - mae: 0.3951\n",
            "Epoch 75/100\n",
            "1/1 [==============================] - 0s 10ms/step - loss: 0.2105 - mae: 0.3938\n",
            "Epoch 76/100\n",
            "1/1 [==============================] - 0s 15ms/step - loss: 0.2091 - mae: 0.3925\n",
            "Epoch 77/100\n",
            "1/1 [==============================] - 0s 6ms/step - loss: 0.2077 - mae: 0.3912\n",
            "Epoch 78/100\n",
            "1/1 [==============================] - 0s 6ms/step - loss: 0.2063 - mae: 0.3898\n",
            "Epoch 79/100\n",
            "1/1 [==============================] - 0s 6ms/step - loss: 0.2049 - mae: 0.3885\n",
            "Epoch 80/100\n",
            "1/1 [==============================] - 0s 6ms/step - loss: 0.2035 - mae: 0.3872\n",
            "Epoch 81/100\n",
            "1/1 [==============================] - 0s 6ms/step - loss: 0.2021 - mae: 0.3859\n",
            "Epoch 82/100\n",
            "1/1 [==============================] - 0s 7ms/step - loss: 0.2008 - mae: 0.3846\n",
            "Epoch 83/100\n",
            "1/1 [==============================] - 0s 6ms/step - loss: 0.1994 - mae: 0.3833\n",
            "Epoch 84/100\n",
            "1/1 [==============================] - 0s 7ms/step - loss: 0.1981 - mae: 0.3820\n",
            "Epoch 85/100\n",
            "1/1 [==============================] - 0s 8ms/step - loss: 0.1967 - mae: 0.3807\n",
            "Epoch 86/100\n",
            "1/1 [==============================] - 0s 5ms/step - loss: 0.1954 - mae: 0.3794\n",
            "Epoch 87/100\n",
            "1/1 [==============================] - 0s 6ms/step - loss: 0.1941 - mae: 0.3781\n",
            "Epoch 88/100\n",
            "1/1 [==============================] - 0s 6ms/step - loss: 0.1928 - mae: 0.3768\n",
            "Epoch 89/100\n",
            "1/1 [==============================] - 0s 5ms/step - loss: 0.1915 - mae: 0.3756\n",
            "Epoch 90/100\n",
            "1/1 [==============================] - 0s 6ms/step - loss: 0.1902 - mae: 0.3743\n",
            "Epoch 91/100\n",
            "1/1 [==============================] - 0s 6ms/step - loss: 0.1889 - mae: 0.3730\n",
            "Epoch 92/100\n",
            "1/1 [==============================] - 0s 6ms/step - loss: 0.1876 - mae: 0.3718\n",
            "Epoch 93/100\n",
            "1/1 [==============================] - 0s 5ms/step - loss: 0.1863 - mae: 0.3705\n",
            "Epoch 94/100\n",
            "1/1 [==============================] - 0s 6ms/step - loss: 0.1851 - mae: 0.3693\n",
            "Epoch 95/100\n",
            "1/1 [==============================] - 0s 7ms/step - loss: 0.1838 - mae: 0.3680\n",
            "Epoch 96/100\n",
            "1/1 [==============================] - 0s 6ms/step - loss: 0.1826 - mae: 0.3668\n",
            "Epoch 97/100\n",
            "1/1 [==============================] - 0s 7ms/step - loss: 0.1814 - mae: 0.3655\n",
            "Epoch 98/100\n",
            "1/1 [==============================] - 0s 6ms/step - loss: 0.1801 - mae: 0.3643\n",
            "Epoch 99/100\n",
            "1/1 [==============================] - 0s 6ms/step - loss: 0.1789 - mae: 0.3631\n",
            "Epoch 100/100\n",
            "1/1 [==============================] - 0s 6ms/step - loss: 0.1777 - mae: 0.3618\n"
          ]
        }
      ]
    },
    {
      "cell_type": "code",
      "source": [
        "import matplotlib.pyplot as plt\n",
        "\n",
        "# 20 epoch까지 Loss 수렴에 대한 시각화\n",
        "plt.plot(history.history['loss'], label='loss')\n",
        "plt.plot(history.history['mae'], label='mae')\n",
        "plt.xlim(-1, 20)\n",
        "plt.title('Loss')\n",
        "plt.legend()\n",
        "plt.show()"
      ],
      "metadata": {
        "colab": {
          "base_uri": "https://localhost:8080/",
          "height": 281
        },
        "id": "4QEnlN-KLr0p",
        "outputId": "937a28a8-616a-4d86-8026-a07a353deaa3"
      },
      "execution_count": 17,
      "outputs": [
        {
          "output_type": "display_data",
          "data": {
            "text/plain": [
              "<Figure size 432x288 with 1 Axes>"
            ],
            "image/png": "[encoded data removed]"
          },
          "metadata": {
            "needs_background": "light"
          }
        }
      ]
    },
    {
      "cell_type": "markdown",
      "source": [
        "### **2-9. 검증**"
      ],
      "metadata": {
        "id": "7EmuHE4B8Bo-"
      }
    },
    {
      "cell_type": "code",
      "source": [
        "# 검증\n",
        "model.evaluate(x, y)"
      ],
      "metadata": {
        "colab": {
          "base_uri": "https://localhost:8080/"
        },
        "id": "oN7kuz4cLuHQ",
        "outputId": "a19ad4c4-ce37-4c9d-ca4f-e6a0a8eb7dd6"
      },
      "execution_count": 18,
      "outputs": [
        {
          "output_type": "stream",
          "name": "stdout",
          "text": [
            "1/1 [==============================] - 0s 163ms/step - loss: 0.1765 - mae: 0.3606\n"
          ]
        },
        {
          "output_type": "execute_result",
          "data": {
            "text/plain": [
              "[0.1765190064907074, 0.3606169819831848]"
            ]
          },
          "metadata": {},
          "execution_count": 18
        }
      ]
    },
    {
      "cell_type": "markdown",
      "source": [
        "### **2-10. 예측**"
      ],
      "metadata": {
        "id": "1TZmdBp1LzmV"
      }
    },
    {
      "cell_type": "code",
      "source": [
        "# 예측\n",
        "model.predict([10])"
      ],
      "metadata": {
        "colab": {
          "base_uri": "https://localhost:8080/"
        },
        "id": "TJW9wMr_L7Dx",
        "outputId": "bbc9159b-feb1-4911-8b78-b44613f4b1b4"
      },
      "execution_count": 19,
      "outputs": [
        {
          "output_type": "execute_result",
          "data": {
            "text/plain": [
              "array([[33.742905]], dtype=float32)"
            ]
          },
          "metadata": {},
          "execution_count": 19
        }
      ]
    },
    {
      "cell_type": "markdown",
      "source": [
        "# **03 심층 신경망으로 이미지 분류**"
      ],
      "metadata": {
        "id": "gH3p8sRv8TRh"
      }
    },
    {
      "cell_type": "markdown",
      "source": [
        "### **3-1. 케라스 내장 데이터셋 로드**"
      ],
      "metadata": {
        "id": "yOEBtFYo8WbU"
      }
    },
    {
      "cell_type": "code",
      "source": [
        "import tensorflow as tf\n",
        "\n",
        "# 케라스의 내장 데이터셋에서 mnist 데이터셋 로드\n",
        "mnist = tf.keras.datasets.mnist"
      ],
      "metadata": {
        "id": "DxOZyBF0MFK4"
      },
      "execution_count": 20,
      "outputs": []
    },
    {
      "cell_type": "code",
      "source": [
        "# load_data()로 데이터셋 로드\n",
        "# 훈련 셋과 검증 셋을 튜플 형태로 정의\n",
        "(x_train, y_train), (x_test, y_test) = mnist.load_data() "
      ],
      "metadata": {
        "colab": {
          "base_uri": "https://localhost:8080/"
        },
        "id": "nj0OShzMMHbt",
        "outputId": "6845a99c-2072-4cf6-9175-d53e6f9b9a39"
      },
      "execution_count": 21,
      "outputs": [
        {
          "output_type": "stream",
          "name": "stdout",
          "text": [
            "Downloading data from https://storage.googleapis.com/tensorflow/tf-keras-datasets/mnist.npz\n",
            "11493376/11490434 [==============================] - 0s 0us/step\n",
            "11501568/11490434 [==============================] - 0s 0us/step\n"
          ]
        }
      ]
    },
    {
      "cell_type": "code",
      "source": [
        "# 로드된 데이터셋 확인\n",
        "print('train set: ', x_train.shape, y_train.shape)\n",
        "print('test  set: ', x_test.shape, y_test.shape)"
      ],
      "metadata": {
        "colab": {
          "base_uri": "https://localhost:8080/"
        },
        "id": "XjbeLaw0MI2U",
        "outputId": "328545c6-cee6-4c9b-b420-ffa03ecc7074"
      },
      "execution_count": 22,
      "outputs": [
        {
          "output_type": "stream",
          "name": "stdout",
          "text": [
            "train set:  (60000, 28, 28) (60000,)\n",
            "test  set:  (10000, 28, 28) (10000,)\n"
          ]
        }
      ]
    },
    {
      "cell_type": "code",
      "source": [
        "fig, axes = plt.subplots(3, 5)\n",
        "fig.set_size_inches(8, 5)\n",
        "\n",
        "for i in range(15):\n",
        "    ax = axes[i//5, i%5]\n",
        "    # imshow로 이미지 시각화\n",
        "    ax.imshow(x_train[i], cmap='gray')\n",
        "    ax.axis('off')\n",
        "    ax.set_title(str(y_train[i]))\n",
        "\n",
        "plt.tight_layout()\n",
        "plt.show()"
      ],
      "metadata": {
        "colab": {
          "base_uri": "https://localhost:8080/",
          "height": 371
        },
        "id": "a5aG4XR4MNh9",
        "outputId": "41cde53c-8c99-4cfa-a688-cd2c6203aed3"
      },
      "execution_count": 23,
      "outputs": [
        {
          "output_type": "display_data",
          "data": {
            "text/plain": [
              "<Figure size 576x360 with 15 Axes>"
            ],
            "image/png": "[encoded data removed]"
          },
          "metadata": {
            "needs_background": "light"
          }
        }
      ]
    },
    {
      "cell_type": "markdown",
      "source": [
        "### **3-2. 데이터 전처리**"
      ],
      "metadata": {
        "id": "NF_WanN68brG"
      }
    },
    {
      "cell_type": "code",
      "source": [
        "x_train[0, 10:15, 10:15]"
      ],
      "metadata": {
        "colab": {
          "base_uri": "https://localhost:8080/"
        },
        "id": "LV_LW1faMSvS",
        "outputId": "7fb34fb7-ca97-42f6-93e4-8e1fbaabb317"
      },
      "execution_count": 24,
      "outputs": [
        {
          "output_type": "execute_result",
          "data": {
            "text/plain": [
              "array([[  1, 154, 253,  90,   0],\n",
              "       [  0, 139, 253, 190,   2],\n",
              "       [  0,  11, 190, 253,  70],\n",
              "       [  0,   0,  35, 241, 225],\n",
              "       [  0,   0,   0,  81, 240]], dtype=uint8)"
            ]
          },
          "metadata": {},
          "execution_count": 24
        }
      ]
    },
    {
      "cell_type": "code",
      "source": [
        "print(f'정규화 전] 최소값: {x_train.min()}, 최대값: {x_train.max()}')\n",
        "\n",
        "# 데이터 정규화\n",
        "x_train = x_train / x_train.max()\n",
        "\n",
        "print(f'정규화 후] 최소값: {x_train.min()}, 최대값: {x_train.max()}')"
      ],
      "metadata": {
        "colab": {
          "base_uri": "https://localhost:8080/"
        },
        "id": "vpXRtuBkMTUD",
        "outputId": "95d3ec1d-89d0-4c0b-ce6a-00a0107063b5"
      },
      "execution_count": 25,
      "outputs": [
        {
          "output_type": "stream",
          "name": "stdout",
          "text": [
            "정규화 전] 최소값: 0, 최대값: 255\n",
            "정규화 후] 최소값: 0.0, 최대값: 1.0\n"
          ]
        }
      ]
    },
    {
      "cell_type": "code",
      "source": [
        "x_train[0, 10:15, 10:15]"
      ],
      "metadata": {
        "colab": {
          "base_uri": "https://localhost:8080/"
        },
        "id": "MmzsJN1xMUZ5",
        "outputId": "badae2a9-edb6-458c-a1bb-fe9bb32f5202"
      },
      "execution_count": 26,
      "outputs": [
        {
          "output_type": "execute_result",
          "data": {
            "text/plain": [
              "array([[0.00392157, 0.60392157, 0.99215686, 0.35294118, 0.        ],\n",
              "       [0.        , 0.54509804, 0.99215686, 0.74509804, 0.00784314],\n",
              "       [0.        , 0.04313725, 0.74509804, 0.99215686, 0.2745098 ],\n",
              "       [0.        , 0.        , 0.1372549 , 0.94509804, 0.88235294],\n",
              "       [0.        , 0.        , 0.        , 0.31764706, 0.94117647]])"
            ]
          },
          "metadata": {},
          "execution_count": 26
        }
      ]
    },
    {
      "cell_type": "markdown",
      "source": [
        "### **3-3. Flatten 레이어**"
      ],
      "metadata": {
        "id": "bj92MjZD8dM-"
      }
    },
    {
      "cell_type": "markdown",
      "source": [
        ": 정규화 과정 이후에도 원본 배열 형태 유지 / 개별 데이터 값의 범위는 축소"
      ],
      "metadata": {
        "id": "aGj9IOyMMXxN"
      }
    },
    {
      "cell_type": "code",
      "source": [
        "print(f'변경전 shape: {x_train.shape}')\n",
        "print(f'1D으로 shape 변경 후: {x_train.reshape(60000, -1).shape}')"
      ],
      "metadata": {
        "colab": {
          "base_uri": "https://localhost:8080/"
        },
        "id": "9q_1FAxhMfTq",
        "outputId": "d43a5b62-a3aa-46b8-ccb6-a010c41921ad"
      },
      "execution_count": 27,
      "outputs": [
        {
          "output_type": "stream",
          "name": "stdout",
          "text": [
            "변경전 shape: (60000, 28, 28)\n",
            "1D으로 shape 변경 후: (60000, 784)\n"
          ]
        }
      ]
    },
    {
      "cell_type": "code",
      "source": [
        "print(f'변경전 shape: {x_train.shape}')\n",
        "\n",
        "#Flatten 레이어 적용\n",
        "print(f'Flatten 적용 후: {tf.keras.layers.Flatten()(x_train).shape}')"
      ],
      "metadata": {
        "colab": {
          "base_uri": "https://localhost:8080/"
        },
        "id": "8ohQ8AlDMgdq",
        "outputId": "d3deffaa-c165-412b-e0a7-a4d29167894c"
      },
      "execution_count": 28,
      "outputs": [
        {
          "output_type": "stream",
          "name": "stdout",
          "text": [
            "변경전 shape: (60000, 28, 28)\n",
            "Flatten 적용 후: (60000, 784)\n"
          ]
        }
      ]
    },
    {
      "cell_type": "markdown",
      "source": [
        "### **3-4. 활성화 함수**"
      ],
      "metadata": {
        "id": "qyTmSSIz8gfO"
      }
    },
    {
      "cell_type": "markdown",
      "source": [
        ": 입력을 비선형 출력으로 변환"
      ],
      "metadata": {
        "id": "6IVIovtWMjtB"
      }
    },
    {
      "cell_type": "code",
      "source": [
        "tf.keras.layers.Dense(128, activation='relu')"
      ],
      "metadata": {
        "colab": {
          "base_uri": "https://localhost:8080/"
        },
        "id": "kXfr3h9eMl-n",
        "outputId": "ea48b43c-b9ea-4518-9197-97ba2f56920e"
      },
      "execution_count": 29,
      "outputs": [
        {
          "output_type": "execute_result",
          "data": {
            "text/plain": [
              "<keras.layers.core.dense.Dense at 0x7f3526afa8d0>"
            ]
          },
          "metadata": {},
          "execution_count": 29
        }
      ]
    },
    {
      "cell_type": "code",
      "source": [
        "model = tf.keras.Sequential([\n",
        "    tf.keras.layers.Dense(128), \n",
        "    tf.keras.layers.Activation('relu')\n",
        "])"
      ],
      "metadata": {
        "id": "-KCmzMTpMnFb"
      },
      "execution_count": 30,
      "outputs": []
    },
    {
      "cell_type": "markdown",
      "source": [
        "### **3-5. 입력과 출력**"
      ],
      "metadata": {
        "id": "WoFv1jLU8kLG"
      }
    },
    {
      "cell_type": "code",
      "source": [
        "model = tf.keras.Sequential([\n",
        "        tf.keras.layers.Flatten(input_shape=(28, 28)), # x_train shape : (60000, 28, 28)\n",
        "        tf.keras.layers.Dense(256, activation='relu'), \n",
        "        tf.keras.layers.Dense(64, activation='relu'), \n",
        "        tf.keras.layers.Dense(32, activation='relu'), \n",
        "        # 노드=10개(클래스 개수와 동일) # mnist는 0~9까지 총 10개의 클래스로 구성\n",
        "        tf.keras.layers.Dense(10, activation='softmax'), \n",
        "])"
      ],
      "metadata": {
        "id": "CibBJU_uMqlY"
      },
      "execution_count": 31,
      "outputs": []
    },
    {
      "cell_type": "markdown",
      "source": [
        "**다중 분류** : 출력층의 노드 개수가 2개 이상  \n",
        "> softmax 활성화 함수  \n",
        "\n",
        "**이진 분류** : 출력층 노드 개수를 1개로 설정  \n",
        "> sigmoid 활성화 함수\n"
      ],
      "metadata": {
        "id": "ZdXPJ3VVMyxf"
      }
    },
    {
      "cell_type": "code",
      "source": [
        "tf.keras.layers.Dense(1, activation='sigmoid')\n",
        "\n",
        "tf.keras.layers.Dense(10, activation='softmax')"
      ],
      "metadata": {
        "colab": {
          "base_uri": "https://localhost:8080/"
        },
        "id": "en8wq4KEMvCj",
        "outputId": "67ac3e0f-c040-455a-d9ed-109043528d7d"
      },
      "execution_count": 32,
      "outputs": [
        {
          "output_type": "execute_result",
          "data": {
            "text/plain": [
              "<keras.layers.core.dense.Dense at 0x7f3526aacbd0>"
            ]
          },
          "metadata": {},
          "execution_count": 32
        }
      ]
    },
    {
      "cell_type": "markdown",
      "source": [
        "### **3-6. 손실함수**"
      ],
      "metadata": {
        "id": "Mk4auFSl8moC"
      }
    },
    {
      "cell_type": "code",
      "source": [
        "### 이진 분류\n",
        "model.compile(loss='binary_crossentropy')"
      ],
      "metadata": {
        "id": "lBLz0w1zNBMx"
      },
      "execution_count": 33,
      "outputs": []
    },
    {
      "cell_type": "code",
      "source": [
        "### 다중 분류\n",
        "\n",
        "model.compile(loss='categorical_crossentropy')\n",
        "\n",
        "model.compile(loss='sparse_categorical_crossentropy')"
      ],
      "metadata": {
        "id": "CC3lDJsUNCoW"
      },
      "execution_count": 34,
      "outputs": []
    },
    {
      "cell_type": "markdown",
      "source": [
        "### **3-7. 옵티마이저**"
      ],
      "metadata": {
        "id": "T68UAxm68pao"
      }
    },
    {
      "cell_type": "markdown",
      "source": [
        ": 손실을 낮추기 위해 신경망의 가중치와 학습률과 같은 신경망의 속성을 변경하는 데 사용"
      ],
      "metadata": {
        "id": "0UMFE75kNR_w"
      }
    },
    {
      "cell_type": "code",
      "source": [
        "# 클래스 인스턴스로 지정\n",
        "adam = tf.keras.optimizers.Adam(lr=0.001)\n",
        "model.compile(optimizer=adam)\n",
        "\n",
        "# 문자열로 지정\n",
        "model.compile(optimizer='adam')"
      ],
      "metadata": {
        "colab": {
          "base_uri": "https://localhost:8080/"
        },
        "id": "3zN8q29ANXEM",
        "outputId": "1c52f8de-2de1-4020-a055-fa5cf41b95f9"
      },
      "execution_count": 35,
      "outputs": [
        {
          "output_type": "stream",
          "name": "stderr",
          "text": [
            "/usr/local/lib/python3.7/dist-packages/keras/optimizer_v2/adam.py:105: UserWarning: The `lr` argument is deprecated, use `learning_rate` instead.\n",
            "  super(Adam, self).__init__(name, **kwargs)\n"
          ]
        }
      ]
    },
    {
      "cell_type": "markdown",
      "source": [
        "### **3-8 평가지표**"
      ],
      "metadata": {
        "id": "nbWJlquw8sxO"
      }
    },
    {
      "cell_type": "code",
      "source": [
        "### 클래스 인스턴스로 지정\n",
        "acc = tf.keras.metrics.SparseCategoricalAccuracy()\n",
        "\n",
        "model.compile(optimizer='adam', \n",
        "              loss='sparse_categorical_crossentropy', \n",
        "              metrics=[acc])"
      ],
      "metadata": {
        "id": "E7qNiv92Ncoc"
      },
      "execution_count": 36,
      "outputs": []
    },
    {
      "cell_type": "code",
      "source": [
        "### 문자열로 지정\n",
        "model.compile(optimizer='adam', \n",
        "              loss='sparse_categorical_crossentropy', \n",
        "              metrics=['accuracy'])"
      ],
      "metadata": {
        "id": "CWCqLe0vNd7T"
      },
      "execution_count": 37,
      "outputs": []
    },
    {
      "cell_type": "markdown",
      "source": [
        "### **3-9 훈련**"
      ],
      "metadata": {
        "id": "POJUbiPk84PJ"
      }
    },
    {
      "cell_type": "code",
      "source": [
        "# 훈련\n",
        "model.fit(x_train, y_train, \n",
        "          # 검증 셋 지정\n",
        "          validation_data=(x_test, y_test), \n",
        "          epochs=10, \n",
        "          )"
      ],
      "metadata": {
        "colab": {
          "base_uri": "https://localhost:8080/"
        },
        "id": "S6rsbqWiNhVo",
        "outputId": "02726abc-608a-47db-eb85-08b8fada485e"
      },
      "execution_count": 38,
      "outputs": [
        {
          "output_type": "stream",
          "name": "stdout",
          "text": [
            "Epoch 1/10\n",
            "1875/1875 [==============================] - 7s 3ms/step - loss: 0.2286 - accuracy: 0.9319 - val_loss: 18.9466 - val_accuracy: 0.9610\n",
            "Epoch 2/10\n",
            "1875/1875 [==============================] - 7s 4ms/step - loss: 0.0926 - accuracy: 0.9711 - val_loss: 14.7069 - val_accuracy: 0.9709\n",
            "Epoch 3/10\n",
            "1875/1875 [==============================] - 6s 3ms/step - loss: 0.0642 - accuracy: 0.9797 - val_loss: 15.6514 - val_accuracy: 0.9723\n",
            "Epoch 4/10\n",
            "1875/1875 [==============================] - 6s 3ms/step - loss: 0.0511 - accuracy: 0.9836 - val_loss: 14.0870 - val_accuracy: 0.9780\n",
            "Epoch 5/10\n",
            "1875/1875 [==============================] - 6s 3ms/step - loss: 0.0390 - accuracy: 0.9876 - val_loss: 20.4101 - val_accuracy: 0.9695\n",
            "Epoch 6/10\n",
            "1875/1875 [==============================] - 6s 3ms/step - loss: 0.0318 - accuracy: 0.9897 - val_loss: 18.1750 - val_accuracy: 0.9769\n",
            "Epoch 7/10\n",
            "1875/1875 [==============================] - 6s 3ms/step - loss: 0.0278 - accuracy: 0.9911 - val_loss: 21.4754 - val_accuracy: 0.9736\n",
            "Epoch 8/10\n",
            "1875/1875 [==============================] - 7s 4ms/step - loss: 0.0248 - accuracy: 0.9919 - val_loss: 18.1321 - val_accuracy: 0.9760\n",
            "Epoch 9/10\n",
            "1875/1875 [==============================] - 6s 3ms/step - loss: 0.0202 - accuracy: 0.9936 - val_loss: 20.3263 - val_accuracy: 0.9787\n",
            "Epoch 10/10\n",
            "1875/1875 [==============================] - 6s 3ms/step - loss: 0.0208 - accuracy: 0.9935 - val_loss: 21.6340 - val_accuracy: 0.9762\n"
          ]
        },
        {
          "output_type": "execute_result",
          "data": {
            "text/plain": [
              "<keras.callbacks.History at 0x7f3526a68bd0>"
            ]
          },
          "metadata": {},
          "execution_count": 38
        }
      ]
    },
    {
      "cell_type": "markdown",
      "source": [
        "### **3-10 평가**"
      ],
      "metadata": {
        "id": "W8WxpIhD87BH"
      }
    },
    {
      "cell_type": "code",
      "source": [
        "test_loss, test_acc = model.evaluate(x_test, y_test)\n",
        "\n",
        "print('검증 셋 정확도:', test_acc)"
      ],
      "metadata": {
        "colab": {
          "base_uri": "https://localhost:8080/"
        },
        "id": "7zOkfYZ5Njn2",
        "outputId": "a25e1f09-f07a-4546-cccd-e4acf3d35507"
      },
      "execution_count": 39,
      "outputs": [
        {
          "output_type": "stream",
          "name": "stdout",
          "text": [
            "313/313 [==============================] - 0s 2ms/step - loss: 21.6340 - accuracy: 0.9762\n",
            "검증 셋 정확도: 0.9761999845504761\n"
          ]
        }
      ]
    },
    {
      "cell_type": "markdown",
      "source": [
        "#### **3-11 예측**"
      ],
      "metadata": {
        "id": "Vn_vsChINlUz"
      }
    },
    {
      "cell_type": "code",
      "source": [
        "predictions = model.predict(x_test)\n",
        "\n",
        "predictions[0]"
      ],
      "metadata": {
        "colab": {
          "base_uri": "https://localhost:8080/"
        },
        "id": "3FB2KIqzNpvO",
        "outputId": "ed4a5ba6-b749-46d4-ed82-22d0fe8f9af1"
      },
      "execution_count": 40,
      "outputs": [
        {
          "output_type": "execute_result",
          "data": {
            "text/plain": [
              "array([0., 0., 0., 0., 0., 0., 0., 1., 0., 0.], dtype=float32)"
            ]
          },
          "metadata": {},
          "execution_count": 40
        }
      ]
    },
    {
      "cell_type": "code",
      "source": [
        "import numpy as np\n",
        "\n",
        "print(np.argmax(predictions[0]))\n",
        "\n",
        "print(np.argmax(predictions[:10], axis=1))"
      ],
      "metadata": {
        "colab": {
          "base_uri": "https://localhost:8080/"
        },
        "id": "Dev0IJQPNtm3",
        "outputId": "669ecf61-7849-44a2-fbd6-0bf82ea1fe74"
      },
      "execution_count": 41,
      "outputs": [
        {
          "output_type": "stream",
          "name": "stdout",
          "text": [
            "7\n",
            "[7 2 1 0 4 1 4 9 5 9]\n"
          ]
        }
      ]
    },
    {
      "cell_type": "code",
      "source": [
        "# 데이터 시각화\n",
        "import matplotlib.pyplot as plt\n",
        "\n",
        "def get_one_result(idx):\n",
        "    img, y_true, y_pred, confidence = x_test[idx], y_test[idx], np.argmax(predictions[idx]), 100*np.max(predictions[idx])\n",
        "    return img, y_true, y_pred, confidence\n",
        "    \n",
        "# canvas 생성\n",
        "fig, axes = plt.subplots(3, 5)\n",
        "fig.set_size_inches(12, 10)\n",
        "for i in range(15):\n",
        "    ax = axes[i//5, i%5]\n",
        "    img, y_true, y_pred, confidence = get_one_result(i)\n",
        "    # imshow로 이미지 시각화\n",
        "    ax.imshow(img, cmap='gray')\n",
        "    ax.set_xticks([])\n",
        "    ax.set_yticks([])\n",
        "    ax.set_title(f'True: {y_true}')\n",
        "    ax.set_xlabel(f'Prediction: {y_pred}\\nConfidence: ({confidence:.2f} %)')\n",
        "plt.tight_layout()\n",
        "plt.show()"
      ],
      "metadata": {
        "colab": {
          "base_uri": "https://localhost:8080/",
          "height": 696
        },
        "id": "nriSdv_UNw0b",
        "outputId": "ba257819-311d-4135-f299-57eb07900c8b"
      },
      "execution_count": 42,
      "outputs": [
        {
          "output_type": "display_data",
          "data": {
            "text/plain": [
              "<Figure size 864x720 with 15 Axes>"
            ],
            "image/png": "[encoded data removed]"
          },
          "metadata": {}
        }
      ]
    },
    {
      "cell_type": "markdown",
      "source": [
        "## **04 모델 세부 설정**"
      ],
      "metadata": {
        "id": "aQFAZ-WBNz1m"
      }
    },
    {
      "cell_type": "code",
      "source": [
        "import tensorflow as tf\n",
        "\n",
        "# 케라스의 내장 데이터셋에서 mnist 데이터셋을 로드\n",
        "mnist = tf.keras.datasets.mnist\n",
        "\n",
        "# load_data()로 데이터셋 로드\n",
        "(x_train, y_train), (x_test, y_test) = mnist.load_data()\n",
        "\n",
        "# 로드된 데이터셋 확인\n",
        "print('train set: ', x_train.shape, y_train.shape)\n",
        "print('test  set: ', x_test.shape, y_test.shape)\n",
        "\n",
        "# 데이터 정규화\n",
        "x_train = x_train / x_train.max() # max: 255\n",
        "x_test = x_test / x_test.max() # max: 255"
      ],
      "metadata": {
        "colab": {
          "base_uri": "https://localhost:8080/"
        },
        "id": "ZyrsygmoN5yE",
        "outputId": "777087bb-eb46-46ac-eaa5-7d9c8009bea3"
      },
      "execution_count": 43,
      "outputs": [
        {
          "output_type": "stream",
          "name": "stdout",
          "text": [
            "train set:  (60000, 28, 28) (60000,)\n",
            "test  set:  (10000, 28, 28) (10000,)\n"
          ]
        }
      ]
    },
    {
      "cell_type": "markdown",
      "source": [
        "#### **4-1. 초기값 설정**"
      ],
      "metadata": {
        "id": "BGp0NtrqN4Fp"
      }
    },
    {
      "cell_type": "code",
      "source": [
        "dense = tf.keras.layers.Dense(256, activation='relu')\n",
        "dense.get_config()['kernel_initializer']"
      ],
      "metadata": {
        "colab": {
          "base_uri": "https://localhost:8080/"
        },
        "id": "CKGiQ68iN90w",
        "outputId": "cbc13952-a2a9-4635-d852-2b54b491c94d"
      },
      "execution_count": 44,
      "outputs": [
        {
          "output_type": "execute_result",
          "data": {
            "text/plain": [
              "{'class_name': 'GlorotUniform', 'config': {'seed': None}}"
            ]
          },
          "metadata": {},
          "execution_count": 44
        }
      ]
    },
    {
      "cell_type": "code",
      "source": [
        "# 문자열 초기화\n",
        "dense = tf.keras.layers.Dense(256, kernel_initializer='he_normal', activation='relu')\n",
        "print(dense.get_config()['kernel_initializer'])\n",
        "\n",
        "# 클래스 인스턴스 초기화\n",
        "he_normal = tf.keras.initializers.HeNormal()\n",
        "dense = tf.keras.layers.Dense(256, kernel_initializer=he_normal, activation='relu')\n",
        "print(dense.get_config()['kernel_initializer'])"
      ],
      "metadata": {
        "colab": {
          "base_uri": "https://localhost:8080/"
        },
        "id": "8TvB_dDKN-33",
        "outputId": "e07ac0dd-7fdd-4587-8ce8-3e749ee26ad4"
      },
      "execution_count": 45,
      "outputs": [
        {
          "output_type": "stream",
          "name": "stdout",
          "text": [
            "{'class_name': 'HeNormal', 'config': {'seed': None}}\n",
            "{'class_name': 'HeNormal', 'config': {'seed': None}}\n"
          ]
        }
      ]
    },
    {
      "cell_type": "markdown",
      "source": [
        "#### **4-2. 규제(Regularization)**"
      ],
      "metadata": {
        "id": "kEMkS2jIOAfq"
      }
    },
    {
      "cell_type": "code",
      "source": [
        "#기본값 확인\n",
        "dense = tf.keras.layers.Dense(256, activation='relu')\n",
        "dense.get_config()"
      ],
      "metadata": {
        "colab": {
          "base_uri": "https://localhost:8080/"
        },
        "id": "dfcbvI60OIaK",
        "outputId": "98e88315-fa4a-45b0-ac7f-0fcd47724694"
      },
      "execution_count": 46,
      "outputs": [
        {
          "output_type": "execute_result",
          "data": {
            "text/plain": [
              "{'activation': 'relu',\n",
              " 'activity_regularizer': None,\n",
              " 'bias_constraint': None,\n",
              " 'bias_initializer': {'class_name': 'Zeros', 'config': {}},\n",
              " 'bias_regularizer': None,\n",
              " 'dtype': 'float32',\n",
              " 'kernel_constraint': None,\n",
              " 'kernel_initializer': {'class_name': 'GlorotUniform',\n",
              "  'config': {'seed': None}},\n",
              " 'kernel_regularizer': None,\n",
              " 'name': 'dense_25',\n",
              " 'trainable': True,\n",
              " 'units': 256,\n",
              " 'use_bias': True}"
            ]
          },
          "metadata": {},
          "execution_count": 46
        }
      ]
    },
    {
      "cell_type": "code",
      "source": [
        "#L1 규제 적용\n",
        "dense = tf.keras.layers.Dense(256, kernel_regularizer='l1', activation='relu')\n",
        "print(dense.get_config()['kernel_regularizer'])\n",
        "\n",
        "#클래스 인스턴스 적용, alpha 값 변경\n",
        "regularizer = tf.keras.regularizers.l1(l1=0.1)\n",
        "dense = tf.keras.layers.Dense(256, kernel_regularizer=regularizer, activation='relu')\n",
        "print(dense.get_config()['kernel_regularizer'])"
      ],
      "metadata": {
        "colab": {
          "base_uri": "https://localhost:8080/"
        },
        "id": "FLtwkphBOI01",
        "outputId": "7f56524c-6ebc-49e4-b3a8-56bc135971ef"
      },
      "execution_count": 47,
      "outputs": [
        {
          "output_type": "stream",
          "name": "stdout",
          "text": [
            "{'class_name': 'L1', 'config': {'l1': 0.009999999776482582}}\n",
            "{'class_name': 'L1', 'config': {'l1': 0.10000000149011612}}\n"
          ]
        }
      ]
    },
    {
      "cell_type": "markdown",
      "source": [
        "#### **4-3. 드롭아웃(Dropout)**"
      ],
      "metadata": {
        "id": "uVBTf2EfOMkQ"
      }
    },
    {
      "cell_type": "code",
      "source": [
        "# 25%의 노드 삭제\n",
        "tf.keras.layers.Dropout(0.25)"
      ],
      "metadata": {
        "colab": {
          "base_uri": "https://localhost:8080/"
        },
        "id": "8U3cSGR5OOmf",
        "outputId": "2c33ba40-f6bc-42ab-8d01-c7fb9ec3baca"
      },
      "execution_count": 48,
      "outputs": [
        {
          "output_type": "execute_result",
          "data": {
            "text/plain": [
              "<keras.layers.core.dropout.Dropout at 0x7f3526a62090>"
            ]
          },
          "metadata": {},
          "execution_count": 48
        }
      ]
    },
    {
      "cell_type": "markdown",
      "source": [
        "#### **4-4. 배치 정규화(Batch Normalization)**"
      ],
      "metadata": {
        "id": "nLE4dNwCORLW"
      }
    },
    {
      "cell_type": "code",
      "source": [
        "# Model A: Dense + ReLU\n",
        "model_a = tf.keras.Sequential([\n",
        "          tf.keras.layers.Flatten(input_shape=(28, 28)),\n",
        "          tf.keras.layers.Dense(64, activation='relu'),\n",
        "          tf.keras.layers.Dense(32, activation='relu'),\n",
        "          tf.keras.layers.Dense(10, activation='softmax'),\n",
        "])\n",
        "model_a.summary()"
      ],
      "metadata": {
        "colab": {
          "base_uri": "https://localhost:8080/"
        },
        "id": "pOsfGWcKOVNv",
        "outputId": "a55303bb-2e30-4820-e6a8-969a5b6b4f47"
      },
      "execution_count": 49,
      "outputs": [
        {
          "output_type": "stream",
          "name": "stdout",
          "text": [
            "Model: \"sequential_8\"\n",
            "_________________________________________________________________\n",
            " Layer (type)                Output Shape              Param #   \n",
            "=================================================================\n",
            " flatten_2 (Flatten)         (None, 784)               0         \n",
            "                                                                 \n",
            " dense_28 (Dense)            (None, 64)                50240     \n",
            "                                                                 \n",
            " dense_29 (Dense)            (None, 32)                2080      \n",
            "                                                                 \n",
            " dense_30 (Dense)            (None, 10)                330       \n",
            "                                                                 \n",
            "=================================================================\n",
            "Total params: 52,650\n",
            "Trainable params: 52,650\n",
            "Non-trainable params: 0\n",
            "_________________________________________________________________\n"
          ]
        }
      ]
    },
    {
      "cell_type": "code",
      "source": [
        "# Model B: Dense + BatchNorm + ReLU\n",
        "model_b = tf.keras.Sequential([\n",
        "          tf.keras.layers.Flatten(input_shape=(28, 28)),\n",
        "          tf.keras.layers.Dense(64),\n",
        "          # 배치 정규화 적용\n",
        "          tf.keras.layers.BatchNormalization(),\n",
        "          # 배치 정규화 후 활성화 함수 적용\n",
        "          tf.keras.layers.Activation('relu'),\n",
        "\n",
        "          tf.keras.layers.Dense(32),\n",
        "          # 배치 정규화 적용\n",
        "          tf.keras.layers.BatchNormalization(),\n",
        "          # 배치 정규화 후 활성화 함수 적용\n",
        "          tf.keras.layers.Activation('relu'),\n",
        "\n",
        "          tf.keras.layers.Dense(10, activation='softmax'),\n",
        "])\n",
        "model_b.summary()"
      ],
      "metadata": {
        "colab": {
          "base_uri": "https://localhost:8080/"
        },
        "id": "3HA8kZgeOWvZ",
        "outputId": "bb369b44-a437-4372-c3e2-b620584e7e60"
      },
      "execution_count": 50,
      "outputs": [
        {
          "output_type": "stream",
          "name": "stdout",
          "text": [
            "Model: \"sequential_9\"\n",
            "_________________________________________________________________\n",
            " Layer (type)                Output Shape              Param #   \n",
            "=================================================================\n",
            " flatten_3 (Flatten)         (None, 784)               0         \n",
            "                                                                 \n",
            " dense_31 (Dense)            (None, 64)                50240     \n",
            "                                                                 \n",
            " batch_normalization (BatchN  (None, 64)               256       \n",
            " ormalization)                                                   \n",
            "                                                                 \n",
            " activation_1 (Activation)   (None, 64)                0         \n",
            "                                                                 \n",
            " dense_32 (Dense)            (None, 32)                2080      \n",
            "                                                                 \n",
            " batch_normalization_1 (Batc  (None, 32)               128       \n",
            " hNormalization)                                                 \n",
            "                                                                 \n",
            " activation_2 (Activation)   (None, 32)                0         \n",
            "                                                                 \n",
            " dense_33 (Dense)            (None, 10)                330       \n",
            "                                                                 \n",
            "=================================================================\n",
            "Total params: 53,034\n",
            "Trainable params: 52,842\n",
            "Non-trainable params: 192\n",
            "_________________________________________________________________\n"
          ]
        }
      ]
    },
    {
      "cell_type": "markdown",
      "source": [
        "#### **4-5. 활성화 함수**"
      ],
      "metadata": {
        "id": "WI3QOqHlObXY"
      }
    },
    {
      "cell_type": "code",
      "source": [
        "# LeakyReLU 기본 설정\n",
        "tf.keras.layers.LeakyReLU()\n",
        "\n",
        "# LeakyReLU, alpha=0.2로 변경\n",
        "tf.keras.layers.LeakyReLU(alpha=0.2)"
      ],
      "metadata": {
        "colab": {
          "base_uri": "https://localhost:8080/"
        },
        "id": "7EqCvgeOOdf_",
        "outputId": "1c8a377d-f13d-4ba8-ecd0-c5228ee761e2"
      },
      "execution_count": 51,
      "outputs": [
        {
          "output_type": "execute_result",
          "data": {
            "text/plain": [
              "<keras.layers.advanced_activations.LeakyReLU at 0x7f3524d4e750>"
            ]
          },
          "metadata": {},
          "execution_count": 51
        }
      ]
    },
    {
      "cell_type": "code",
      "source": [
        "# Model C: Dense + BatchNorm + LeakyReLU(0.2)\n",
        "model_c = tf.keras.Sequential([\n",
        "          tf.keras.layers.Flatten(input_shape=(28, 28)),\n",
        "          tf.keras.layers.Dense(64),\n",
        "          # 배치 정규화 적용\n",
        "          tf.keras.layers.BatchNormalization(),\n",
        "          # LeakyReLU, alpha=0.2 적용\n",
        "          tf.keras.layers.LeakyReLU(alpha=0.2),\n",
        "\n",
        "          tf.keras.layers.Dense(32),\n",
        "          # 배치 정규화 적용\n",
        "          tf.keras.layers.BatchNormalization(),\n",
        "          # LeakyReLU, alpha=0.2 적용\n",
        "          tf.keras.layers.LeakyReLU(alpha=0.2),\n",
        "\n",
        "          tf.keras.layers.Dense(10, activation='softmax'),\n",
        "])\n",
        "\n",
        "# 모델 요약\n",
        "model_c.summary()"
      ],
      "metadata": {
        "colab": {
          "base_uri": "https://localhost:8080/"
        },
        "id": "zUARnFxOOe1-",
        "outputId": "eabe22ff-70ee-40cb-f8b5-225955d1e9da"
      },
      "execution_count": 52,
      "outputs": [
        {
          "output_type": "stream",
          "name": "stdout",
          "text": [
            "Model: \"sequential_10\"\n",
            "_________________________________________________________________\n",
            " Layer (type)                Output Shape              Param #   \n",
            "=================================================================\n",
            " flatten_4 (Flatten)         (None, 784)               0         \n",
            "                                                                 \n",
            " dense_34 (Dense)            (None, 64)                50240     \n",
            "                                                                 \n",
            " batch_normalization_2 (Batc  (None, 64)               256       \n",
            " hNormalization)                                                 \n",
            "                                                                 \n",
            " leaky_re_lu_2 (LeakyReLU)   (None, 64)                0         \n",
            "                                                                 \n",
            " dense_35 (Dense)            (None, 32)                2080      \n",
            "                                                                 \n",
            " batch_normalization_3 (Batc  (None, 32)               128       \n",
            " hNormalization)                                                 \n",
            "                                                                 \n",
            " leaky_re_lu_3 (LeakyReLU)   (None, 32)                0         \n",
            "                                                                 \n",
            " dense_36 (Dense)            (None, 10)                330       \n",
            "                                                                 \n",
            "=================================================================\n",
            "Total params: 53,034\n",
            "Trainable params: 52,842\n",
            "Non-trainable params: 192\n",
            "_________________________________________________________________\n"
          ]
        }
      ]
    },
    {
      "cell_type": "code",
      "source": [
        "model_a.compile(optimizer='adam', loss='sparse_categorical_crossentropy', metrics=['accuracy'])\n",
        "model_b.compile(optimizer='adam', loss='sparse_categorical_crossentropy', metrics=['accuracy'])\n",
        "model_c.compile(optimizer='adam', loss='sparse_categorical_crossentropy', metrics=['accuracy'])\n",
        "\n",
        "# Model A: Dense + ReLU\n",
        "history_a = model_a.fit(x_train, y_train, \n",
        "                        validation_data=(x_test, y_test), \n",
        "                        epochs=10)\n",
        "\n",
        "# Model B: Dense + BatchNorm + ReLU\n",
        "history_b = model_b.fit(x_train, y_train, \n",
        "                        validation_data=(x_test, y_test), \n",
        "                        epochs=10)\n",
        "\n",
        "# Model C: Dense + BatchNorm + LeakyReLU(0.2)\n",
        "history_c = model_c.fit(x_train, y_train, \n",
        "                        validation_data=(x_test, y_test), \n",
        "                        epochs=10)"
      ],
      "metadata": {
        "colab": {
          "base_uri": "https://localhost:8080/"
        },
        "id": "cVOorhKROjmu",
        "outputId": "c2b52727-9356-4ed8-8420-d12d3db799cc"
      },
      "execution_count": 53,
      "outputs": [
        {
          "output_type": "stream",
          "name": "stdout",
          "text": [
            "Epoch 1/10\n",
            "1875/1875 [==============================] - 4s 2ms/step - loss: 0.2941 - accuracy: 0.9151 - val_loss: 0.1657 - val_accuracy: 0.9504\n",
            "Epoch 2/10\n",
            "1875/1875 [==============================] - 3s 2ms/step - loss: 0.1384 - accuracy: 0.9586 - val_loss: 0.1159 - val_accuracy: 0.9643\n",
            "Epoch 3/10\n",
            "1875/1875 [==============================] - 4s 2ms/step - loss: 0.1023 - accuracy: 0.9685 - val_loss: 0.1149 - val_accuracy: 0.9650\n",
            "Epoch 4/10\n",
            "1875/1875 [==============================] - 3s 2ms/step - loss: 0.0799 - accuracy: 0.9749 - val_loss: 0.0965 - val_accuracy: 0.9713\n",
            "Epoch 5/10\n",
            "1875/1875 [==============================] - 3s 2ms/step - loss: 0.0663 - accuracy: 0.9796 - val_loss: 0.0973 - val_accuracy: 0.9697\n",
            "Epoch 6/10\n",
            "1875/1875 [==============================] - 3s 2ms/step - loss: 0.0556 - accuracy: 0.9826 - val_loss: 0.0834 - val_accuracy: 0.9749\n",
            "Epoch 7/10\n",
            "1875/1875 [==============================] - 3s 2ms/step - loss: 0.0469 - accuracy: 0.9854 - val_loss: 0.0848 - val_accuracy: 0.9750\n",
            "Epoch 8/10\n",
            "1875/1875 [==============================] - 3s 2ms/step - loss: 0.0412 - accuracy: 0.9869 - val_loss: 0.0977 - val_accuracy: 0.9719\n",
            "Epoch 9/10\n",
            "1875/1875 [==============================] - 3s 2ms/step - loss: 0.0366 - accuracy: 0.9886 - val_loss: 0.1051 - val_accuracy: 0.9712\n",
            "Epoch 10/10\n",
            "1875/1875 [==============================] - 3s 2ms/step - loss: 0.0321 - accuracy: 0.9898 - val_loss: 0.0937 - val_accuracy: 0.9738\n",
            "Epoch 1/10\n",
            "1875/1875 [==============================] - 5s 2ms/step - loss: 0.3171 - accuracy: 0.9130 - val_loss: 0.1229 - val_accuracy: 0.9628\n",
            "Epoch 2/10\n",
            "1875/1875 [==============================] - 4s 2ms/step - loss: 0.1415 - accuracy: 0.9571 - val_loss: 0.0975 - val_accuracy: 0.9707\n",
            "Epoch 3/10\n",
            "1875/1875 [==============================] - 4s 2ms/step - loss: 0.1133 - accuracy: 0.9654 - val_loss: 0.0885 - val_accuracy: 0.9730\n",
            "Epoch 4/10\n",
            "1875/1875 [==============================] - 4s 2ms/step - loss: 0.0937 - accuracy: 0.9709 - val_loss: 0.0856 - val_accuracy: 0.9739\n",
            "Epoch 5/10\n",
            "1875/1875 [==============================] - 4s 2ms/step - loss: 0.0826 - accuracy: 0.9738 - val_loss: 0.0776 - val_accuracy: 0.9752\n",
            "Epoch 6/10\n",
            "1875/1875 [==============================] - 4s 2ms/step - loss: 0.0743 - accuracy: 0.9757 - val_loss: 0.0746 - val_accuracy: 0.9768\n",
            "Epoch 7/10\n",
            "1875/1875 [==============================] - 4s 2ms/step - loss: 0.0662 - accuracy: 0.9787 - val_loss: 0.0722 - val_accuracy: 0.9762\n",
            "Epoch 8/10\n",
            "1875/1875 [==============================] - 4s 2ms/step - loss: 0.0620 - accuracy: 0.9793 - val_loss: 0.0743 - val_accuracy: 0.9771\n",
            "Epoch 9/10\n",
            "1875/1875 [==============================] - 4s 2ms/step - loss: 0.0568 - accuracy: 0.9814 - val_loss: 0.0740 - val_accuracy: 0.9779\n",
            "Epoch 10/10\n",
            "1875/1875 [==============================] - 4s 2ms/step - loss: 0.0546 - accuracy: 0.9819 - val_loss: 0.0690 - val_accuracy: 0.9788\n",
            "Epoch 1/10\n",
            "1875/1875 [==============================] - 5s 2ms/step - loss: 0.3317 - accuracy: 0.9064 - val_loss: 0.1568 - val_accuracy: 0.9536\n",
            "Epoch 2/10\n",
            "1875/1875 [==============================] - 4s 2ms/step - loss: 0.1616 - accuracy: 0.9503 - val_loss: 0.1243 - val_accuracy: 0.9625\n",
            "Epoch 3/10\n",
            "1875/1875 [==============================] - 4s 2ms/step - loss: 0.1258 - accuracy: 0.9611 - val_loss: 0.1092 - val_accuracy: 0.9667\n",
            "Epoch 4/10\n",
            "1875/1875 [==============================] - 4s 2ms/step - loss: 0.1081 - accuracy: 0.9664 - val_loss: 0.0866 - val_accuracy: 0.9731\n",
            "Epoch 5/10\n",
            "1875/1875 [==============================] - 4s 2ms/step - loss: 0.0957 - accuracy: 0.9704 - val_loss: 0.0963 - val_accuracy: 0.9704\n",
            "Epoch 6/10\n",
            "1875/1875 [==============================] - 4s 2ms/step - loss: 0.0865 - accuracy: 0.9725 - val_loss: 0.0857 - val_accuracy: 0.9758\n",
            "Epoch 7/10\n",
            "1875/1875 [==============================] - 4s 2ms/step - loss: 0.0782 - accuracy: 0.9751 - val_loss: 0.0883 - val_accuracy: 0.9726\n",
            "Epoch 8/10\n",
            "1875/1875 [==============================] - 4s 2ms/step - loss: 0.0736 - accuracy: 0.9760 - val_loss: 0.0766 - val_accuracy: 0.9772\n",
            "Epoch 9/10\n",
            "1875/1875 [==============================] - 4s 2ms/step - loss: 0.0696 - accuracy: 0.9776 - val_loss: 0.0788 - val_accuracy: 0.9765\n",
            "Epoch 10/10\n",
            "1875/1875 [==============================] - 4s 2ms/step - loss: 0.0637 - accuracy: 0.9794 - val_loss: 0.0876 - val_accuracy: 0.9741\n"
          ]
        }
      ]
    },
    {
      "cell_type": "code",
      "source": [
        "import matplotlib.pyplot as plt\n",
        "import numpy as np\n",
        "\n",
        "plt.figure(figsize=(12, 9))\n",
        "plt.plot(np.arange(1, 11), history_a.history['val_loss'], color='navy', linestyle=':')\n",
        "plt.plot(np.arange(1, 11), history_b.history['val_loss'], color='tomato', linestyle='-.')\n",
        "plt.plot(np.arange(1, 11), history_c.history['val_loss'], color='green', linestyle='-')\n",
        "\n",
        "plt.title('Losses', fontsize=20)\n",
        "plt.xlabel('epochs')\n",
        "plt.ylabel('Losses')\n",
        "plt.legend(['ReLU', 'BatchNorm + ReLU','batchnorm + LeakyReLU'], fontsize=12)\n",
        "plt.show()"
      ],
      "metadata": {
        "colab": {
          "base_uri": "https://localhost:8080/",
          "height": 572
        },
        "id": "tvuARgetOlui",
        "outputId": "e6e28dff-c9a5-48ba-f03b-8cfc26cb0613"
      },
      "execution_count": 54,
      "outputs": [
        {
          "output_type": "display_data",
          "data": {
            "text/plain": [
              "<Figure size 864x648 with 1 Axes>"
            ],
            "image/png": "[encoded data removed]"
          },
          "metadata": {
            "needs_background": "light"
          }
        }
      ]
    }
  ]
}