{
  "nbformat": 4,
  "nbformat_minor": 0,
  "metadata": {
    "colab": {
      "name": "0328_ch7.ipynb",
      "provenance": [],
      "collapsed_sections": [],
      "authorship_tag": "ABX9TyPgdGralKC2CFgwkfPwQN1x",
      "include_colab_link": true
    },
    "kernelspec": {
      "name": "python3",
      "display_name": "Python 3"
    },
    "language_info": {
      "name": "python"
    }
  },
  "cells": [
    {
      "cell_type": "markdown",
      "metadata": {
        "id": "view-in-github",
        "colab_type": "text"
      },
      "source": [
        "<a href=\"https://colab.research.google.com/github/HyeJin816/ESAA_22/blob/main/0328_ch7.ipynb\" target=\"_parent\"><img src=\"https://colab.research.google.com/assets/colab-badge.svg\" alt=\"Open In Colab\"/></a>"
      ]
    },
    {
      "cell_type": "markdown",
      "source": [
        "# **Ch.7 앙상블 학습과 랜덤 포레스트**\n",
        "#### 0328(월) 과제 : 핸즈온 245~271p"
      ],
      "metadata": {
        "id": "ogc1h4AQ6v-2"
      }
    },
    {
      "cell_type": "markdown",
      "source": [
        "+ **앙상블 앙법** : 예측기(분류, 회귀 모델)로부터 예측을 수집하면 가장 좋은 모델 하나보다 더 좋은 예측을 얻을 수 있는 학습 알고리즘.  \n",
        "+ **랜덤 포레트스** : 각 개별 트리의 예측을 구하여 결정트리 분류기를 훈련시키고 가장 많은 선택을 받은 클래스를 예측으로 선택.  "
      ],
      "metadata": {
        "id": "cSYu8wdL4Ylr"
      }
    },
    {
      "cell_type": "markdown",
      "source": [
        "-----  \n",
        "## **7.1 투표 기반 분류기**\n"
      ],
      "metadata": {
        "id": "TAGTx7pt7CiA"
      }
    },
    {
      "cell_type": "markdown",
      "source": [
        "+ **직접투표 분류기** : 각 분류기의 예측을 모아서 다수결로 정해지는 분류기 선택\n",
        "> 다수결 투표 분류기가 랜덤추측보다 더 높은 성능인 *'약한 학습기'*라해도 앙상볼은 높은 정확도의 *'강한 학습기'*가 될 수 있음.  \n",
        "+ **큰 수의 법칙** : 반복 횟수가 많아질 수록 확률이 증가  \n",
        "> 적당한 정확도의 분류기로 많은 클래스 예측을 통해 높은 정확도 기대  \n",
        "> 같은 데이터로 훈련시키기 때문에 같은 종류의 오차를 생성해 잘못된 클래스가 발생하고 앙상블의 정확도 저하"
      ],
      "metadata": {
        "id": "-32MqkRY5PiF"
      }
    },
    {
      "cell_type": "code",
      "source": [
        "from sklearn.model_selection import train_test_split\n",
        "from sklearn.datasets import make_moons\n",
        "\n",
        "X, y = make_moons(n_samples=500, noise=0.30, random_state=42)\n",
        "X_train, X_test, y_train, y_test = train_test_split(X, y, random_state=42)"
      ],
      "metadata": {
        "id": "HWgHT3KX7TXQ"
      },
      "execution_count": 1,
      "outputs": []
    },
    {
      "cell_type": "code",
      "source": [
        "from sklearn.ensemble import RandomForestClassifier\n",
        "from sklearn.ensemble import VotingClassifier\n",
        "from sklearn.linear_model import LogisticRegression\n",
        "from sklearn.svm import SVC\n",
        "\n",
        "log_clf = LogisticRegression(solver=\"lbfgs\", random_state=42)\n",
        "rnd_clf = RandomForestClassifier(n_estimators=100, random_state=42)\n",
        "svm_clf = SVC(gamma=\"scale\", random_state=42)\n",
        "\n",
        "voting_clf = VotingClassifier(\n",
        "    estimators=[('lr', log_clf), ('rf', rnd_clf), ('svc', svm_clf)],\n",
        "    voting='hard')\n",
        "\n",
        "voting_clf.fit(X_train, y_train)"
      ],
      "metadata": {
        "colab": {
          "base_uri": "https://localhost:8080/"
        },
        "id": "KYpSvlva7FMm",
        "outputId": "12c508ce-3d65-4a1e-b3e0-30081be376b4"
      },
      "execution_count": 3,
      "outputs": [
        {
          "output_type": "execute_result",
          "data": {
            "text/plain": [
              "VotingClassifier(estimators=[('lr', LogisticRegression(random_state=42)),\n",
              "                             ('rf', RandomForestClassifier(random_state=42)),\n",
              "                             ('svc', SVC(random_state=42))])"
            ]
          },
          "metadata": {},
          "execution_count": 3
        }
      ]
    },
    {
      "cell_type": "code",
      "source": [
        "from sklearn.metrics import accuracy_score\n",
        "\n",
        "for clf in (log_clf, rnd_clf, svm_clf, voting_clf):\n",
        "    clf.fit(X_train, y_train)\n",
        "    y_pred = clf.predict(X_test)\n",
        "    print(clf.__class__.__name__, accuracy_score(y_test, y_pred))"
      ],
      "metadata": {
        "colab": {
          "base_uri": "https://localhost:8080/"
        },
        "id": "11g10WTa7iG_",
        "outputId": "b8520702-7f17-46cb-a323-4ca602392a87"
      },
      "execution_count": 4,
      "outputs": [
        {
          "output_type": "stream",
          "name": "stdout",
          "text": [
            "LogisticRegression 0.864\n",
            "RandomForestClassifier 0.896\n",
            "SVC 0.896\n",
            "VotingClassifier 0.912\n"
          ]
        }
      ]
    },
    {
      "cell_type": "markdown",
      "source": [
        "+ **간접투표** : 모든 분류기가 클래스의 확률을 예측할 수 있으면 전체 예측의 평균으로 가장 높은 클래스 예측 가능. \n",
        "> 확률이 높은 투표에 비중을 두어 직접 투표보다 높은 성능  \n",
        "> ```voting='hard```가 아닌 ```voting='soft'```지정  \n",
        "> ```probability=True```로 지정하여 클래스 확률 추정을 위한 교차 검증 진행"
      ],
      "metadata": {
        "id": "BFcStQ1f7nS1"
      }
    },
    {
      "cell_type": "markdown",
      "source": [
        "-----  \n",
        "## **7.2 배깅과 페이스팅**\n"
      ],
      "metadata": {
        "id": "cjOrgoxW8ihj"
      }
    },
    {
      "cell_type": "markdown",
      "source": [
        "+ 분류기 생성 - 훈련세트의 서브셋을 무작위로 구성하여 분류기를 각기 다르게 학습시킴.  \n",
        "> **배깅** : 훈련 세트에서 중복을 허용하여 샘플링  \n",
        "> **페이스팅** : 훈련 세트에서 중복을 허용하지 않고 샘플링"
      ],
      "metadata": {
        "id": "wwbnYmEn8seq"
      }
    },
    {
      "cell_type": "markdown",
      "source": [
        "### **7.2.1. 사이킷런의 배깅과 페이스팅**"
      ],
      "metadata": {
        "id": "yau-ClAO9T1z"
      }
    },
    {
      "cell_type": "code",
      "source": [
        "from sklearn.ensemble import BaggingClassifier\n",
        "from sklearn.tree import DecisionTreeClassifier\n",
        "\n",
        "bag_clf = BaggingClassifier(\n",
        "    DecisionTreeClassifier(), n_estimators=500,\n",
        "    max_samples=100, bootstrap=True, random_state=42)\n",
        "\n",
        "bag_clf.fit(X_train, y_train)\n",
        "\n",
        "y_pred = bag_clf.predict(X_test)"
      ],
      "metadata": {
        "id": "Y8WVFG7A9cIJ"
      },
      "execution_count": 5,
      "outputs": []
    },
    {
      "cell_type": "markdown",
      "source": [
        "### **7.2.2. oob 평가**  \n",
        "\n",
        "**BaggingClassifier** : 기본값을 중복으로 허용하여 (```bootstrap=True```) 훈련 세트의 크기만큼 샘플링하는데, 이때 선택받지 못한 샘플을 **oob 샘플**이라고 함.  \n",
        "> 예측기 훈련 동안은 별도 검정 세트가 아닌 oob 샘플로 평가  \n",
        "> ```oob_score=True``` 지정하여 oob 평가 수행 확인"
      ],
      "metadata": {
        "id": "cEIp4SPP9kvU"
      }
    },
    {
      "cell_type": "code",
      "source": [
        "bag_clf = BaggingClassifier(\n",
        "    DecisionTreeClassifier(), n_estimators=500,\n",
        "    bootstrap=True, n_jobs=-1, oob_score=True)\n",
        "\n",
        "bag_clf.fit(X_train, y_train)\n",
        "\n",
        "bag_clf.oob_score_"
      ],
      "metadata": {
        "colab": {
          "base_uri": "https://localhost:8080/"
        },
        "id": "MKPHOYsW-JyJ",
        "outputId": "65e30533-5186-4671-c407-32d9e10eed49"
      },
      "execution_count": 8,
      "outputs": [
        {
          "output_type": "execute_result",
          "data": {
            "text/plain": [
              "0.9013333333333333"
            ]
          },
          "metadata": {},
          "execution_count": 8
        }
      ]
    },
    {
      "cell_type": "code",
      "source": [
        "# 확인\n",
        "from sklearn.metrics import accuracy_score\n",
        "y_pred = bag_clf.predict(X_test)\n",
        "\n",
        "accuracy_score(y_test, y_pred)"
      ],
      "metadata": {
        "colab": {
          "base_uri": "https://localhost:8080/"
        },
        "id": "wh2SMT5l-P_y",
        "outputId": "a03b4b8a-4bb4-4491-8468-4bbbde78bd03"
      },
      "execution_count": 10,
      "outputs": [
        {
          "output_type": "execute_result",
          "data": {
            "text/plain": [
              "0.896"
            ]
          },
          "metadata": {},
          "execution_count": 10
        }
      ]
    },
    {
      "cell_type": "markdown",
      "source": [
        "-----  \n",
        "## **7.3 랜덤 패치와 랜덤 서브 스페이스**\n"
      ],
      "metadata": {
        "id": "8ASwBAPf-ow7"
      }
    },
    {
      "cell_type": "markdown",
      "source": [
        "+ **랜덤 패치 방식** : 특성에 대한 샘플링에서 훈련 특성과 샘플을 모두 샘플링  \n",
        "+ **랜덤 서브스페이스 방식** : 훈련 샘플을 모두 사용하면서 특성은 샘플링(```bootstrap=False```, ```bootstrap_features=True```)"
      ],
      "metadata": {
        "id": "wAkCp1Kd-7cV"
      }
    },
    {
      "cell_type": "markdown",
      "source": [
        "-----  \n",
        "## **7.4 랜덤 포레스트**\n"
      ],
      "metadata": {
        "id": "TIPvxsHM_WSd"
      }
    },
    {
      "cell_type": "markdown",
      "source": [
        "+ **랜덤 포레스트** : 일반적 배깅/페이스팅 방법을 적용한 결정 트리 앙상블  \n",
        "> ```max_sample```로 훈련 세트 크기 지정  \n",
        "> ```RandomForestClassifier``` 분류기 사용이 편리"
      ],
      "metadata": {
        "id": "nyLjFiPW_dn8"
      }
    },
    {
      "cell_type": "code",
      "source": [
        "from sklearn.ensemble import RandomForestClassifier\n",
        "\n",
        "rnd_clf = RandomForestClassifier(n_estimators=500, max_leaf_nodes=16, random_state=42)\n",
        "rnd_clf.fit(X_train, y_train)\n",
        "\n",
        "y_pred_rf = rnd_clf.predict(X_test)"
      ],
      "metadata": {
        "id": "oBWkJ61G_8O3"
      },
      "execution_count": 11,
      "outputs": []
    },
    {
      "cell_type": "code",
      "source": [
        "bag_clf = BaggingClassifier(\n",
        "    DecisionTreeClassifier(max_features='auto', max_leaf_nodes=16),\n",
        "    n_estimators=500, max_samples=1.0, bootstrap=True, n_jobs=-1)"
      ],
      "metadata": {
        "id": "MLAg76kFAAOV"
      },
      "execution_count": 12,
      "outputs": []
    },
    {
      "cell_type": "markdown",
      "source": [
        "### **7.4.1. 엑스트라 트리**"
      ],
      "metadata": {
        "id": "HAsj1hG9AUxq"
      }
    },
    {
      "cell_type": "markdown",
      "source": [
        "+ **익스트림 랜덤 트리** (**엑스트라 트리**) : 무작위한 트리를 만들기 위해 후보 특성을 무작위로 분할하여 최상의 분할을 선택한 트리의 랜덤 포레스트  \n",
        "> 편향이 크지만 분산을 낮춤  \n",
        "> 모든 노드마다 최적의 임계값을 찾아야 해서 많은 시간 소요  \n",
        "> ```ExtraTreesClassifier```"
      ],
      "metadata": {
        "id": "i0U57kkiAZHV"
      }
    },
    {
      "cell_type": "markdown",
      "source": [
        "### **7.4.2. 특성 중요도**"
      ],
      "metadata": {
        "id": "JZz9thX2A-uf"
      }
    },
    {
      "cell_type": "markdown",
      "source": [
        "> 어떤 특성을 사용한 노드가 평균적으로 분순도를 얼마나 감소시키는지에 따라 특성의 중요도 측정 (가중치 평균)\n",
        "\n",
        "\n",
        "\n"
      ],
      "metadata": {
        "id": "bl58S8U0BFKt"
      }
    },
    {
      "cell_type": "code",
      "source": [
        "from sklearn.datasets import load_iris\n",
        "iris = load_iris()\n",
        "\n",
        "rnd_clf = RandomForestClassifier(n_estimators=500, n_jobs=-1)\n",
        "rnd_clf.fit(iris[\"data\"], iris[\"target\"])\n",
        "\n",
        "for name, score in zip(iris[\"feature_names\"], rnd_clf.feature_importances_):\n",
        "    print(name, score)"
      ],
      "metadata": {
        "colab": {
          "base_uri": "https://localhost:8080/"
        },
        "id": "291WJS4vDXXK",
        "outputId": "e6c12e2e-9d26-4353-c39c-41efac5c7d84"
      },
      "execution_count": 14,
      "outputs": [
        {
          "output_type": "stream",
          "name": "stdout",
          "text": [
            "sepal length (cm) 0.09817584087035154\n",
            "sepal width (cm) 0.024100857331023757\n",
            "petal length (cm) 0.45126865721826603\n",
            "petal width (cm) 0.4264546445803587\n"
          ]
        }
      ]
    },
    {
      "cell_type": "markdown",
      "source": [
        "-----  \n",
        "## **7.5 부스팅**\n"
      ],
      "metadata": {
        "id": "WAM82xoxDrNT"
      }
    },
    {
      "cell_type": "markdown",
      "source": [
        "+ **부스팅** : 약한 학습기를 여러개 연결하여 강한 학습기를 만드는 앙상블  \n",
        "> 에이다부스트 / 그레이디언트 부스팅"
      ],
      "metadata": {
        "id": "ibU8IpyBDwYd"
      }
    },
    {
      "cell_type": "markdown",
      "source": [
        "### **7.5.1. 에이다부스트**"
      ],
      "metadata": {
        "id": "iTrLWF0AD_eQ"
      }
    },
    {
      "cell_type": "markdown",
      "source": [
        "* 이전 모델이 과소적합했던 훈련 샘플의 가중치를 높여서 어려운 샘플에 점점 맞춰지게 되는 것.  \n",
        "> 기존 분류기 알고리즘에서 잘못 분류된 샘플의 가중치를 높이고 계속해서 업데이트  \n",
        "> 가중치가 적용된 훈련 세트의 전반적인 정확도에 따라서 다른 가중치 적용  \n",
        "> ```AdaBoostClassifier``` 얕은 결정트리 기반( ```max_depth=1``` )"
      ],
      "metadata": {
        "id": "7ymok3I5EEGA"
      }
    },
    {
      "cell_type": "code",
      "source": [
        "from sklearn.ensemble import AdaBoostClassifier\n",
        "\n",
        "ada_clf = AdaBoostClassifier(\n",
        "    DecisionTreeClassifier(max_depth=1), n_estimators=200,\n",
        "    algorithm='SAMME.R', learning_rate=0.5)\n",
        "\n",
        "ada_clf.fit(X_train,y_train)"
      ],
      "metadata": {
        "colab": {
          "base_uri": "https://localhost:8080/"
        },
        "id": "_1NIy6QlFasZ",
        "outputId": "51d7e9f0-ee84-48c9-8038-1f812f41daab"
      },
      "execution_count": 16,
      "outputs": [
        {
          "output_type": "execute_result",
          "data": {
            "text/plain": [
              "AdaBoostClassifier(base_estimator=DecisionTreeClassifier(max_depth=1),\n",
              "                   learning_rate=0.5, n_estimators=200)"
            ]
          },
          "metadata": {},
          "execution_count": 16
        }
      ]
    },
    {
      "cell_type": "markdown",
      "source": [
        "### **7.5.2. 그레이디언트 부스팅**"
      ],
      "metadata": {
        "id": "j1D3J_GfF1fT"
      }
    },
    {
      "cell_type": "markdown",
      "source": [
        "+ **그레이디언트 트리 부스팅** (**그레이디언트 부스티드 회귀 트리**) : 이전의 오차를 보정하도록 예측기를 순차적으로 추가. 샘플의 가중치 대신 이전 예측기의 잔여 오차로 학습  "
      ],
      "metadata": {
        "id": "H0qBYQIxF5F4"
      }
    },
    {
      "cell_type": "code",
      "source": [
        "from sklearn.tree import DecisionTreeRegressor\n",
        "\n",
        "tree_reg1 = DecisionTreeRegressor(max_depth=2)\n",
        "tree_reg1.fit(X, y)"
      ],
      "metadata": {
        "colab": {
          "base_uri": "https://localhost:8080/"
        },
        "id": "UGSf6GKzGVBX",
        "outputId": "3311ec62-8f3b-4c41-efba-05b77682755e"
      },
      "execution_count": 17,
      "outputs": [
        {
          "output_type": "execute_result",
          "data": {
            "text/plain": [
              "DecisionTreeRegressor(max_depth=2)"
            ]
          },
          "metadata": {},
          "execution_count": 17
        }
      ]
    },
    {
      "cell_type": "code",
      "source": [
        "y2 = y - tree_reg1.predict(X)\n",
        "tree_reg2 = DecisionTreeRegressor(max_depth=2)\n",
        "tree_reg2.fit(X, y2)"
      ],
      "metadata": {
        "colab": {
          "base_uri": "https://localhost:8080/"
        },
        "id": "23ocntWLGgwW",
        "outputId": "d2e1c205-b87f-43ef-95af-890d507b1a0f"
      },
      "execution_count": 18,
      "outputs": [
        {
          "output_type": "execute_result",
          "data": {
            "text/plain": [
              "DecisionTreeRegressor(max_depth=2)"
            ]
          },
          "metadata": {},
          "execution_count": 18
        }
      ]
    },
    {
      "cell_type": "code",
      "source": [
        "y3 = y2 - tree_reg2.predict(X)\n",
        "tree_reg3 = DecisionTreeRegressor(max_depth=2)\n",
        "tree_reg3.fit(X, y3)"
      ],
      "metadata": {
        "colab": {
          "base_uri": "https://localhost:8080/"
        },
        "id": "fWMD6vqhGorQ",
        "outputId": "6c149a02-c221-484b-a8ec-1d7c17291b7d"
      },
      "execution_count": 19,
      "outputs": [
        {
          "output_type": "execute_result",
          "data": {
            "text/plain": [
              "DecisionTreeRegressor(max_depth=2)"
            ]
          },
          "metadata": {},
          "execution_count": 19
        }
      ]
    },
    {
      "cell_type": "code",
      "source": [
        "from sklearn.ensemble import GradientBoostingRegressor\n",
        "\n",
        "gbrt = GradientBoostingRegressor(max_depth=2, n_estimators=3, learning_rate=1.0)\n",
        "gbrt.fit(X, y)"
      ],
      "metadata": {
        "colab": {
          "base_uri": "https://localhost:8080/"
        },
        "id": "mIWgjY0nGvG0",
        "outputId": "92a6d07e-5f5c-4d04-c903-d606b4063743"
      },
      "execution_count": 21,
      "outputs": [
        {
          "output_type": "execute_result",
          "data": {
            "text/plain": [
              "GradientBoostingRegressor(learning_rate=1.0, max_depth=2, n_estimators=3)"
            ]
          },
          "metadata": {},
          "execution_count": 21
        }
      ]
    },
    {
      "cell_type": "code",
      "source": [
        "import numpy as np\n",
        "from sklearn.model_selection import train_test_split\n",
        "from sklearn.metrics import mean_squared_error\n",
        "\n",
        "X_train, X_val, y_train, y_val = train_test_split(X, y)\n",
        "\n",
        "gbrt = GradientBoostingRegressor(max_depth=2, n_estimators=120)\n",
        "gbrt.fit(X_train, y_train)\n",
        "\n",
        "errors = [mean_squared_error(y_val, y_pred)\n",
        "          for y_pred in gbrt.staged_predict(X_val)]\n",
        "bst_n_estimators = np.argmin(errors) + 1\n",
        "\n",
        "gbrt_best = GradientBoostingRegressor(max_depth=2, n_estimators=bst_n_estimators)\n",
        "gbrt_best.fit(X_train, y_train)"
      ],
      "metadata": {
        "colab": {
          "base_uri": "https://localhost:8080/"
        },
        "id": "G2bps7NPG99_",
        "outputId": "3052f890-1d0a-40af-b93f-558c0900e10c"
      },
      "execution_count": 22,
      "outputs": [
        {
          "output_type": "execute_result",
          "data": {
            "text/plain": [
              "GradientBoostingRegressor(max_depth=2, n_estimators=87)"
            ]
          },
          "metadata": {},
          "execution_count": 22
        }
      ]
    },
    {
      "cell_type": "code",
      "source": [
        "gbrt = GradientBoostingRegressor(max_depth=2, warm_start=True)\n",
        "\n",
        "min_val_error = float(\"inf\")\n",
        "error_going_up = 0\n",
        "for n_estimators in range(1, 120):\n",
        "    gbrt.n_estimators = n_estimators\n",
        "    gbrt.fit(X_train, y_train)\n",
        "    y_pred = gbrt.predict(X_val)\n",
        "    val_error = mean_squared_error(y_val, y_pred)\n",
        "    if val_error < min_val_error:\n",
        "        min_val_error = val_error\n",
        "        error_going_up = 0\n",
        "    else:\n",
        "        error_going_up += 1\n",
        "        if error_going_up == 5:\n",
        "            break"
      ],
      "metadata": {
        "id": "MVd9PZtYHHz8"
      },
      "execution_count": 23,
      "outputs": []
    },
    {
      "cell_type": "code",
      "source": [
        "import xgboost\n",
        "\n",
        "xgb_reg = xgboost.XGBRegressor()\n",
        "xgb_reg.fit(X_train, y_train)\n",
        "y_pred = xgb_reg.predict(X_val)"
      ],
      "metadata": {
        "colab": {
          "base_uri": "https://localhost:8080/"
        },
        "id": "ZA-Uj7DTIChW",
        "outputId": "b604c92b-cded-4291-aec2-a08f7ce4ed84"
      },
      "execution_count": 26,
      "outputs": [
        {
          "output_type": "stream",
          "name": "stdout",
          "text": [
            "[01:25:23] WARNING: /workspace/src/objective/regression_obj.cu:152: reg:linear is now deprecated in favor of reg:squarederror.\n"
          ]
        }
      ]
    },
    {
      "cell_type": "code",
      "source": [
        "xgb_reg.fit(X_train, y_train,\n",
        "            eval_set=[(X_val, y_val)], early_stopping_rounds=2)\n",
        "y_pred = xgb_reg.predict(X_val)"
      ],
      "metadata": {
        "colab": {
          "base_uri": "https://localhost:8080/"
        },
        "id": "eu32NK4nIGvy",
        "outputId": "441cdea6-78ef-4101-fd5c-4024c16e190b"
      },
      "execution_count": 27,
      "outputs": [
        {
          "output_type": "stream",
          "name": "stdout",
          "text": [
            "[01:25:31] WARNING: /workspace/src/objective/regression_obj.cu:152: reg:linear is now deprecated in favor of reg:squarederror.\n",
            "[0]\tvalidation_0-rmse:0.469\n",
            "Will train until validation_0-rmse hasn't improved in 2 rounds.\n",
            "[1]\tvalidation_0-rmse:0.439454\n",
            "[2]\tvalidation_0-rmse:0.414102\n",
            "[3]\tvalidation_0-rmse:0.391749\n",
            "[4]\tvalidation_0-rmse:0.37372\n",
            "[5]\tvalidation_0-rmse:0.356407\n",
            "[6]\tvalidation_0-rmse:0.342924\n",
            "[7]\tvalidation_0-rmse:0.32897\n",
            "[8]\tvalidation_0-rmse:0.318788\n",
            "[9]\tvalidation_0-rmse:0.309996\n",
            "[10]\tvalidation_0-rmse:0.300987\n",
            "[11]\tvalidation_0-rmse:0.294586\n",
            "[12]\tvalidation_0-rmse:0.287137\n",
            "[13]\tvalidation_0-rmse:0.280298\n",
            "[14]\tvalidation_0-rmse:0.275012\n",
            "[15]\tvalidation_0-rmse:0.270456\n",
            "[16]\tvalidation_0-rmse:0.266698\n",
            "[17]\tvalidation_0-rmse:0.262019\n",
            "[18]\tvalidation_0-rmse:0.259213\n",
            "[19]\tvalidation_0-rmse:0.255453\n",
            "[20]\tvalidation_0-rmse:0.252828\n",
            "[21]\tvalidation_0-rmse:0.250606\n",
            "[22]\tvalidation_0-rmse:0.24843\n",
            "[23]\tvalidation_0-rmse:0.246899\n",
            "[24]\tvalidation_0-rmse:0.245072\n",
            "[25]\tvalidation_0-rmse:0.243308\n",
            "[26]\tvalidation_0-rmse:0.242642\n",
            "[27]\tvalidation_0-rmse:0.24204\n",
            "[28]\tvalidation_0-rmse:0.24072\n",
            "[29]\tvalidation_0-rmse:0.240478\n",
            "[30]\tvalidation_0-rmse:0.239429\n",
            "[31]\tvalidation_0-rmse:0.238702\n",
            "[32]\tvalidation_0-rmse:0.237732\n",
            "[33]\tvalidation_0-rmse:0.238325\n",
            "[34]\tvalidation_0-rmse:0.238128\n",
            "Stopping. Best iteration:\n",
            "[32]\tvalidation_0-rmse:0.237732\n",
            "\n"
          ]
        }
      ]
    },
    {
      "cell_type": "markdown",
      "source": [
        "-----  \n",
        "## **7.6 스태킹**\n"
      ],
      "metadata": {
        "id": "VU4j_AzVIRKV"
      }
    },
    {
      "cell_type": "markdown",
      "source": [
        "+ **스태킹** : 앙상블에 속한 모든 예측기의 예측을 취합하여 최종 예측 생성"
      ],
      "metadata": {
        "id": "Hmm5RXtwIVS8"
      }
    }
  ]
}