{
  "nbformat": 4,
  "nbformat_minor": 0,
  "metadata": {
    "colab": {
      "name": "0314_ch3.ipynb",
      "provenance": [],
      "collapsed_sections": [
        "TAGTx7pt7CiA",
        "q6f0ugvVAF29",
        "fDLetQtaBuam",
        "ILe3tHogUx-1",
        "BDNikDk_GdAH",
        "Rah7TbOgTeHY",
        "RQsP-WJZUs8Z",
        "ZUnWed0nZ87I",
        "XEbwE1KDiJVI",
        "kY2OaF-nl8Fq",
        "Q-mHOjG5rj9f"
      ],
      "authorship_tag": "ABX9TyN+6vj+RA5IIlvgkXWBAV4A",
      "include_colab_link": true
    },
    "kernelspec": {
      "name": "python3",
      "display_name": "Python 3"
    },
    "language_info": {
      "name": "python"
    }
  },
  "cells": [
    {
      "cell_type": "markdown",
      "metadata": {
        "id": "view-in-github",
        "colab_type": "text"
      },
      "source": [
        "<a href=\"https://colab.research.google.com/github/HyeJin816/ESSA_22/blob/main/0314_ch3.ipynb\" target=\"_parent\"><img src=\"https://colab.research.google.com/assets/colab-badge.svg\" alt=\"Open In Colab\"/></a>"
      ]
    },
    {
      "cell_type": "markdown",
      "source": [
        "# **Ch.3 분류**\n",
        "#### 0313(월) 과제 : 핸즈온 127~154p"
      ],
      "metadata": {
        "id": "ogc1h4AQ6v-2"
      }
    },
    {
      "cell_type": "markdown",
      "source": [
        "-----  \n",
        "## **3.1 MNIST**\n",
        "MNIST : 70,000개의 작은 숫자 이미지 데이터셋"
      ],
      "metadata": {
        "id": "TAGTx7pt7CiA"
      }
    },
    {
      "cell_type": "code",
      "execution_count": 2,
      "metadata": {
        "colab": {
          "base_uri": "https://localhost:8080/"
        },
        "id": "bSGtdJxR6Tdi",
        "outputId": "15f53e17-fa6e-457f-d3fe-c5e8d8091ebf"
      },
      "outputs": [
        {
          "output_type": "execute_result",
          "data": {
            "text/plain": [
              "dict_keys(['data', 'target', 'frame', 'categories', 'feature_names', 'target_names', 'DESCR', 'details', 'url'])"
            ]
          },
          "metadata": {},
          "execution_count": 2
        }
      ],
      "source": [
        "## MNIST 데이터셋 내려받는 코드\n",
        "\n",
        "from sklearn.datasets import fetch_openml\n",
        "mnist = fetch_openml('mnist_784', version=1)\n",
        "mnist.keys()"
      ]
    },
    {
      "cell_type": "markdown",
      "source": [
        "'data' 샘플이 하나의 행, 특성이 하나의 열로 구성된 배영을 가진 key  \n",
        "'target' 레이블 배열  \n",
        "'DESCR' 데이터셋 설명  "
      ],
      "metadata": {
        "id": "5sVNtxw-871d"
      }
    },
    {
      "cell_type": "code",
      "source": [
        "X, y = mnist[\"data\"], mnist[\"target\"]\n",
        "\n",
        "print(X.shape) # 70,000개 이미지, 784개 특성(28*28픽셀)\n",
        "print(y.shape)"
      ],
      "metadata": {
        "colab": {
          "base_uri": "https://localhost:8080/"
        },
        "id": "5yS5TSXC8f48",
        "outputId": "52326e10-63b5-47b4-8fa0-f028b139b590"
      },
      "execution_count": 3,
      "outputs": [
        {
          "output_type": "stream",
          "name": "stdout",
          "text": [
            "(70000, 784)\n",
            "(70000,)\n"
          ]
        }
      ]
    },
    {
      "cell_type": "code",
      "source": [
        "## 이미지 확인\n",
        "\n",
        "import matplotlib as matplotlib\n",
        "import matplotlib.pyplot as plt\n",
        "\n",
        "some_digit = X.to_numpy()[0]\n",
        "some_digit_image = some_digit.reshape(28,28)\n",
        "\n",
        "plt.imshow(some_digit_image, cmap='binary')\n",
        "plt.axis('off')\n",
        "plt.show"
      ],
      "metadata": {
        "colab": {
          "base_uri": "https://localhost:8080/",
          "height": 266
        },
        "id": "cbySVtky8f7p",
        "outputId": "e265e27e-2227-4390-c80c-202b75f16dff"
      },
      "execution_count": 6,
      "outputs": [
        {
          "output_type": "execute_result",
          "data": {
            "text/plain": [
              "<function matplotlib.pyplot.show>"
            ]
          },
          "metadata": {},
          "execution_count": 6
        },
        {
          "output_type": "display_data",
          "data": {
            "text/plain": [
              "<Figure size 432x288 with 1 Axes>"
            ],
            "image/png": "[encoded data removed]"
          },
          "metadata": {
            "needs_background": "light"
          }
        }
      ]
    },
    {
      "cell_type": "code",
      "source": [
        "## 실제 레이블 확인\n",
        "\n",
        "y[0]"
      ],
      "metadata": {
        "colab": {
          "base_uri": "https://localhost:8080/",
          "height": 35
        },
        "id": "Oi3hLy4n8gBg",
        "outputId": "591068e2-5915-42e0-cc09-64cb7a2bd1c1"
      },
      "execution_count": 8,
      "outputs": [
        {
          "output_type": "execute_result",
          "data": {
            "text/plain": [
              "'5'"
            ],
            "application/vnd.google.colaboratory.intrinsic+json": {
              "type": "string"
            }
          },
          "metadata": {},
          "execution_count": 8
        }
      ]
    },
    {
      "cell_type": "code",
      "source": [
        "## 문자열을 정수로 변환\n",
        "import numpy as np\n",
        "y = y.astype(np.uint8)\n",
        "\n",
        "## 테스트 세트 생성 (교차검증폴드)\n",
        "X_train, X_test, y_train, y_test = X[:60000], X[60000:], y[:60000], y[60000:]"
      ],
      "metadata": {
        "id": "xg-bN1zb8gEk"
      },
      "execution_count": 10,
      "outputs": []
    },
    {
      "cell_type": "markdown",
      "source": [
        "-----  \n",
        "## **3.2 이진분류기 훈련**\n",
        "이진분류기 : '해당 숫자'와 '해당 숫자 아님'의 두 클래스 구분"
      ],
      "metadata": {
        "id": "q6f0ugvVAF29"
      }
    },
    {
      "cell_type": "code",
      "source": [
        "## 분류를 위한 타킷 벡터 생성\n",
        "\n",
        "y_train_5 = (y_train==5)\n",
        "y_test_5 = (y_test==5)"
      ],
      "metadata": {
        "id": "98i2U0l-AqsE"
      },
      "execution_count": 11,
      "outputs": []
    },
    {
      "cell_type": "markdown",
      "source": [
        "확률적 경사 하강법 (Stochastic Gradient Descent, SGD) : 한번에 하나씩 훈련 샘플을 독립적으로 처리하여 큰 데이터셋을 효율적으로 처리하는 장점. 온라인 학습에 적절."
      ],
      "metadata": {
        "id": "6CDpvTbO876L"
      }
    },
    {
      "cell_type": "code",
      "source": [
        "## SGDClassifier 모델 생성\n",
        "\n",
        "from sklearn.linear_model import SGDClassifier\n",
        "sgd_clf = SGDClassifier(random_state=42)\n",
        "sgd_clf.fit(X_train, y_train_5)"
      ],
      "metadata": {
        "colab": {
          "base_uri": "https://localhost:8080/"
        },
        "id": "8KYSDqlYBK-p",
        "outputId": "68367c6c-5818-40ba-b53d-672fdc5af996"
      },
      "execution_count": 12,
      "outputs": [
        {
          "output_type": "execute_result",
          "data": {
            "text/plain": [
              "SGDClassifier(random_state=42)"
            ]
          },
          "metadata": {},
          "execution_count": 12
        }
      ]
    },
    {
      "cell_type": "code",
      "source": [
        "## 이미지 감지\n",
        "\n",
        "sgd_clf.predict([some_digit])"
      ],
      "metadata": {
        "colab": {
          "base_uri": "https://localhost:8080/"
        },
        "id": "8i5_gx8vBhuL",
        "outputId": "1561a5a0-a4b3-4d6a-df39-a907ea93e6e9"
      },
      "execution_count": 13,
      "outputs": [
        {
          "output_type": "stream",
          "name": "stderr",
          "text": [
            "/usr/local/lib/python3.7/dist-packages/sklearn/base.py:451: UserWarning: X does not have valid feature names, but SGDClassifier was fitted with feature names\n",
            "  \"X does not have valid feature names, but\"\n"
          ]
        },
        {
          "output_type": "execute_result",
          "data": {
            "text/plain": [
              "array([ True])"
            ]
          },
          "metadata": {},
          "execution_count": 13
        }
      ]
    },
    {
      "cell_type": "markdown",
      "source": [
        "-----  \n",
        "## **3.3 성능 측정**\n",
        "\n"
      ],
      "metadata": {
        "id": "fDLetQtaBuam"
      }
    },
    {
      "cell_type": "markdown",
      "source": [
        "### **3.3.1 교차 검증을 사용한 정확도 측정**  \n",
        "\n",
        "사이킷런이 제공하는 기능보다 교차 검증 과정을 더 많이 제어해야할 때 cross_val_score()과 유사하게 수행하도록 검증 기능을 직접 구현함."
      ],
      "metadata": {
        "id": "ILe3tHogUx-1"
      }
    },
    {
      "cell_type": "code",
      "source": [
        "from sklearn.model_selection import StratifiedKFold\n",
        "from sklearn.base import clone\n",
        "\n",
        "skfolds = StratifiedKFold(n_splits=3, shuffle=True, random_state=42)\n",
        "\n",
        "for train_index, test_index in skfolds.split(X_train, y_train_5):\n",
        "  clone_clf = clone(sgd_clf)\n",
        "  X_train_folds = X_train.iloc[train_index,:]\n",
        "  y_train_folds = y_train_5[train_index]\n",
        "  X_test_fold = X_train.iloc[test_index,:]\n",
        "  y_test_fold = y_train_5[test_index]\n",
        "\n",
        "  clone_clf.fit(X_train_folds, y_train_folds)\n",
        "  y_pred = clone_clf.predict(X_test_fold)\n",
        "  n_correct = sum(y_pred == y_test_fold)\n",
        "\n",
        "  print(n_correct / len(y_pred))"
      ],
      "metadata": {
        "colab": {
          "base_uri": "https://localhost:8080/"
        },
        "id": "FTZ1J12nCcBF",
        "outputId": "b0fcfe3a-dcce-4e82-ad45-7464a4da5eb9"
      },
      "execution_count": 28,
      "outputs": [
        {
          "output_type": "stream",
          "name": "stdout",
          "text": [
            "0.9669\n",
            "0.91625\n",
            "0.96785\n"
          ]
        }
      ]
    },
    {
      "cell_type": "markdown",
      "source": [
        "클래스별 비율이 유지되도록 폴드를 만들기 위해 계층적으로 샘플링 수행. "
      ],
      "metadata": {
        "id": "-3bVYGb6Em1z"
      }
    },
    {
      "cell_type": "code",
      "source": [
        "## 폴드가 3개인 k-겹 교차 검증으로 SGDClassifier 모델 평가\n",
        "\n",
        "from sklearn.model_selection import cross_val_score\n",
        "cross_val_score(sgd_clf, X_train, y_train_5, cv=3, scoring='accuracy')"
      ],
      "metadata": {
        "colab": {
          "base_uri": "https://localhost:8080/"
        },
        "id": "a1eJAVMWE0S1",
        "outputId": "48310b1b-a5f1-4e88-de98-e49880eccb02"
      },
      "execution_count": 29,
      "outputs": [
        {
          "output_type": "execute_result",
          "data": {
            "text/plain": [
              "array([0.95035, 0.96035, 0.9604 ])"
            ]
          },
          "metadata": {},
          "execution_count": 29
        }
      ]
    },
    {
      "cell_type": "markdown",
      "source": [
        "모든 교차 검증 폴드에 대해 정확도 95% 이상.\n"
      ],
      "metadata": {
        "id": "-oavlNQhEm6S"
      }
    },
    {
      "cell_type": "code",
      "source": [
        "from sklearn.base import BaseEstimator\n",
        "\n",
        "class Never5Classifier(BaseEstimator):\n",
        "  def fit(self, X, y=None):\n",
        "    return self\n",
        "  def predict(self, X):\n",
        "    return np.zeros((len(X), 1), dtype=bool)"
      ],
      "metadata": {
        "id": "sL3a1ErhFwid"
      },
      "execution_count": 33,
      "outputs": []
    },
    {
      "cell_type": "code",
      "source": [
        "## 모델 정확도 추측\n",
        "\n",
        "never_5_clf = Never5Classifier()\n",
        "cross_val_score(never_5_clf, X_train, y_train_5, cv=3, scoring='accuracy')"
      ],
      "metadata": {
        "colab": {
          "base_uri": "https://localhost:8080/"
        },
        "id": "6m5i6zIAGBnf",
        "outputId": "3535fe9a-89c2-4a17-de0d-3906d26222ca"
      },
      "execution_count": 34,
      "outputs": [
        {
          "output_type": "execute_result",
          "data": {
            "text/plain": [
              "array([0.91125, 0.90855, 0.90915])"
            ]
          },
          "metadata": {},
          "execution_count": 34
        }
      ]
    },
    {
      "cell_type": "markdown",
      "source": [
        "모두 정확도 90% 이상 (= 아님을 예측했을 때의 정확도)"
      ],
      "metadata": {
        "id": "hIo8WUHfGUAP"
      }
    },
    {
      "cell_type": "markdown",
      "source": [
        "### **3.3.2 오차 행렬**  \n",
        "\n",
        "오차 행렬 조사 : 분류기의 성능을 평가하는 방법.  \n",
        "실제 타깃과 비교할 수 있도록 먼저 예측값을 만들어야 함. 테스트 세트가 아닌 cross_val_predict() 함수 사용."
      ],
      "metadata": {
        "id": "BDNikDk_GdAH"
      }
    },
    {
      "cell_type": "code",
      "source": [
        "from sklearn.model_selection import cross_val_predict\n",
        "y_train_pred = cross_val_predict(sgd_clf, X_train, y_train_5, cv=3)"
      ],
      "metadata": {
        "id": "NxSrVo2aJeur"
      },
      "execution_count": 36,
      "outputs": []
    },
    {
      "cell_type": "markdown",
      "source": [
        "cross_val_predict() 함수는 k교차 검증을 수행하여 각 테스트 폴드 예측을 반환하지만 평가 점수는 반환하지 않음.  \n",
        "confusion_matrix()로 오차행렬 생성."
      ],
      "metadata": {
        "id": "kjwpmm_uQobl"
      }
    },
    {
      "cell_type": "code",
      "source": [
        "from sklearn.metrics import confusion_matrix\n",
        "confusion_matrix(y_train_5, y_train_pred)"
      ],
      "metadata": {
        "colab": {
          "base_uri": "https://localhost:8080/"
        },
        "id": "4C6xvuumSHS9",
        "outputId": "08f7eda4-778e-4476-f348-00bfff16485c"
      },
      "execution_count": 37,
      "outputs": [
        {
          "output_type": "execute_result",
          "data": {
            "text/plain": [
              "array([[53892,   687],\n",
              "       [ 1891,  3530]])"
            ]
          },
          "metadata": {},
          "execution_count": 37
        }
      ]
    },
    {
      "cell_type": "markdown",
      "source": [
        "음성클래스 : 진짜 음성 53892개, 거짓 양성 687개  \n",
        "양성클래스 : 거짓 음성 1891개, 진짜 양성 3530개"
      ],
      "metadata": {
        "id": "dTNPxNlrSQpL"
      }
    },
    {
      "cell_type": "code",
      "source": [
        "## 완벽한 분류기\n",
        "y_train_perfect_predictions = y_train_5\n",
        "confusion_matrix(y_train_5, y_train_perfect_predictions)"
      ],
      "metadata": {
        "colab": {
          "base_uri": "https://localhost:8080/"
        },
        "id": "1IDcFjSqSuJn",
        "outputId": "57f90424-070b-4ca4-a87b-4a1fb8816459"
      },
      "execution_count": 39,
      "outputs": [
        {
          "output_type": "execute_result",
          "data": {
            "text/plain": [
              "array([[54579,     0],\n",
              "       [    0,  5421]])"
            ]
          },
          "metadata": {},
          "execution_count": 39
        }
      ]
    },
    {
      "cell_type": "markdown",
      "source": [
        "정밀도 = (진짜 양성) / (진짜 양성 + 거짓 양성)  \n",
        "재현율 = (진짜 양성) / (진짜 양성 + 거짓 음성)"
      ],
      "metadata": {
        "id": "v09vqDJtTCos"
      }
    },
    {
      "cell_type": "markdown",
      "source": [
        "### **3.3.3 정밀도와 재현율**  \n"
      ],
      "metadata": {
        "id": "Rah7TbOgTeHY"
      }
    },
    {
      "cell_type": "code",
      "source": [
        "from sklearn.metrics import precision_score, recall_score\n",
        "\n",
        "## 정밀도\n",
        "print( precision_score(y_train_5, y_train_pred) )\n",
        "\n",
        "## 재현율\n",
        "print( recall_score(y_train_5, y_train_pred) )"
      ],
      "metadata": {
        "colab": {
          "base_uri": "https://localhost:8080/"
        },
        "id": "wz9VoVyOTl-f",
        "outputId": "fd675e59-d158-4485-dccb-462748801b05"
      },
      "execution_count": 41,
      "outputs": [
        {
          "output_type": "stream",
          "name": "stdout",
          "text": [
            "0.8370879772350012\n",
            "0.6511713705958311\n"
          ]
        }
      ]
    },
    {
      "cell_type": "markdown",
      "source": [
        "판별된 이미지 중에서 83%만 정확하고, 판별 대상은 65%만 감지.  \n",
        "> F1 점수 사용 : 정밀도와 재현율의 조화평균  \n",
        "> f1_score() 호출 "
      ],
      "metadata": {
        "id": "Lh2793onT8pi"
      }
    },
    {
      "cell_type": "code",
      "source": [
        "from sklearn.metrics import f1_score\n",
        "f1_score(y_train_5, y_train_pred)"
      ],
      "metadata": {
        "colab": {
          "base_uri": "https://localhost:8080/"
        },
        "id": "g8ve7OlkUW4J",
        "outputId": "777a2225-7639-4bc1-8a85-0d2d4af34fd7"
      },
      "execution_count": 42,
      "outputs": [
        {
          "output_type": "execute_result",
          "data": {
            "text/plain": [
              "0.7325171197343846"
            ]
          },
          "metadata": {},
          "execution_count": 42
        }
      ]
    },
    {
      "cell_type": "markdown",
      "source": [
        "정밀도/재현율 트레이드오프 : 정밀도를 올리면 재현율이 줄고 그 반대도 마찬가지\n"
      ],
      "metadata": {
        "id": "z3YvCZdCUf9X"
      }
    },
    {
      "cell_type": "markdown",
      "source": [
        "### **3.3.4 정밀도/재현율 트레이드오프**  \n",
        "\n",
        "결정 함수를 사용하여 각 샘플의 점수를 계산하고, 그 임계값보다 크면 양성클래스에 할당, 그렇지 않으면 음성클래스에 할당.  \n",
        "결정 임계값 : 임계값을 높이면 정밀도가 높아지고 재현율이 낮아지며, 임계값을 낮추면 재현율이 높아지고 정밀도가 줄어든다.\n",
        "> predict() 대신 decision_function()를 사용하면 샘플 점수 확인 가능.\n",
        "> 이 점수를 기반으로 원하는 임계값을 설정하여 예측 가능."
      ],
      "metadata": {
        "id": "RQsP-WJZUs8Z"
      }
    },
    {
      "cell_type": "code",
      "source": [
        "y_scores = sgd_clf.decision_function([some_digit])\n",
        "print(y_scores)\n",
        "\n",
        "threshold = 0   # 임계값 0\n",
        "y_some_digit_pred = (y_scores > threshold)\n",
        "y_some_digit_pred"
      ],
      "metadata": {
        "colab": {
          "base_uri": "https://localhost:8080/"
        },
        "id": "Ibewz7oyVgDZ",
        "outputId": "e7c2201e-9de1-4fbd-e4cc-3c104a74db3d"
      },
      "execution_count": 45,
      "outputs": [
        {
          "output_type": "stream",
          "name": "stdout",
          "text": [
            "[2164.22030239]\n"
          ]
        },
        {
          "output_type": "stream",
          "name": "stderr",
          "text": [
            "/usr/local/lib/python3.7/dist-packages/sklearn/base.py:451: UserWarning: X does not have valid feature names, but SGDClassifier was fitted with feature names\n",
            "  \"X does not have valid feature names, but\"\n"
          ]
        },
        {
          "output_type": "execute_result",
          "data": {
            "text/plain": [
              "array([ True])"
            ]
          },
          "metadata": {},
          "execution_count": 45
        }
      ]
    },
    {
      "cell_type": "markdown",
      "source": [
        "임계값을 0으로 하여 predict()와 값은 결과로 True 반환"
      ],
      "metadata": {
        "id": "sLPuHg0_V49y"
      }
    },
    {
      "cell_type": "code",
      "source": [
        "threshold = 8000  # 임계값 8000\n",
        "y_some_digit_pred = (y_scores > threshold)\n",
        "y_some_digit_pred"
      ],
      "metadata": {
        "colab": {
          "base_uri": "https://localhost:8080/"
        },
        "id": "Pjyq4YcoV958",
        "outputId": "d4d27d03-3fd5-4000-d9ce-d6e30224fbae"
      },
      "execution_count": 46,
      "outputs": [
        {
          "output_type": "execute_result",
          "data": {
            "text/plain": [
              "array([False])"
            ]
          },
          "metadata": {},
          "execution_count": 46
        }
      ]
    },
    {
      "cell_type": "markdown",
      "source": [
        "임계값을 높여서 재현율이 감소"
      ],
      "metadata": {
        "id": "GCKLKaSTWKSm"
      }
    },
    {
      "cell_type": "code",
      "source": [
        "## 결정 점수 반환\n",
        "y_scores = cross_val_predict(sgd_clf, X_train, y_train_5, cv=3,\n",
        "                             method='decision_function')\n",
        "\n",
        "## 임계값에 대한 정밀도&재현율 계산\n",
        "from sklearn.metrics import precision_recall_curve\n",
        "\n",
        "precisions, recalls, thresholds = precision_recall_curve(y_train_5, y_scores)"
      ],
      "metadata": {
        "id": "SqoS02BkW2PU"
      },
      "execution_count": 47,
      "outputs": []
    },
    {
      "cell_type": "code",
      "source": [
        "## 맷플롯립으로 임계값 함수 정밀도&재현율 표현\n",
        "\n",
        "def plot_precision_recall_vs_threshold(precisions, recalls, thresholds):\n",
        "  plt.plot(thresholds, precisions[:-1], 'b--', label='precisions')\n",
        "  plt.plot(thresholds, recalls[:-1], 'g--', label='recalls')\n",
        "  plt.legend()\n",
        "\n",
        "plot_precision_recall_vs_threshold(precisions, recalls, thresholds)\n",
        "plt.show()"
      ],
      "metadata": {
        "colab": {
          "base_uri": "https://localhost:8080/",
          "height": 265
        },
        "id": "opVaDWJ5XTA-",
        "outputId": "d89b6d90-ff8e-4b1a-99f1-e49565868fa1"
      },
      "execution_count": 50,
      "outputs": [
        {
          "output_type": "display_data",
          "data": {
            "text/plain": [
              "<Figure size 432x288 with 1 Axes>"
            ],
            "image/png": "[encoded data removed]"
          },
          "metadata": {
            "needs_background": "light"
          }
        }
      ]
    },
    {
      "cell_type": "code",
      "source": [
        "## 재현율에 대한 정밀도 표현\n",
        "\n",
        "def plot_precision_recall_vs_threshold_2(precisions, recalls, thresholds):\n",
        "    plt.plot(recalls[:-1], precisions[:-1], 'g-')\n",
        "    plt.grid()\n",
        "    plt.xlim(0, 1)\n",
        "    plt.ylim(0, 1)\n",
        "\n",
        "plot_precision_recall_vs_threshold_2(precisions, recalls, thresholds)\n",
        "plt.show()"
      ],
      "metadata": {
        "colab": {
          "base_uri": "https://localhost:8080/",
          "height": 269
        },
        "id": "rl8V_AXmXTSW",
        "outputId": "7cc62eb4-ce4b-4e42-e4ee-d472f6fd21c9"
      },
      "execution_count": 54,
      "outputs": [
        {
          "output_type": "display_data",
          "data": {
            "text/plain": [
              "<Figure size 432x288 with 1 Axes>"
            ],
            "image/png": "[encoded data removed]"
          },
          "metadata": {
            "needs_background": "light"
          }
        }
      ]
    },
    {
      "cell_type": "markdown",
      "source": [
        "하강점 직전을 정밀도/재현율 트레이드오프로 선택."
      ],
      "metadata": {
        "id": "MaDHfI5tZH3z"
      }
    },
    {
      "cell_type": "code",
      "source": [
        "## 정밀도 90% 달성 목표\n",
        "threshold_90_precision = thresholds[np.argmax(precisions >= 0.90)]\n",
        "\n",
        "## 분류기 predict() 호출 대신 실행\n",
        "y_train_pred_90 = (y_scores >= threshold_90_precision)\n",
        "\n",
        "print('정밀도', precision_score(y_train_5, y_train_pred_90))\n",
        "print('재현율', recall_score(y_train_5, y_train_pred_90))"
      ],
      "metadata": {
        "colab": {
          "base_uri": "https://localhost:8080/"
        },
        "id": "ajrYavZHZMw4",
        "outputId": "694a5e24-3b5d-4322-bb8d-82c6cf80bd58"
      },
      "execution_count": 56,
      "outputs": [
        {
          "output_type": "stream",
          "name": "stdout",
          "text": [
            "정밀도 0.9000345901072293\n",
            "재현율 0.4799852425751706\n"
          ]
        }
      ]
    },
    {
      "cell_type": "markdown",
      "source": [
        "### **3.3.5 ROC곡선**  \n",
        "\n",
        "수신기 조작 특성 (ROC) : 거짓 양성 비율에 대한 진짜 양성 비율의 곡선  \n",
        "특이도(진짜 음성비율, TNR) = 1- 가짜 음성비율(FNR)\n",
        "> roc_curve() 함수로 여러 임계값에서 TPR, FPR 계산"
      ],
      "metadata": {
        "id": "ZUnWed0nZ87I"
      }
    },
    {
      "cell_type": "code",
      "source": [
        "from sklearn.metrics import roc_curve\n",
        "fpr, tpr, thresholds = roc_curve(y_train_5, y_scores)\n",
        "\n",
        "# 맷플로립으로 TPR에 대한 FPR 곡선\n",
        "def plot_roc_curve(fpr, tpr, label=None):\n",
        "  plt.plot(fpr, tpr, linewidth=2, label=label)\n",
        "  plt.plot([0,1], [0,1], 'k--')\n",
        "  plt.grid()\n",
        "\n",
        "plot_roc_curve(fpr, tpr)\n",
        "plt.show()"
      ],
      "metadata": {
        "colab": {
          "base_uri": "https://localhost:8080/",
          "height": 265
        },
        "id": "RXw93OC-brSI",
        "outputId": "316e5b46-387c-4b83-9bef-0ca9a1224a78"
      },
      "execution_count": 58,
      "outputs": [
        {
          "output_type": "display_data",
          "data": {
            "text/plain": [
              "<Figure size 432x288 with 1 Axes>"
            ],
            "image/png": "[encoded data removed]"
          },
          "metadata": {
            "needs_background": "light"
          }
        }
      ]
    },
    {
      "cell_type": "markdown",
      "source": [
        "(트레이드오프) 재현율(TPR)이 높을수록 분류기에서 거짓 양성(FPR) 증가. "
      ],
      "metadata": {
        "id": "Ss4R6RiecLgM"
      }
    },
    {
      "cell_type": "code",
      "source": [
        "## 곡선 아래 면적(AUC) 측정하여 분류기 비교\n",
        "\n",
        "from sklearn.metrics import roc_auc_score\n",
        "roc_auc_score(y_train_5, y_scores)"
      ],
      "metadata": {
        "colab": {
          "base_uri": "https://localhost:8080/"
        },
        "id": "njxaJuxjb1q7",
        "outputId": "11943f8a-e7f6-4703-af31-63fbbb50e61e"
      },
      "execution_count": 59,
      "outputs": [
        {
          "output_type": "execute_result",
          "data": {
            "text/plain": [
              "0.9604938554008616"
            ]
          },
          "metadata": {},
          "execution_count": 59
        }
      ]
    },
    {
      "cell_type": "markdown",
      "source": [
        "완벽한 분류기는 AUC가 1이고, 완전한 랜덤 분류기는 AUC가 0.5"
      ],
      "metadata": {
        "id": "Zi5r4KUzciGH"
      }
    },
    {
      "cell_type": "code",
      "source": [
        "## RandomForestClassifier 훈련으로 ROC곡선, ROC AUC 점수 비교\n",
        "\n",
        "from sklearn.ensemble import RandomForestClassifier\n",
        "\n",
        "forest_clf = RandomForestClassifier(random_state=42)\n",
        "y_probas_forest = cross_val_predict(forest_clf, X_train, y_train_5, cv=3,\n",
        "                                    method='predict_proba')\n",
        "\n",
        "y_scores_forest = y_probas_forest[:, 1]\n",
        "fpr_forest, tpr_forest, thresholds_forest = roc_curve(y_train_5, y_scores_forest)"
      ],
      "metadata": {
        "id": "_yNHJ35McxhH"
      },
      "execution_count": 60,
      "outputs": []
    },
    {
      "cell_type": "code",
      "source": [
        "## ROC 곡선 표현\n",
        "\n",
        "plt.plot(fpr, tpr, 'b:', label='SGD')\n",
        "plot_roc_curve(fpr_forest, tpr_forest, \"랜덤 포레스트\")\n",
        "plt.legend(loc='lower right')\n",
        "plt.show()"
      ],
      "metadata": {
        "colab": {
          "base_uri": "https://localhost:8080/",
          "height": 699
        },
        "id": "qHNjGxLJgC2L",
        "outputId": "5084dd17-eb75-4af1-e885-612fe4144643"
      },
      "execution_count": 62,
      "outputs": [
        {
          "output_type": "stream",
          "name": "stderr",
          "text": [
            "/usr/local/lib/python3.7/dist-packages/matplotlib/backends/backend_agg.py:214: RuntimeWarning: Glyph 47004 missing from current font.\n",
            "  font.set_text(s, 0.0, flags=flags)\n",
            "/usr/local/lib/python3.7/dist-packages/matplotlib/backends/backend_agg.py:214: RuntimeWarning: Glyph 45924 missing from current font.\n",
            "  font.set_text(s, 0.0, flags=flags)\n",
            "/usr/local/lib/python3.7/dist-packages/matplotlib/backends/backend_agg.py:214: RuntimeWarning: Glyph 54252 missing from current font.\n",
            "  font.set_text(s, 0.0, flags=flags)\n",
            "/usr/local/lib/python3.7/dist-packages/matplotlib/backends/backend_agg.py:214: RuntimeWarning: Glyph 47112 missing from current font.\n",
            "  font.set_text(s, 0.0, flags=flags)\n",
            "/usr/local/lib/python3.7/dist-packages/matplotlib/backends/backend_agg.py:214: RuntimeWarning: Glyph 49828 missing from current font.\n",
            "  font.set_text(s, 0.0, flags=flags)\n",
            "/usr/local/lib/python3.7/dist-packages/matplotlib/backends/backend_agg.py:214: RuntimeWarning: Glyph 53944 missing from current font.\n",
            "  font.set_text(s, 0.0, flags=flags)\n",
            "/usr/local/lib/python3.7/dist-packages/matplotlib/backends/backend_agg.py:183: RuntimeWarning: Glyph 47004 missing from current font.\n",
            "  font.set_text(s, 0, flags=flags)\n",
            "/usr/local/lib/python3.7/dist-packages/matplotlib/backends/backend_agg.py:183: RuntimeWarning: Glyph 45924 missing from current font.\n",
            "  font.set_text(s, 0, flags=flags)\n",
            "/usr/local/lib/python3.7/dist-packages/matplotlib/backends/backend_agg.py:183: RuntimeWarning: Glyph 54252 missing from current font.\n",
            "  font.set_text(s, 0, flags=flags)\n",
            "/usr/local/lib/python3.7/dist-packages/matplotlib/backends/backend_agg.py:183: RuntimeWarning: Glyph 47112 missing from current font.\n",
            "  font.set_text(s, 0, flags=flags)\n",
            "/usr/local/lib/python3.7/dist-packages/matplotlib/backends/backend_agg.py:183: RuntimeWarning: Glyph 49828 missing from current font.\n",
            "  font.set_text(s, 0, flags=flags)\n",
            "/usr/local/lib/python3.7/dist-packages/matplotlib/backends/backend_agg.py:183: RuntimeWarning: Glyph 53944 missing from current font.\n",
            "  font.set_text(s, 0, flags=flags)\n"
          ]
        },
        {
          "output_type": "display_data",
          "data": {
            "text/plain": [
              "<Figure size 432x288 with 1 Axes>"
            ],
            "image/png": "[encoded data removed]"
          },
          "metadata": {
            "needs_background": "light"
          }
        }
      ]
    },
    {
      "cell_type": "markdown",
      "source": [
        "RandomForestClassifier의 ROC가 더 왼쪽 모서리 위에 가까워서 SGDClassifier보다 좋다고 판단."
      ],
      "metadata": {
        "id": "99gxyOf2cwcV"
      }
    },
    {
      "cell_type": "code",
      "source": [
        "## ROC AUC 점수 확인\n",
        "roc_auc_score(y_train_5, y_scores_forest)"
      ],
      "metadata": {
        "colab": {
          "base_uri": "https://localhost:8080/"
        },
        "id": "9r2vsCcLg5GM",
        "outputId": "45ae53ec-d8d3-4a04-8327-b5323248b6f4"
      },
      "execution_count": 63,
      "outputs": [
        {
          "output_type": "execute_result",
          "data": {
            "text/plain": [
              "0.9983436731328145"
            ]
          },
          "metadata": {},
          "execution_count": 63
        }
      ]
    },
    {
      "cell_type": "markdown",
      "source": [
        "-----  \n",
        "## **3.4 다중 분류**\n",
        "\n",
        "다중분류기 : 둘 이상의 클래스 구별  \n",
        "OvR 전략 : 이진분류기 여러개를 훈련시키고 분류기의 결정 점수 중에서 가장 높은 것을 선택  \n",
        "OvO 전략 : 각 대상의 조합마다 이진분류기 훈련. \n",
        "> 다중클래스 분류 작업에 사이킷런이 자동으로 실행"
      ],
      "metadata": {
        "id": "XEbwE1KDiJVI"
      }
    },
    {
      "cell_type": "code",
      "source": [
        "from sklearn.svm import SVC\n",
        "svm_clf = SVC()\n",
        "svm_clf.fit(X_train, y_train)\n",
        "svm_clf.predict([some_digit])"
      ],
      "metadata": {
        "colab": {
          "base_uri": "https://localhost:8080/"
        },
        "id": "3BNISa49koTt",
        "outputId": "50eac401-5ca6-419f-bd99-261693064c54"
      },
      "execution_count": 64,
      "outputs": [
        {
          "output_type": "stream",
          "name": "stderr",
          "text": [
            "/usr/local/lib/python3.7/dist-packages/sklearn/base.py:451: UserWarning: X does not have valid feature names, but SVC was fitted with feature names\n",
            "  \"X does not have valid feature names, but\"\n"
          ]
        },
        {
          "output_type": "execute_result",
          "data": {
            "text/plain": [
              "array([5], dtype=uint8)"
            ]
          },
          "metadata": {},
          "execution_count": 64
        }
      ]
    },
    {
      "cell_type": "markdown",
      "source": [
        "사이킷런이 OvO전략을 사용해서 10개의 이진분류기를 훈련시키고 각각의 결정점수로 최종 클래스 결정."
      ],
      "metadata": {
        "id": "xJdd0SKgk_8N"
      }
    },
    {
      "cell_type": "code",
      "source": [
        "some_digit_scores = svm_clf.decision_function([some_digit])\n",
        "some_digit_scores"
      ],
      "metadata": {
        "colab": {
          "base_uri": "https://localhost:8080/"
        },
        "id": "_ClH3cRplHe_",
        "outputId": "539118b9-e9d5-4326-a09c-5369b6de9673"
      },
      "execution_count": 65,
      "outputs": [
        {
          "output_type": "stream",
          "name": "stderr",
          "text": [
            "/usr/local/lib/python3.7/dist-packages/sklearn/base.py:451: UserWarning: X does not have valid feature names, but SVC was fitted with feature names\n",
            "  \"X does not have valid feature names, but\"\n"
          ]
        },
        {
          "output_type": "execute_result",
          "data": {
            "text/plain": [
              "array([[ 1.72501977,  2.72809088,  7.2510018 ,  8.3076379 , -0.31087254,\n",
              "         9.3132482 ,  1.70975103,  2.76765202,  6.23049537,  4.84771048]])"
            ]
          },
          "metadata": {},
          "execution_count": 65
        }
      ]
    },
    {
      "cell_type": "code",
      "source": [
        "print(np.argmax(some_digit_scores))\n",
        "\n",
        "print(svm_clf.classes_)\n",
        "\n",
        "print(svm_clf.classes_[5])"
      ],
      "metadata": {
        "colab": {
          "base_uri": "https://localhost:8080/"
        },
        "id": "N1ae0e1_lRfL",
        "outputId": "c11edb20-5a7a-4304-c136-990e2f0c89c9"
      },
      "execution_count": 66,
      "outputs": [
        {
          "output_type": "stream",
          "name": "stdout",
          "text": [
            "5\n",
            "[0 1 2 3 4 5 6 7 8 9]\n",
            "5\n"
          ]
        }
      ]
    },
    {
      "cell_type": "markdown",
      "source": [
        "-----  \n",
        "## **3.5 에러분석**\n",
        "\n",
        "오차 행렬을 살펴보기 위해서 cross_val_predict() 함ㅅ를 사용해 예측을 만들고 이전처럼 confusion_matrix() 함수 호출"
      ],
      "metadata": {
        "id": "kY2OaF-nl8Fq"
      }
    },
    {
      "cell_type": "code",
      "source": [
        "from sklearn.preprocessing import StandardScaler\n",
        "scaler = StandardScaler()\n",
        "X_train_scaled = scaler.fit_transform(X_train.astype(np.float64))\n",
        "\n",
        "y_train_pred = cross_val_predict(sgd_clf, X_train_scaled, y_train, cv=3)\n",
        "\n",
        "conf_mx = confusion_matrix(y_train, y_train_pred)\n",
        "conf_mx"
      ],
      "metadata": {
        "colab": {
          "base_uri": "https://localhost:8080/"
        },
        "id": "Hkcah2LzmM_a",
        "outputId": "d67c72cd-56c9-40e5-82cc-d34c08b35b9a"
      },
      "execution_count": 69,
      "outputs": [
        {
          "output_type": "execute_result",
          "data": {
            "text/plain": [
              "array([[5577,    0,   22,    5,    8,   43,   36,    6,  225,    1],\n",
              "       [   0, 6400,   37,   24,    4,   44,    4,    7,  212,   10],\n",
              "       [  27,   27, 5220,   92,   73,   27,   67,   36,  378,   11],\n",
              "       [  22,   17,  117, 5227,    2,  203,   27,   40,  403,   73],\n",
              "       [  12,   14,   41,    9, 5182,   12,   34,   27,  347,  164],\n",
              "       [  27,   15,   30,  168,   53, 4444,   75,   14,  535,   60],\n",
              "       [  30,   15,   42,    3,   44,   97, 5552,    3,  131,    1],\n",
              "       [  21,   10,   51,   30,   49,   12,    3, 5684,  195,  210],\n",
              "       [  17,   63,   48,   86,    3,  126,   25,   10, 5429,   44],\n",
              "       [  25,   18,   30,   64,  118,   36,    1,  179,  371, 5107]])"
            ]
          },
          "metadata": {},
          "execution_count": 69
        }
      ]
    },
    {
      "cell_type": "code",
      "source": [
        "plt.matshow(conf_mx, cmap=plt.cm.gray)\n",
        "plt.show()"
      ],
      "metadata": {
        "colab": {
          "base_uri": "https://localhost:8080/",
          "height": 275
        },
        "id": "_ZMQyXGDnE9W",
        "outputId": "9b216149-5ad6-48b3-cf10-8f963ce779fb"
      },
      "execution_count": 70,
      "outputs": [
        {
          "output_type": "display_data",
          "data": {
            "text/plain": [
              "<Figure size 288x288 with 1 Axes>"
            ],
            "image/png": "[encoded data removed]"
          },
          "metadata": {
            "needs_background": "light"
          }
        }
      ]
    },
    {
      "cell_type": "markdown",
      "source": [
        "오차 행렬이 주대각선 위에 있어서 대부분의 이미지가 올바르게 분류되어있음. "
      ],
      "metadata": {
        "id": "dpiF6KTLqfS6"
      }
    },
    {
      "cell_type": "code",
      "source": [
        "row_sums = conf_mx.sum(axis=1, keepdims=True)\n",
        "norm_conf_mx = conf_mx / row_sums"
      ],
      "metadata": {
        "id": "3IgSiME9nOg3"
      },
      "execution_count": 71,
      "outputs": []
    },
    {
      "cell_type": "code",
      "source": [
        "np.fill_diagonal(norm_conf_mx, 0)\n",
        "plt.matshow(norm_conf_mx, cmap=plt.cm.gray)\n",
        "plt.show()"
      ],
      "metadata": {
        "colab": {
          "base_uri": "https://localhost:8080/",
          "height": 275
        },
        "id": "DjhioRy8ot_p",
        "outputId": "d9abd4cd-015e-4bfb-dde1-ef46d2a9319f"
      },
      "execution_count": 73,
      "outputs": [
        {
          "output_type": "display_data",
          "data": {
            "text/plain": [
              "<Figure size 288x288 with 1 Axes>"
            ],
            "image/png": "[encoded data removed]"
          },
          "metadata": {
            "needs_background": "light"
          }
        }
      ]
    },
    {
      "cell_type": "markdown",
      "source": [
        "클래스 8이 밝은 것으로 보아 많은 이미지가 8로 잘못 분류됨. "
      ],
      "metadata": {
        "id": "Q1zHRvjkljQQ"
      }
    },
    {
      "cell_type": "markdown",
      "source": [
        "-----  \n",
        "## **3.6 다중 레이블 분류**\n",
        "\n",
        "다중레이블 분류 : 여러개이 이진 꼬리표를 출력하는 분류 시스템"
      ],
      "metadata": {
        "id": "Q-mHOjG5rj9f"
      }
    },
    {
      "cell_type": "code",
      "source": [
        "from sklearn.neighbors import KNeighborsClassifier\n",
        "\n",
        "y_train_large = (y_train >= 7)\n",
        "y_train_odd = (y_train %2 ==1)\n",
        "y_multilabel = np.c_[y_train_large, y_train_odd]\n",
        "\n",
        "knn_clf = KNeighborsClassifier()\n",
        "knn_clf.fit(X_train, y_multilabel) # 2개의 타깃 레이블이 담긴 배열"
      ],
      "metadata": {
        "colab": {
          "base_uri": "https://localhost:8080/"
        },
        "id": "tnCLICaqrV97",
        "outputId": "8fddff8e-29d7-46ac-b9f3-9bc4f51ddadd"
      },
      "execution_count": 75,
      "outputs": [
        {
          "output_type": "execute_result",
          "data": {
            "text/plain": [
              "KNeighborsClassifier()"
            ]
          },
          "metadata": {},
          "execution_count": 75
        }
      ]
    },
    {
      "cell_type": "code",
      "source": [
        "knn_clf.predict([some_digit])"
      ],
      "metadata": {
        "colab": {
          "base_uri": "https://localhost:8080/"
        },
        "id": "cZudYJensJNo",
        "outputId": "fa79741e-6beb-4876-d772-d5cfde4b38df"
      },
      "execution_count": 76,
      "outputs": [
        {
          "output_type": "stream",
          "name": "stderr",
          "text": [
            "/usr/local/lib/python3.7/dist-packages/sklearn/base.py:451: UserWarning: X does not have valid feature names, but KNeighborsClassifier was fitted with feature names\n",
            "  \"X does not have valid feature names, but\"\n"
          ]
        },
        {
          "output_type": "execute_result",
          "data": {
            "text/plain": [
              "array([[False,  True]])"
            ]
          },
          "metadata": {},
          "execution_count": 76
        }
      ]
    },
    {
      "cell_type": "code",
      "source": [
        "y_train_knn_pred = cross_val_predict(knn_clf, X_train, y_multilabel, cv=3)\n",
        "f1_score(y_multilabel, y_train_knn_pred, average='macro') # F1 점수 평균 계산"
      ],
      "metadata": {
        "colab": {
          "base_uri": "https://localhost:8080/"
        },
        "id": "f6K9TFgEsh-7",
        "outputId": "0ff24b21-fb53-4447-e5be-165e99de38fa"
      },
      "execution_count": 77,
      "outputs": [
        {
          "output_type": "execute_result",
          "data": {
            "text/plain": [
              "0.976410265560605"
            ]
          },
          "metadata": {},
          "execution_count": 77
        }
      ]
    },
    {
      "cell_type": "markdown",
      "source": [
        "가중치 : 레이블에 클래스의 지지도 반영\n",
        "> average='weighted' 인자 추가"
      ],
      "metadata": {
        "id": "R0xfAAgFtz3L"
      }
    },
    {
      "cell_type": "markdown",
      "source": [
        "-----  \n",
        "## **3.7 다중 출력 분류**\n",
        "\n",
        "다중 출력 다중 클래스 분류 : 다중 레이블 분류에서 한 레이블이 다중 클래스가 될 수 있도록 일반화한 것.  "
      ],
      "metadata": {
        "id": "md8RPJVvuFfM"
      }
    },
    {
      "cell_type": "code",
      "source": [
        "## 훈련/테스트 세트의 픽셀 강도에 잡음 추가\n",
        "\n",
        "noise = np.random.randint(0, 100, (len(X_train), 784))\n",
        "X_train_mod = X_train + noise\n",
        "\n",
        "noise = np.random.randint(0, 100, (len(X_test), 784))\n",
        "X_test_mod = X_test + noise\n",
        "y_train_mod = X_train\n",
        "y_test_mod = X_test"
      ],
      "metadata": {
        "id": "5p8P5DJAues1"
      },
      "execution_count": 78,
      "outputs": []
    },
    {
      "cell_type": "code",
      "source": [
        "knn_clf.fit(X_train_mod, y_train_mod)\n",
        "clean_digit = knn_clf.predict([X_test_mod[some_index]])\n",
        "plot_digit(clean_digit)"
      ],
      "metadata": {
        "colab": {
          "base_uri": "https://localhost:8080/",
          "height": 522
        },
        "id": "3AX2nSVnvUGf",
        "outputId": "3d5172a8-0311-4f71-d343-db7e9d81f2b4"
      },
      "execution_count": 81,
      "outputs": [
        {
          "output_type": "error",
          "ename": "KeyError",
          "evalue": "ignored",
          "traceback": [
            "\u001b[0;31m---------------------------------------------------------------------------\u001b[0m",
            "\u001b[0;31mKeyError\u001b[0m                                  Traceback (most recent call last)",
            "\u001b[0;32m/usr/local/lib/python3.7/dist-packages/pandas/core/indexes/base.py\u001b[0m in \u001b[0;36mget_loc\u001b[0;34m(self, key, method, tolerance)\u001b[0m\n\u001b[1;32m   3360\u001b[0m             \u001b[0;32mtry\u001b[0m\u001b[0;34m:\u001b[0m\u001b[0;34m\u001b[0m\u001b[0;34m\u001b[0m\u001b[0m\n\u001b[0;32m-> 3361\u001b[0;31m                 \u001b[0;32mreturn\u001b[0m \u001b[0mself\u001b[0m\u001b[0;34m.\u001b[0m\u001b[0m_engine\u001b[0m\u001b[0;34m.\u001b[0m\u001b[0mget_loc\u001b[0m\u001b[0;34m(\u001b[0m\u001b[0mcasted_key\u001b[0m\u001b[0;34m)\u001b[0m\u001b[0;34m\u001b[0m\u001b[0;34m\u001b[0m\u001b[0m\n\u001b[0m\u001b[1;32m   3362\u001b[0m             \u001b[0;32mexcept\u001b[0m \u001b[0mKeyError\u001b[0m \u001b[0;32mas\u001b[0m \u001b[0merr\u001b[0m\u001b[0;34m:\u001b[0m\u001b[0;34m\u001b[0m\u001b[0;34m\u001b[0m\u001b[0m\n",
            "\u001b[0;32m/usr/local/lib/python3.7/dist-packages/pandas/_libs/index.pyx\u001b[0m in \u001b[0;36mpandas._libs.index.IndexEngine.get_loc\u001b[0;34m()\u001b[0m\n",
            "\u001b[0;32m/usr/local/lib/python3.7/dist-packages/pandas/_libs/index.pyx\u001b[0m in \u001b[0;36mpandas._libs.index.IndexEngine.get_loc\u001b[0;34m()\u001b[0m\n",
            "\u001b[0;32mpandas/_libs/hashtable_class_helper.pxi\u001b[0m in \u001b[0;36mpandas._libs.hashtable.PyObjectHashTable.get_item\u001b[0;34m()\u001b[0m\n",
            "\u001b[0;32mpandas/_libs/hashtable_class_helper.pxi\u001b[0m in \u001b[0;36mpandas._libs.hashtable.PyObjectHashTable.get_item\u001b[0;34m()\u001b[0m\n",
            "\u001b[0;31mKeyError\u001b[0m: 0",
            "\nThe above exception was the direct cause of the following exception:\n",
            "\u001b[0;31mKeyError\u001b[0m                                  Traceback (most recent call last)",
            "\u001b[0;32m<ipython-input-81-9cc83e131c15>\u001b[0m in \u001b[0;36m<module>\u001b[0;34m()\u001b[0m\n\u001b[1;32m      1\u001b[0m \u001b[0mknn_clf\u001b[0m\u001b[0;34m.\u001b[0m\u001b[0mfit\u001b[0m\u001b[0;34m(\u001b[0m\u001b[0mX_train_mod\u001b[0m\u001b[0;34m,\u001b[0m \u001b[0my_train_mod\u001b[0m\u001b[0;34m)\u001b[0m\u001b[0;34m\u001b[0m\u001b[0;34m\u001b[0m\u001b[0m\n\u001b[0;32m----> 2\u001b[0;31m \u001b[0mclean_digit\u001b[0m \u001b[0;34m=\u001b[0m \u001b[0mknn_clf\u001b[0m\u001b[0;34m.\u001b[0m\u001b[0mpredict\u001b[0m\u001b[0;34m(\u001b[0m\u001b[0;34m[\u001b[0m\u001b[0mX_test_mod\u001b[0m\u001b[0;34m[\u001b[0m\u001b[0msome_index\u001b[0m\u001b[0;34m]\u001b[0m\u001b[0;34m]\u001b[0m\u001b[0;34m)\u001b[0m\u001b[0;34m\u001b[0m\u001b[0;34m\u001b[0m\u001b[0m\n\u001b[0m\u001b[1;32m      3\u001b[0m \u001b[0mplot_digit\u001b[0m\u001b[0;34m(\u001b[0m\u001b[0mclean_digit\u001b[0m\u001b[0;34m)\u001b[0m\u001b[0;34m\u001b[0m\u001b[0;34m\u001b[0m\u001b[0m\n",
            "\u001b[0;32m/usr/local/lib/python3.7/dist-packages/pandas/core/frame.py\u001b[0m in \u001b[0;36m__getitem__\u001b[0;34m(self, key)\u001b[0m\n\u001b[1;32m   3456\u001b[0m             \u001b[0;32mif\u001b[0m \u001b[0mself\u001b[0m\u001b[0;34m.\u001b[0m\u001b[0mcolumns\u001b[0m\u001b[0;34m.\u001b[0m\u001b[0mnlevels\u001b[0m \u001b[0;34m>\u001b[0m \u001b[0;36m1\u001b[0m\u001b[0;34m:\u001b[0m\u001b[0;34m\u001b[0m\u001b[0;34m\u001b[0m\u001b[0m\n\u001b[1;32m   3457\u001b[0m                 \u001b[0;32mreturn\u001b[0m \u001b[0mself\u001b[0m\u001b[0;34m.\u001b[0m\u001b[0m_getitem_multilevel\u001b[0m\u001b[0;34m(\u001b[0m\u001b[0mkey\u001b[0m\u001b[0;34m)\u001b[0m\u001b[0;34m\u001b[0m\u001b[0;34m\u001b[0m\u001b[0m\n\u001b[0;32m-> 3458\u001b[0;31m             \u001b[0mindexer\u001b[0m \u001b[0;34m=\u001b[0m \u001b[0mself\u001b[0m\u001b[0;34m.\u001b[0m\u001b[0mcolumns\u001b[0m\u001b[0;34m.\u001b[0m\u001b[0mget_loc\u001b[0m\u001b[0;34m(\u001b[0m\u001b[0mkey\u001b[0m\u001b[0;34m)\u001b[0m\u001b[0;34m\u001b[0m\u001b[0;34m\u001b[0m\u001b[0m\n\u001b[0m\u001b[1;32m   3459\u001b[0m             \u001b[0;32mif\u001b[0m \u001b[0mis_integer\u001b[0m\u001b[0;34m(\u001b[0m\u001b[0mindexer\u001b[0m\u001b[0;34m)\u001b[0m\u001b[0;34m:\u001b[0m\u001b[0;34m\u001b[0m\u001b[0;34m\u001b[0m\u001b[0m\n\u001b[1;32m   3460\u001b[0m                 \u001b[0mindexer\u001b[0m \u001b[0;34m=\u001b[0m \u001b[0;34m[\u001b[0m\u001b[0mindexer\u001b[0m\u001b[0;34m]\u001b[0m\u001b[0;34m\u001b[0m\u001b[0;34m\u001b[0m\u001b[0m\n",
            "\u001b[0;32m/usr/local/lib/python3.7/dist-packages/pandas/core/indexes/base.py\u001b[0m in \u001b[0;36mget_loc\u001b[0;34m(self, key, method, tolerance)\u001b[0m\n\u001b[1;32m   3361\u001b[0m                 \u001b[0;32mreturn\u001b[0m \u001b[0mself\u001b[0m\u001b[0;34m.\u001b[0m\u001b[0m_engine\u001b[0m\u001b[0;34m.\u001b[0m\u001b[0mget_loc\u001b[0m\u001b[0;34m(\u001b[0m\u001b[0mcasted_key\u001b[0m\u001b[0;34m)\u001b[0m\u001b[0;34m\u001b[0m\u001b[0;34m\u001b[0m\u001b[0m\n\u001b[1;32m   3362\u001b[0m             \u001b[0;32mexcept\u001b[0m \u001b[0mKeyError\u001b[0m \u001b[0;32mas\u001b[0m \u001b[0merr\u001b[0m\u001b[0;34m:\u001b[0m\u001b[0;34m\u001b[0m\u001b[0;34m\u001b[0m\u001b[0m\n\u001b[0;32m-> 3363\u001b[0;31m                 \u001b[0;32mraise\u001b[0m \u001b[0mKeyError\u001b[0m\u001b[0;34m(\u001b[0m\u001b[0mkey\u001b[0m\u001b[0;34m)\u001b[0m \u001b[0;32mfrom\u001b[0m \u001b[0merr\u001b[0m\u001b[0;34m\u001b[0m\u001b[0;34m\u001b[0m\u001b[0m\n\u001b[0m\u001b[1;32m   3364\u001b[0m \u001b[0;34m\u001b[0m\u001b[0m\n\u001b[1;32m   3365\u001b[0m         \u001b[0;32mif\u001b[0m \u001b[0mis_scalar\u001b[0m\u001b[0;34m(\u001b[0m\u001b[0mkey\u001b[0m\u001b[0;34m)\u001b[0m \u001b[0;32mand\u001b[0m \u001b[0misna\u001b[0m\u001b[0;34m(\u001b[0m\u001b[0mkey\u001b[0m\u001b[0;34m)\u001b[0m \u001b[0;32mand\u001b[0m \u001b[0;32mnot\u001b[0m \u001b[0mself\u001b[0m\u001b[0;34m.\u001b[0m\u001b[0mhasnans\u001b[0m\u001b[0;34m:\u001b[0m\u001b[0;34m\u001b[0m\u001b[0;34m\u001b[0m\u001b[0m\n",
            "\u001b[0;31mKeyError\u001b[0m: 0"
          ]
        }
      ]
    }
  ]
}