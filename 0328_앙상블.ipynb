{
  "nbformat": 4,
  "nbformat_minor": 0,
  "metadata": {
    "colab": {
      "name": "0328_앙상블.ipynb",
      "provenance": [],
      "collapsed_sections": [],
      "include_colab_link": true
    },
    "kernelspec": {
      "name": "python3",
      "display_name": "Python 3"
    },
    "language_info": {
      "name": "python"
    }
  },
  "cells": [
    {
      "cell_type": "markdown",
      "metadata": {
        "id": "view-in-github",
        "colab_type": "text"
      },
      "source": [
        "<a href=\"https://colab.research.google.com/github/HyeJin816/ESAA_22/blob/main/0328_%EC%95%99%EC%83%81%EB%B8%94.ipynb\" target=\"_parent\"><img src=\"https://colab.research.google.com/assets/colab-badge.svg\" alt=\"Open In Colab\"/></a>"
      ]
    },
    {
      "cell_type": "markdown",
      "metadata": {
        "id": "Xqp6uVZxd1nG"
      },
      "source": [
        "1-a. MNIST 데이터를 훈련, 검증, 테스트 데이터로 나눈다."
      ]
    },
    {
      "cell_type": "code",
      "metadata": {
        "id": "nWSuFaW2dxtB"
      },
      "source": [
        "from sklearn.model_selection import train_test_split"
      ],
      "execution_count": 2,
      "outputs": []
    },
    {
      "cell_type": "code",
      "metadata": {
        "id": "9LMBXHtpkteY"
      },
      "source": [
        "from sklearn.datasets import fetch_openml\n",
        "import numpy as np\n",
        "\n",
        "mnist = fetch_openml('mnist_784', version=1)\n",
        "mnist.target = mnist.target.astype(np.uint8)"
      ],
      "execution_count": 3,
      "outputs": []
    },
    {
      "cell_type": "code",
      "source": [
        "X_train_val, X_test, y_train_val, y_test = train_test_split(mnist.data, mnist.target, test_size=10000, random_state=42)\n",
        "X_train, X_test_val, y_train, y_test_val = train_test_split(X_train_val, y_train_val, test_size=10000, random_state=42)"
      ],
      "metadata": {
        "id": "XX72fVg254wk"
      },
      "execution_count": 4,
      "outputs": []
    },
    {
      "cell_type": "markdown",
      "metadata": {
        "id": "Ujrp1oT-lImI"
      },
      "source": [
        "1-b. 랜덤 포레스트 분류기, 엑스트라 트리 분류기, SVM 분류기, MLP 분류기를 훈련시킨다. (n_estimators=100, random_state=42)"
      ]
    },
    {
      "cell_type": "code",
      "metadata": {
        "id": "Pq4BoCyiktdQ"
      },
      "source": [
        "from sklearn.ensemble import RandomForestClassifier\n",
        "from sklearn.ensemble import ExtraTreesClassifier\n",
        "from sklearn.svm import SVC\n",
        "from sklearn.neural_network import MLPClassifier"
      ],
      "execution_count": 5,
      "outputs": []
    },
    {
      "cell_type": "code",
      "metadata": {
        "id": "qvnGSyiAnpWa"
      },
      "source": [
        "random_forest_clf = RandomForestClassifier(n_estimators=100, random_state=42)\n",
        "\n",
        "extra_trees_clf = ExtraTreesClassifier(n_estimators=100, random_state=42)\n",
        "\n",
        "svm_clf = SVC(random_state=42, probability=True)\n",
        "\n",
        "mlp_clf = MLPClassifier(random_state=42)"
      ],
      "execution_count": 6,
      "outputs": []
    },
    {
      "cell_type": "code",
      "metadata": {
        "id": "HA6-0plvnpVE",
        "colab": {
          "base_uri": "https://localhost:8080/"
        },
        "outputId": "26759a4f-e7fc-404d-f64f-eff71e25b124"
      },
      "source": [
        "random_forest_clf.fit(X_train, y_train)\n",
        "extra_trees_clf.fit(X_train, y_train)\n",
        "svm_clf.fit(X_train, y_train)\n",
        "mlp_clf.fit(X_train, y_train)"
      ],
      "execution_count": 7,
      "outputs": [
        {
          "output_type": "execute_result",
          "data": {
            "text/plain": [
              "MLPClassifier(random_state=42)"
            ]
          },
          "metadata": {},
          "execution_count": 7
        }
      ]
    },
    {
      "cell_type": "markdown",
      "metadata": {
        "id": "UI2qPZpDn1Dp"
      },
      "source": [
        "1-c. 이들을 직접 투표 분류기를 사용하는 앙상블로 연결한다."
      ]
    },
    {
      "cell_type": "code",
      "metadata": {
        "id": "lcTyQdLYoRCn"
      },
      "source": [
        "from sklearn.ensemble import VotingClassifier"
      ],
      "execution_count": 8,
      "outputs": []
    },
    {
      "cell_type": "code",
      "metadata": {
        "id": "JaJ1xGottbnp"
      },
      "source": [
        "voting_clf = VotingClassifier(\n",
        "    estimators = [('rnd', random_forest_clf),\n",
        "                  ('ext', extra_trees_clf),\n",
        "                  ('svm', svm_clf),\n",
        "                  ('mlp', mlp_clf)],\n",
        "    voting='hard')\n",
        "\n",
        "voting_clf.fit(X_train, y_train)"
      ],
      "execution_count": null,
      "outputs": []
    },
    {
      "cell_type": "code",
      "source": [
        "voting_pred = voting_clf.predict(X_test)"
      ],
      "metadata": {
        "id": "uVbG4gqiCOHz"
      },
      "execution_count": null,
      "outputs": []
    },
    {
      "cell_type": "markdown",
      "metadata": {
        "id": "5XaWFdAJ2CZ2"
      },
      "source": [
        "1-d. 다른 분류기보다 성능이 많이 떨어졌던 선형 SVM 제거 후 VotingClassifier를 다시 평가"
      ]
    },
    {
      "cell_type": "code",
      "metadata": {
        "id": "TU_J0j4O2Kw-"
      },
      "source": [
        "voting_clf2 = VotingClassifier(\n",
        "    estimators = [('rnd', random_forest_clf),\n",
        "                  ('ext', extra_trees_clf),\n",
        "                  ('mlp', mlp_clf)],\n",
        "    voting='hard')\n",
        "\n",
        "voting_clf2.fit(X_train, y_train)"
      ],
      "execution_count": null,
      "outputs": []
    },
    {
      "cell_type": "code",
      "metadata": {
        "id": "Ima-U47a2SGA"
      },
      "source": [
        "voting_pred2 = voting_clf2.predict(X_test)"
      ],
      "execution_count": null,
      "outputs": []
    },
    {
      "cell_type": "code",
      "source": [
        "# SVM 유무에 따른 성능 비교\n",
        "\n",
        "from sklearn.metrics import accuracy_score\n",
        "\n",
        "print('VotingClassifier', accuracy_score(y_test, voting_pred))\n",
        "print('SVM 제거', accuracy_score(y_test, voting_pred2))"
      ],
      "metadata": {
        "id": "EMaV4ixaCfJL"
      },
      "execution_count": null,
      "outputs": []
    },
    {
      "cell_type": "markdown",
      "metadata": {
        "id": "8qYEEuAvsGho"
      },
      "source": [
        "1-d. 간접 투표 분류기를 사용하여 앙상블로 연결."
      ]
    },
    {
      "cell_type": "code",
      "metadata": {
        "id": "T74JWjKBoxQf"
      },
      "source": [
        "voting_clf3 = VotingClassifier(\n",
        "    estimators = [('rnd', random_forest_clf),\n",
        "                  ('ext', extra_trees_clf),\n",
        " #                 ('svm', svm_clf),\n",
        "                  ('mlp', mlp_clf)],\n",
        "    voting='soft')\n",
        "\n",
        "voting_clf3.fit(X_train, y_train)"
      ],
      "execution_count": null,
      "outputs": []
    },
    {
      "cell_type": "code",
      "source": [
        "voting_pred3 = voting_clf3.predict(X_test)\n",
        "\n",
        "print('간접투표분류기', accuracy_score(y_test, voting_pred3))\n",
        "\n",
        "#voting_pred3.score(X_val,y_val)"
      ],
      "metadata": {
        "id": "Ef1lWUaEDOaZ"
      },
      "execution_count": null,
      "outputs": []
    }
  ]
}