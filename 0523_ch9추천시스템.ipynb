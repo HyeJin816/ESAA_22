{
  "nbformat": 4,
  "nbformat_minor": 0,
  "metadata": {
    "colab": {
      "name": "0523_ch9추천시스템.ipynb",
      "provenance": [],
      "collapsed_sections": [],
      "authorship_tag": "ABX9TyNYak9tBvM9NhO3MGxQ6zRG",
      "include_colab_link": true
    },
    "kernelspec": {
      "name": "python3",
      "display_name": "Python 3"
    },
    "language_info": {
      "name": "python"
    }
  },
  "cells": [
    {
      "cell_type": "markdown",
      "metadata": {
        "id": "view-in-github",
        "colab_type": "text"
      },
      "source": [
        "<a href=\"https://colab.research.google.com/github/HyeJin816/ESAA_22/blob/main/0523_ch9%EC%B6%94%EC%B2%9C%EC%8B%9C%EC%8A%A4%ED%85%9C.ipynb\" target=\"_parent\"><img src=\"https://colab.research.google.com/assets/colab-badge.svg\" alt=\"Open In Colab\"/></a>"
      ]
    },
    {
      "cell_type": "markdown",
      "source": [
        "# **9.8 파이썬추천시스템패키지**\n"
      ],
      "metadata": {
        "id": "wbcYVM3vHRU6"
      }
    },
    {
      "cell_type": "markdown",
      "source": [
        "## **Surprise 패키지**"
      ],
      "metadata": {
        "id": "j8teSdgyHlvA"
      }
    },
    {
      "cell_type": "markdown",
      "source": [
        ": 파이썬 기반 추천 시스템 패키지\n",
        "> 사용자&아이템 기반 최근접 이웃 협업 필터링, SVD, SVD++, NMF 기반 잠재 요인 협업 필터링  \n",
        "> 사이킷런의 핵심 API와 유사  \n",
        "> 모델 셀렉션, 평가, 하이퍼 파라미터 튜닝 등의 기능을 제공"
      ],
      "metadata": {
        "id": "BLFXipzsHneg"
      }
    },
    {
      "cell_type": "code",
      "source": [
        "pip install scikit-surprise"
      ],
      "metadata": {
        "colab": {
          "base_uri": "https://localhost:8080/"
        },
        "id": "CdFg2J2NIUVj",
        "outputId": "bb12dfb4-e237-405c-d032-70dab312ee1b"
      },
      "execution_count": 2,
      "outputs": [
        {
          "output_type": "stream",
          "name": "stdout",
          "text": [
            "Collecting scikit-surprise\n",
            "  Downloading scikit-surprise-1.1.1.tar.gz (11.8 MB)\n",
            "\u001b[K     |████████████████████████████████| 11.8 MB 23.3 MB/s \n",
            "\u001b[?25hRequirement already satisfied: joblib>=0.11 in /usr/local/lib/python3.7/dist-packages (from scikit-surprise) (1.1.0)\n",
            "Requirement already satisfied: numpy>=1.11.2 in /usr/local/lib/python3.7/dist-packages (from scikit-surprise) (1.21.6)\n",
            "Requirement already satisfied: scipy>=1.0.0 in /usr/local/lib/python3.7/dist-packages (from scikit-surprise) (1.4.1)\n",
            "Requirement already satisfied: six>=1.10.0 in /usr/local/lib/python3.7/dist-packages (from scikit-surprise) (1.15.0)\n",
            "Building wheels for collected packages: scikit-surprise\n",
            "  Building wheel for scikit-surprise (setup.py) ... \u001b[?25l\u001b[?25hdone\n",
            "  Created wheel for scikit-surprise: filename=scikit_surprise-1.1.1-cp37-cp37m-linux_x86_64.whl size=1633743 sha256=221ce18b0d660dd1fae25f86a95be430fef577b8b6e975d9ae38f4a14cb87786\n",
            "  Stored in directory: /root/.cache/pip/wheels/76/44/74/b498c42be47b2406bd27994e16c5188e337c657025ab400c1c\n",
            "Successfully built scikit-surprise\n",
            "Installing collected packages: scikit-surprise\n",
            "Successfully installed scikit-surprise-1.1.1\n"
          ]
        }
      ]
    },
    {
      "cell_type": "code",
      "source": [
        "import surprise \n",
        "\n",
        "print(surprise.__version__)"
      ],
      "metadata": {
        "colab": {
          "base_uri": "https://localhost:8080/"
        },
        "id": "ZtxJb4AHIOB7",
        "outputId": "b9005571-9388-4350-9eda-80a4c556b8f5"
      },
      "execution_count": 3,
      "outputs": [
        {
          "output_type": "stream",
          "name": "stdout",
          "text": [
            "1.1.1\n"
          ]
        }
      ]
    },
    {
      "cell_type": "markdown",
      "source": [
        "## **Surprise 를 이용한 추천 시스템 구축**"
      ],
      "metadata": {
        "id": "ItxEcfyzIgx9"
      }
    },
    {
      "cell_type": "code",
      "source": [
        "from surprise import SVD\n",
        "from surprise import Dataset \n",
        "from surprise import accuracy \n",
        "from surprise.model_selection import train_test_split"
      ],
      "metadata": {
        "id": "oDzqZmayIXEI"
      },
      "execution_count": 4,
      "outputs": []
    },
    {
      "cell_type": "code",
      "source": [
        "data = Dataset.load_builtin('ml-100k') \n",
        "trainset, testset = train_test_split(data, test_size=.25, random_state=0) "
      ],
      "metadata": {
        "colab": {
          "base_uri": "https://localhost:8080/"
        },
        "id": "gI7mX1wqIPt9",
        "outputId": "cbae06ad-97bb-45b3-fbb3-926b5346252f"
      },
      "execution_count": 5,
      "outputs": [
        {
          "output_type": "stream",
          "name": "stdout",
          "text": [
            "Dataset ml-100k could not be found. Do you want to download it? [Y/n] \n",
            "Trying to download dataset from http://files.grouplens.org/datasets/movielens/ml-100k.zip...\n",
            "Done! Dataset ml-100k has been saved to /root/.surprise_data/ml-100k\n"
          ]
        }
      ]
    },
    {
      "cell_type": "code",
      "source": [
        "algo = SVD()\n",
        "algo.fit(trainset) "
      ],
      "metadata": {
        "colab": {
          "base_uri": "https://localhost:8080/"
        },
        "id": "XGsTH1g6IYnc",
        "outputId": "bf5bff38-ea67-49cc-a07b-0d0ebdbea5e2"
      },
      "execution_count": 6,
      "outputs": [
        {
          "output_type": "execute_result",
          "data": {
            "text/plain": [
              "<surprise.prediction_algorithms.matrix_factorization.SVD at 0x7fa1eb8e58d0>"
            ]
          },
          "metadata": {},
          "execution_count": 6
        }
      ]
    },
    {
      "cell_type": "markdown",
      "source": [
        "**Surprise에서 추천 예측 메서드**\n",
        "* ```test()```: 사용자-아이템 평점 데이터 세트 전체에 대한 추천 데이터 추천 세트\n",
        "* ```prdict()```: 개별 사용자와 영화에 대한 추천 평점 반환"
      ],
      "metadata": {
        "id": "S_GBsvApI7RV"
      }
    },
    {
      "cell_type": "code",
      "source": [
        "predictions = algo.test( testset )\n",
        "print('prediction type :',type(predictions), ' size:',len(predictions))\n",
        "print('prediction 결과의 최초 5개 추출')\n",
        "predictions[:5]"
      ],
      "metadata": {
        "colab": {
          "base_uri": "https://localhost:8080/"
        },
        "id": "Gc_7sJMmIai6",
        "outputId": "d8edf4e0-274a-4ba1-9ec3-6d670423378c"
      },
      "execution_count": 7,
      "outputs": [
        {
          "output_type": "stream",
          "name": "stdout",
          "text": [
            "prediction type : <class 'list'>  size: 25000\n",
            "prediction 결과의 최초 5개 추출\n"
          ]
        },
        {
          "output_type": "execute_result",
          "data": {
            "text/plain": [
              "[Prediction(uid='120', iid='282', r_ui=4.0, est=3.571907616186998, details={'was_impossible': False}),\n",
              " Prediction(uid='882', iid='291', r_ui=4.0, est=3.980445787254438, details={'was_impossible': False}),\n",
              " Prediction(uid='535', iid='507', r_ui=5.0, est=4.0419942500203785, details={'was_impossible': False}),\n",
              " Prediction(uid='697', iid='244', r_ui=5.0, est=3.4797829745835727, details={'was_impossible': False}),\n",
              " Prediction(uid='751', iid='385', r_ui=4.0, est=3.195116428806458, details={'was_impossible': False})]"
            ]
          },
          "metadata": {},
          "execution_count": 7
        }
      ]
    },
    {
      "cell_type": "markdown",
      "source": [
        "*'was_impossible'*\n",
        "> 예측 불가능 데이터 True  \n",
        "> 예측 가능 데이터 False"
      ],
      "metadata": {
        "id": "_q3FSfnoJgek"
      }
    },
    {
      "cell_type": "code",
      "source": [
        "[ (pred.uid, pred.iid, pred.est) for pred in predictions[:3] ]"
      ],
      "metadata": {
        "colab": {
          "base_uri": "https://localhost:8080/"
        },
        "id": "z_EnDMy2JVvZ",
        "outputId": "f58f88dd-5aa0-4b7f-f0cc-5842c929342c"
      },
      "execution_count": 8,
      "outputs": [
        {
          "output_type": "execute_result",
          "data": {
            "text/plain": [
              "[('120', '282', 3.571907616186998),\n",
              " ('882', '291', 3.980445787254438),\n",
              " ('535', '507', 4.0419942500203785)]"
            ]
          },
          "metadata": {},
          "execution_count": 8
        }
      ]
    },
    {
      "cell_type": "code",
      "source": [
        "# 사용자 아이디, 아이템 아이디는 문자열로 입력해야 함. \n",
        "uid = str(196)\n",
        "iid = str(302)\n",
        "pred = algo.predict(uid, iid)\n",
        "print(pred)"
      ],
      "metadata": {
        "colab": {
          "base_uri": "https://localhost:8080/"
        },
        "id": "ga7EuQxlJXVQ",
        "outputId": "9957b136-62bb-4c0d-cc5a-4b28cd9fc15d"
      },
      "execution_count": 9,
      "outputs": [
        {
          "output_type": "stream",
          "name": "stdout",
          "text": [
            "user: 196        item: 302        r_ui = None   est = 4.34   {'was_impossible': False}\n"
          ]
        }
      ]
    },
    {
      "cell_type": "code",
      "source": [
        "accuracy.rmse(predictions)"
      ],
      "metadata": {
        "colab": {
          "base_uri": "https://localhost:8080/"
        },
        "id": "Q8DCH7M7JY43",
        "outputId": "85fc3671-07d8-4fbc-a9a5-dae6a61d3635"
      },
      "execution_count": 10,
      "outputs": [
        {
          "output_type": "stream",
          "name": "stdout",
          "text": [
            "RMSE: 0.9462\n"
          ]
        },
        {
          "output_type": "execute_result",
          "data": {
            "text/plain": [
              "0.9461770940293464"
            ]
          },
          "metadata": {},
          "execution_count": 10
        }
      ]
    },
    {
      "cell_type": "markdown",
      "source": [
        "## **Surprise 주요 모듈 소개**"
      ],
      "metadata": {
        "id": "tKxLrHCJJs3c"
      }
    },
    {
      "cell_type": "markdown",
      "source": [
        "데이터 세트의 칼럼 순서가 *사용자 아이디 - 아이템 아이디 - 평점* 순  \n",
        "> ```Dataset.load_builtin(name='ml-100k')```: 무비렌즈 FTP 서버에서 받은 데이터를 저장  \n",
        "> ```Dataset.load_from_file(file_path, reader)``` : OS파일에서 데이터 로딩. \n",
        "> ```Dataset.load_from_df(df, reader)``` : 판다스 DataFrame에서 데이터 로딩"
      ],
      "metadata": {
        "id": "NFZDIJIXJ20I"
      }
    },
    {
      "cell_type": "markdown",
      "source": [
        "다른 OS 파일 사용 위한 Reader 클래스 생성 파라미터\n",
        "* ```line_format(string)```: 칼럼을 순서대로 나열. 문자열을 공백으로 분리해 칼럼으로 인식\n",
        "* ```sep(char)```: 칼럼을 분리하는 분리자. 디폴트는 ```\\t```. (DataFrame에서 입력받을 경우에는 기재할 필요없음)\n",
        "* ```rating_scale(Tuple, optional)``` : 평점 값의 최소~최대 설정"
      ],
      "metadata": {
        "id": "_5GOKgoXKjre"
      }
    },
    {
      "cell_type": "code",
      "source": [
        "ratings = pd.read_csv('/content/ratings.csv')\n",
        "#ratings_noh.csv 파일로 언로드 시 인덱스와 헤더를 모두 제거한 새로운 파일 생성\n",
        "ratings.to_csv('/content/ratings_noh.csv', index=False, header=False)"
      ],
      "metadata": {
        "id": "2A8HgeYTLJHT"
      },
      "execution_count": 29,
      "outputs": []
    },
    {
      "cell_type": "code",
      "source": [
        "from surprise import Reader\n",
        "\n",
        "reader = Reader(line_format='user item rating timestamp', sep=',', rating_scale=(0.5, 5))\n",
        "data=Dataset.load_from_file('/content/ratings_noh.csv',reader=reader)"
      ],
      "metadata": {
        "id": "mOfp7A_NLJZx"
      },
      "execution_count": 30,
      "outputs": []
    },
    {
      "cell_type": "code",
      "source": [
        "trainset, testset = train_test_split(data, test_size=.25, random_state=0)\n",
        "\n",
        "# 수행시마다 동일한 결과 도출을 위해 random_state 설정 \n",
        "algo = SVD(n_factors=50, random_state=0)\n",
        "\n",
        "# 학습 데이터 세트로 학습 후 테스트 데이터 세트로 평점 예측 후 RMSE 평가\n",
        "algo.fit(trainset) \n",
        "predictions = algo.test( testset )\n",
        "accuracy.rmse(predictions)"
      ],
      "metadata": {
        "colab": {
          "base_uri": "https://localhost:8080/"
        },
        "id": "R8eTWpoQLKtw",
        "outputId": "bff59f0b-6f99-48b3-a13c-81391e49ebfd"
      },
      "execution_count": 31,
      "outputs": [
        {
          "output_type": "stream",
          "name": "stdout",
          "text": [
            "RMSE: 0.8583\n"
          ]
        },
        {
          "output_type": "execute_result",
          "data": {
            "text/plain": [
              "0.8583461095509001"
            ]
          },
          "metadata": {},
          "execution_count": 31
        }
      ]
    },
    {
      "cell_type": "markdown",
      "source": [
        "### **판다스 DataFrame에서 Surprise 데이터 세트로 로딩**"
      ],
      "metadata": {
        "id": "coHo2rsyLdCe"
      }
    },
    {
      "cell_type": "code",
      "source": [
        "ratings = pd.read_csv('/content/ratings.csv')\n",
        "reader = Reader(rating_scale = (0.5, 5.0))\n",
        "\n",
        "#ratings DataFrame에서 칼럼은 사용자 아이디, 아이템 아이디, 평점 순서\n",
        "data = Dataset.load_from_df(ratings[['userId', 'movieId', 'rating']], reader)\n",
        "trainset, testset = train_test_split(data, test_size = .25, random_state=0)\n",
        "\n",
        "algo = SVD(n_factors=50, random_state=0)\n",
        "algo.fit(trainset)\n",
        "predidctions = algo.test(testset)\n",
        "accuracy.rmse(predictions)"
      ],
      "metadata": {
        "colab": {
          "base_uri": "https://localhost:8080/"
        },
        "id": "tQZgphHQLL3u",
        "outputId": "bdc28a7f-5b69-4f3a-bb20-a547906dcfa2"
      },
      "execution_count": 34,
      "outputs": [
        {
          "output_type": "stream",
          "name": "stdout",
          "text": [
            "RMSE: 0.8583\n"
          ]
        },
        {
          "output_type": "execute_result",
          "data": {
            "text/plain": [
              "0.8583461095509001"
            ]
          },
          "metadata": {},
          "execution_count": 34
        }
      ]
    },
    {
      "cell_type": "markdown",
      "source": [
        "### **Surprise 추천 알고리즘 클래스**"
      ],
      "metadata": {
        "id": "4xlBYAwdTYhL"
      }
    },
    {
      "cell_type": "markdown",
      "source": [
        "> **SVD**: 행렬 분해를 통한 잠재 요인 협업 필터링을 위한 SVD 알고리즘  \n",
        "> **KNNBasic**: 최근접 이웃 협업 필터링을 위한 KNN 알고리즘  \n",
        "> **BaselineOnly**: 사용자 Bias와 아이템 Bias를 감안한 SGD 베이스라인 알고리즘  \n",
        "\n",
        "베이스라인 평점 : 개인의 성향을 반영해 아이템 평가에 편향성(bias) 요소를 반영하여 평점 부과"
      ],
      "metadata": {
        "id": "9zK-Hq3zTaUr"
      }
    },
    {
      "cell_type": "markdown",
      "source": [
        "## **교차 검증과 하이퍼 파라미터 튜닝**"
      ],
      "metadata": {
        "id": "vqpAkdATT1us"
      }
    },
    {
      "cell_type": "code",
      "source": [
        "from surprise.model_selection import cross_validate \n",
        "\n",
        "# Pandas DataFrame에서 Surprise Dataset으로 데이터 로딩 \n",
        "ratings = pd.read_csv('/content/ratings.csv') # reading data in pandas df\n",
        "reader = Reader(rating_scale=(0.5, 5.0))\n",
        "data = Dataset.load_from_df(ratings[['userId', 'movieId', 'rating']], reader)\n",
        "\n",
        "algo = SVD(random_state=0) \n",
        "cross_validate(algo, data, measures=['RMSE', 'MAE'], cv=5, verbose=True)"
      ],
      "metadata": {
        "colab": {
          "base_uri": "https://localhost:8080/"
        },
        "id": "qFZuupaPT5kq",
        "outputId": "ad0caa24-aadb-46fa-e6b4-a5007cd34aac"
      },
      "execution_count": 35,
      "outputs": [
        {
          "output_type": "stream",
          "name": "stdout",
          "text": [
            "Evaluating RMSE, MAE of algorithm SVD on 5 split(s).\n",
            "\n",
            "                  Fold 1  Fold 2  Fold 3  Fold 4  Fold 5  Mean    Std     \n",
            "RMSE (testset)    0.8537  0.8524  0.8547  0.8539  0.8563  0.8542  0.0013  \n",
            "MAE (testset)     0.6517  0.6491  0.6513  0.6513  0.6526  0.6512  0.0012  \n",
            "Fit time          31.92   30.95   31.36   31.16   31.03   31.28   0.35    \n",
            "Test time         1.32    1.32    1.35    1.38    1.37    1.35    0.03    \n"
          ]
        },
        {
          "output_type": "execute_result",
          "data": {
            "text/plain": [
              "{'fit_time': (31.92136836051941,\n",
              "  30.948162317276,\n",
              "  31.357829809188843,\n",
              "  31.16181182861328,\n",
              "  31.034483432769775),\n",
              " 'test_mae': array([0.65172179, 0.64905722, 0.65129049, 0.65133695, 0.65259563]),\n",
              " 'test_rmse': array([0.85368576, 0.85236282, 0.85472251, 0.85390333, 0.85627741]),\n",
              " 'test_time': (1.3217451572418213,\n",
              "  1.315734624862671,\n",
              "  1.3538198471069336,\n",
              "  1.3846731185913086,\n",
              "  1.3718748092651367)}"
            ]
          },
          "metadata": {},
          "execution_count": 35
        }
      ]
    },
    {
      "cell_type": "code",
      "source": [
        "from surprise.model_selection import GridSearchCV\n",
        "\n",
        "# 최적화할 파라미터들을 딕셔너리 형태로 지정. \n",
        "param_grid = {'n_epochs': [20, 40, 60], 'n_factors': [50, 100, 200] }\n",
        "\n",
        "# CV를 3개 폴드 세트로 지정, 성능 평가는 rmse, mse 로 수행 하도록 GridSearchCV 구성\n",
        "gs = GridSearchCV(SVD, param_grid, measures=['rmse', 'mae'], cv=3)\n",
        "gs.fit(data)\n",
        "\n",
        "# 최고 RMSE Evaluation 점수와 그때의 하이퍼 파라미터\n",
        "print(gs.best_score['rmse'])\n",
        "print(gs.best_params['rmse'])"
      ],
      "metadata": {
        "colab": {
          "base_uri": "https://localhost:8080/"
        },
        "id": "JH2h0sLkT7eV",
        "outputId": "53ea147c-3e25-4ace-96a8-3e933721f23f"
      },
      "execution_count": 36,
      "outputs": [
        {
          "output_type": "stream",
          "name": "stdout",
          "text": [
            "0.8633195466466272\n",
            "{'n_epochs': 20, 'n_factors': 50}\n"
          ]
        }
      ]
    },
    {
      "cell_type": "markdown",
      "source": [
        "## **Surprise를 이용한 개인화 영화 추천 시스템 구축**"
      ],
      "metadata": {
        "id": "C_8OT5nNT9vj"
      }
    },
    {
      "cell_type": "code",
      "source": [
        "from surprise.dataset import DatasetAutoFolds\n",
        "\n",
        "reader = Reader(line_format='user item rating timestamp', sep=',', rating_scale=(0.5, 5))\n",
        "# DatasetAutoFolds 클래스를 ratings_noh.csv 파일 기반으로 생성. \n",
        "data_folds = DatasetAutoFolds(ratings_file='/content/ratings_noh.csv', reader=reader)\n",
        "\n",
        "#전체 데이터를 학습데이터로 생성함. \n",
        "trainset = data_folds.build_full_trainset()"
      ],
      "metadata": {
        "id": "_Hwh5K6nUBo2"
      },
      "execution_count": 39,
      "outputs": []
    },
    {
      "cell_type": "code",
      "source": [
        "algo = SVD(n_epochs=20, n_factors=50, random_state=0)\n",
        "algo.fit(trainset)"
      ],
      "metadata": {
        "colab": {
          "base_uri": "https://localhost:8080/"
        },
        "id": "w7Hwf8qgUC6t",
        "outputId": "4f4af0fb-8e11-4341-cf52-12ab0a3d3a08"
      },
      "execution_count": 40,
      "outputs": [
        {
          "output_type": "execute_result",
          "data": {
            "text/plain": [
              "<surprise.prediction_algorithms.matrix_factorization.SVD at 0x7fa1e3c86ed0>"
            ]
          },
          "metadata": {},
          "execution_count": 40
        }
      ]
    },
    {
      "cell_type": "code",
      "source": [
        "# 영화에 대한 상세 속성 정보 DataFrame로딩\n",
        "movies = pd.read_csv('/content/movies.csv')\n",
        "\n",
        "# userId=9 의 movieId 데이터 추출하여 movieId=42 데이터가 있는지 확인. \n",
        "movieIds = ratings[ratings['userId']==9]['movieId']\n",
        "if movieIds[movieIds==42].count() == 0:\n",
        "    print('사용자 아이디 9는 영화 아이디 42의 평점 없음')\n",
        "\n",
        "print(movies[movies['movieId']==42])"
      ],
      "metadata": {
        "colab": {
          "base_uri": "https://localhost:8080/"
        },
        "id": "_fzxKiTLUD6g",
        "outputId": "ccd92a67-4832-4717-a192-1e24d5f01bbe"
      },
      "execution_count": 41,
      "outputs": [
        {
          "output_type": "stream",
          "name": "stdout",
          "text": [
            "사용자 아이디 9는 영화 아이디 42의 평점 없음\n",
            "    movieId                   title              genres\n",
            "38       42  Dead Presidents (1995)  Action|Crime|Drama\n"
          ]
        }
      ]
    },
    {
      "cell_type": "code",
      "source": [
        "uid = str(9)\n",
        "iid = str(42)\n",
        "\n",
        "pred = algo.predict(uid, iid, verbose=True)"
      ],
      "metadata": {
        "colab": {
          "base_uri": "https://localhost:8080/"
        },
        "id": "nNagwG_OUFDk",
        "outputId": "40221c6a-a447-493c-daf0-e61ad100497b"
      },
      "execution_count": 42,
      "outputs": [
        {
          "output_type": "stream",
          "name": "stdout",
          "text": [
            "user: 9          item: 42         r_ui = None   est = 2.91   {'was_impossible': False}\n"
          ]
        }
      ]
    },
    {
      "cell_type": "code",
      "source": [
        "def get_unseen_surprise(ratings, movies, userId):\n",
        "    #입력값으로 들어온 userId에 해당하는 사용자가 평점을 매긴 모든 영화를 리스트로 생성\n",
        "    seen_movies = ratings[ratings['userId']== userId]['movieId'].tolist()\n",
        "    \n",
        "    # 모든 영화들의 movieId를 리스트로 생성. \n",
        "    total_movies = movies['movieId'].tolist()\n",
        "    \n",
        "    # 모든 영화들의 movieId중 이미 평점을 매긴 영화의 movieId를 제외하여 리스트로 생성\n",
        "    unseen_movies= [movie for movie in total_movies if movie not in seen_movies]\n",
        "    print('평점 매긴 영화수:',len(seen_movies), '추천대상 영화수:',len(unseen_movies), \\\n",
        "          '전체 영화수:',len(total_movies))\n",
        "    \n",
        "    return unseen_movies\n",
        "\n",
        "unseen_movies = get_unseen_surprise(ratings, movies, 9)"
      ],
      "metadata": {
        "colab": {
          "base_uri": "https://localhost:8080/"
        },
        "id": "FqB5ShSRUGXI",
        "outputId": "05f72128-757b-4d70-c44d-48baf7b67da4"
      },
      "execution_count": 43,
      "outputs": [
        {
          "output_type": "stream",
          "name": "stdout",
          "text": [
            "평점 매긴 영화수: 1 추천대상 영화수: 9741 전체 영화수: 9742\n"
          ]
        }
      ]
    },
    {
      "cell_type": "code",
      "source": [
        "def recomm_movie_by_surprise(algo, userId, unseen_movies, top_n=10):\n",
        "    #알고리즘 객체의 predict() 메서드를 평점이 없는 영화에 반복 수행 수 결과를 list로 저장\n",
        "    predictions = [algo.predict(str(userId), str(movieId)) for movieId in unseen_movies]\n",
        "\n",
        "    #predictions list 객체는 surprise의 Predictions 객체를 원소로 가짐\n",
        "    #이를 est 값으로 정렬하기 위해 아래의 sortkey_est 함수 정의\n",
        "    #sortkey_est 함수는 list 객체의 sort() 함수의 키 값을 사용되어 정렬 수행\n",
        "    def sortkey_est(pred):\n",
        "        return pred.est\n",
        "\n",
        "    #sortkey_esr() 반환값의 내림차순으로 정렬 수행 후 top_n개의 최상위 값 추출\n",
        "    predictions.sort(key=sortkey_est, reverse=True)\n",
        "    top_predictions=predictions[:top_n]\n",
        "\n",
        "    #top_n으로 추출된 영화의 정보 추출. 영화 아이디, 추천 예상 평점, 제목 추출\n",
        "    top_movie_ids = [int(pred.iid) for pred in top_predictions]\n",
        "    top_movie_rating = [pred.est for pred in top_predictions]\n",
        "    top_movie_titles = movies[movies.movieId.isin(top_movie_ids)]['title']\n",
        "\n",
        "    top_movie_preds = [(id, title, rating) for id, title, rating in zip(top_movie_ids, top_movie_titles, top_movie_rating)]\n",
        "\n",
        "    return top_movie_preds"
      ],
      "metadata": {
        "id": "nEUwlAoDUNOR"
      },
      "execution_count": 44,
      "outputs": []
    },
    {
      "cell_type": "code",
      "source": [
        "unseen_movies = get_unseen_surprise(ratings, movies, 9)\n",
        "top_movie_preds = recomm_movie_by_surprise(algo, 9, unseen_movies, top_n=10)\n",
        "\n",
        "print('#### Top-10 추천 영화 리스트 ####')\n",
        "for top_movie in top_movie_preds:\n",
        "    print(top_movie[1], ':', round(top_movie[2], 3))"
      ],
      "metadata": {
        "colab": {
          "base_uri": "https://localhost:8080/"
        },
        "id": "dJ7Phu3UUSOe",
        "outputId": "c97e8d4f-5831-4be4-d60e-a54fece563cc"
      },
      "execution_count": 45,
      "outputs": [
        {
          "output_type": "stream",
          "name": "stdout",
          "text": [
            "평점 매긴 영화수: 1 추천대상 영화수: 9741 전체 영화수: 9742\n",
            "#### Top-10 추천 영화 리스트 ####\n",
            "Usual Suspects, The (1995) : 4.654\n",
            "Pulp Fiction (1994) : 4.62\n",
            "Shawshank Redemption, The (1994) : 4.556\n",
            "Cinema Paradiso (Nuovo cinema Paradiso) (1989) : 4.556\n",
            "Life Is Beautiful (La Vita è bella) (1997) : 4.526\n",
            "Wages of Fear, The (Salaire de la peur, Le) (1953) : 4.507\n",
            "High and Low (Tengoku to jigoku) (1963) : 4.501\n",
            "Jetée, La (1962) : 4.467\n",
            "Voices from the List (2004) : 4.448\n",
            "Black Mirror: White Christmas (2014) : 4.441\n"
          ]
        }
      ]
    }
  ]
}