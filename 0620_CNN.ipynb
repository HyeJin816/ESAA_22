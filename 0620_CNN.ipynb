{
  "nbformat": 4,
  "nbformat_minor": 0,
  "metadata": {
    "colab": {
      "name": "0620_CNN.ipynb",
      "provenance": [],
      "collapsed_sections": [],
      "authorship_tag": "ABX9TyMZKHl4ySmwAToaPhD/Tjvb",
      "include_colab_link": true
    },
    "kernelspec": {
      "name": "python3",
      "display_name": "Python 3"
    },
    "language_info": {
      "name": "python"
    }
  },
  "cells": [
    {
      "cell_type": "markdown",
      "metadata": {
        "id": "view-in-github",
        "colab_type": "text"
      },
      "source": [
        "<a href=\"https://colab.research.google.com/github/HyeJin816/ESAA_22/blob/main/0620_CNN.ipynb\" target=\"_parent\"><img src=\"https://colab.research.google.com/assets/colab-badge.svg\" alt=\"Open In Colab\"/></a>"
      ]
    },
    {
      "cell_type": "markdown",
      "source": [
        "# **Part04. 합성곱 신경망(CNN)**"
      ],
      "metadata": {
        "id": "wr-lBWd2xH_J"
      }
    },
    {
      "cell_type": "markdown",
      "source": [
        "## **01 합성곱 신경망**"
      ],
      "metadata": {
        "id": "ANALliOGxRda"
      }
    },
    {
      "cell_type": "markdown",
      "source": [
        ": 데이터가 가진 특징들의 패턴을 학습하는 알고리즘\n",
        "> 이미지 분류 / 객체 탐지 / 스타일 전이"
      ],
      "metadata": {
        "id": "KzieYC7JxUBU"
      }
    },
    {
      "cell_type": "markdown",
      "source": [
        "### **1-1 이미지 표현**  \n",
        "\n",
        "* 손글씨 이미지 : 각 필셀의 화소값을 나타냄. 검은색과 흰색의 조합  \n",
        "* 컬러 이미지 : R,G,B 채널. 숫자가 클수록 강하게 해당 색상 표현"
      ],
      "metadata": {
        "id": "G_PGeIDBxeLK"
      }
    },
    {
      "cell_type": "markdown",
      "source": [
        "### **1-2 합성곱**  \n",
        "\n",
        "* **합성곱 연산** : 정방형 크기의 kernel을 사용해 이미지의 특성 추출.\n",
        "* **특성맵** : 합성곱 연산을 통해 추출된 이미지\n",
        "  * 크기 shape (세로, 가로)"
      ],
      "metadata": {
        "id": "OzaMG47jx2y-"
      }
    },
    {
      "cell_type": "markdown",
      "source": [
        "###  **1-3 채널**  \n",
        "\n",
        ": 이미지를 구성하는 2차원 배열의 개수  \n",
        "- 컬러이미지 shape (R,G,B)\n",
        "  - 여러 채널일 경우) 이미지 개수만큼의 커널이 생성되어 채널마다 커널의 합성곱 연산을 수행하여 그 연산 결과로 최종 특성맵 생성"
      ],
      "metadata": {
        "id": "SHLX5GOiyY-W"
      }
    },
    {
      "cell_type": "markdown",
      "source": [
        "### **1-4 스트라이드**  \n",
        "\n",
        ": 이미지를 좌측에서 우측으로 이동하면서 합성곱 연산을 수행하며 특성맵을 채워나가는 간격"
      ],
      "metadata": {
        "id": "aY8wcD89y4Om"
      }
    },
    {
      "cell_type": "markdown",
      "source": [
        "### **1-5 패딩**  \n",
        "\n",
        ": 특성맵의 크리가 입력 이미지 대비 줄어들지 않도록 설정하는 padding\n",
        "> 일반적으로 zero-padding 사용 ```padding='same'```"
      ],
      "metadata": {
        "id": "pYSWstGzzL5K"
      }
    },
    {
      "cell_type": "markdown",
      "source": [
        "### **1-6 특성맵 사이즈**  \n",
        "\n",
        ": 패딩과 스트라이드를 적용하고, 입력 데이터와 필터의 크기가 주어졌을 째 출력데이터의 크기"
      ],
      "metadata": {
        "id": "KOgyR4ezzNq_"
      }
    },
    {
      "cell_type": "markdown",
      "source": [
        "### **1-7 풀링**  \n",
        "\n",
        ": 추출된 특성맵에 대해 다운샘플링하여 이미지 크기를 축소하는 레이어\n",
        "> 이미지 축소를 통해 연산량을 감소  \n",
        "> 과대적합 방지  \n",
        "\n",
        "* 최대 풀링 : 특징의 값이 큰 값이 다른 특징들을 대표\n",
        "* 평균 풀링"
      ],
      "metadata": {
        "id": "8TwVC5GMzh6k"
      }
    },
    {
      "cell_type": "markdown",
      "source": [
        "## **02 간단한 모델 생성**"
      ],
      "metadata": {
        "id": "75F29FZN0arp"
      }
    },
    {
      "cell_type": "markdown",
      "source": [
        "### **2-1 데이터 로드 및 전처리**"
      ],
      "metadata": {
        "id": "DhDlVWUK0knO"
      }
    },
    {
      "cell_type": "code",
      "source": [
        "import numpy as np\n",
        "\n",
        "# tensorflow 모듈 import\n",
        "import tensorflow as tf\n",
        "\n",
        "# MNIST 손글씨 이미지 데이터 로드\n",
        "mnist = tf.keras.datasets.mnist\n",
        "(x_train, y_train), (x_valid, y_valid) = mnist.load_data()\n",
        "\n",
        "print(x_train.shape, y_train.shape)\n",
        "print(x_valid.shape, y_valid.shape)"
      ],
      "metadata": {
        "colab": {
          "base_uri": "https://localhost:8080/"
        },
        "id": "ppv2LANN0fje",
        "outputId": "4e223322-3479-443d-d431-a74c99203ac7"
      },
      "execution_count": 1,
      "outputs": [
        {
          "output_type": "stream",
          "name": "stdout",
          "text": [
            "Downloading data from https://storage.googleapis.com/tensorflow/tf-keras-datasets/mnist.npz\n",
            "11493376/11490434 [==============================] - 0s 0us/step\n",
            "11501568/11490434 [==============================] - 0s 0us/step\n",
            "(60000, 28, 28) (60000,)\n",
            "(10000, 28, 28) (10000,)\n"
          ]
        }
      ]
    },
    {
      "cell_type": "code",
      "source": [
        "# 샘플 이미지 출력\n",
        "import matplotlib.pylab as plt\n",
        "\n",
        "def plot_image(data, idx):\n",
        "    plt.figure(figsize=(5, 5))\n",
        "    plt.imshow(data[idx], cmap=\"gray\")\n",
        "    plt.axis(\"off\")\n",
        "    plt.show()\n",
        "\n",
        "plot_image(x_train, 0)"
      ],
      "metadata": {
        "colab": {
          "base_uri": "https://localhost:8080/",
          "height": 303
        },
        "id": "OHc13lZX0xgy",
        "outputId": "f41ed4cf-91ef-4d31-f661-2246374da378"
      },
      "execution_count": 2,
      "outputs": [
        {
          "output_type": "display_data",
          "data": {
            "text/plain": [
              "<Figure size 360x360 with 1 Axes>"
            ],
            "image/png": "[encoded data removed]"
          },
          "metadata": {
            "needs_background": "light"
          }
        }
      ]
    },
    {
      "cell_type": "code",
      "source": [
        "print(x_train.min(), x_train.max())\n",
        "print(x_valid.min(), x_valid.max())"
      ],
      "metadata": {
        "colab": {
          "base_uri": "https://localhost:8080/"
        },
        "id": "ryLqwjpQ03g0",
        "outputId": "0239b82d-4e7a-4de1-c708-3ce07a4ef1b0"
      },
      "execution_count": 3,
      "outputs": [
        {
          "output_type": "stream",
          "name": "stdout",
          "text": [
            "0 255\n",
            "0 255\n"
          ]
        }
      ]
    },
    {
      "cell_type": "code",
      "source": [
        "# 정규화(Normalization)\n",
        "x_train = x_train / 255.0\n",
        "x_valid = x_valid / 255.0\n",
        "\n",
        "print(x_train.min(), x_train.max())\n",
        "print(x_valid.min(), x_valid.max())"
      ],
      "metadata": {
        "colab": {
          "base_uri": "https://localhost:8080/"
        },
        "id": "8GResS1y059c",
        "outputId": "ffeb3d1f-61db-4938-9690-b876c77218a1"
      },
      "execution_count": 4,
      "outputs": [
        {
          "output_type": "stream",
          "name": "stdout",
          "text": [
            "0.0 1.0\n",
            "0.0 1.0\n"
          ]
        }
      ]
    },
    {
      "cell_type": "code",
      "source": [
        "# 채널 추가\n",
        "print(x_train.shape, x_valid.shape)\n",
        "\n",
        "x_train_in = x_train[..., tf.newaxis]\n",
        "x_valid_in = x_valid[..., tf.newaxis]\n",
        "\n",
        "print(x_train_in.shape, x_valid_in.shape)"
      ],
      "metadata": {
        "colab": {
          "base_uri": "https://localhost:8080/"
        },
        "id": "u4KPbPiL08R0",
        "outputId": "647a7abc-3636-42ba-9a02-03ca4795b001"
      },
      "execution_count": 5,
      "outputs": [
        {
          "output_type": "stream",
          "name": "stdout",
          "text": [
            "(60000, 28, 28) (10000, 28, 28)\n",
            "(60000, 28, 28, 1) (10000, 28, 28, 1)\n"
          ]
        }
      ]
    },
    {
      "cell_type": "markdown",
      "source": [
        "### **2-2 Sequential API로 모델 생성 및 학습**  \n",
        "\n",
        "최종 분류기로 Dense 레이어 적용을 위해서 Flatten 층을 추가하여 1차원 배열로 펼쳐줌  \n",
        "합성곱은 Conv2D 레이어 사용  \n",
        "풀링 레이어 최대 풀링 적용  \n",
        "다중 분류 문제이므로 활성화 함수로 softmax 적용"
      ],
      "metadata": {
        "id": "zIhGn2kS0-4z"
      }
    },
    {
      "cell_type": "code",
      "source": [
        "# Sequential API를 사용하여 샘플 모델 생성\n",
        "model = tf.keras.Sequential([\n",
        "    # Convolution 적용 (32 filters)\n",
        "    tf.keras.layers.Conv2D(32, (3, 3), activation='relu', \n",
        "                           input_shape=(28, 28, 1), name='conv'),\n",
        "    # Max Pooling 적용\n",
        "    tf.keras.layers.MaxPooling2D((2, 2), name='pool'),\n",
        "    # Classifier 출력층 \n",
        "    tf.keras.layers.Flatten(),\n",
        "    tf.keras.layers.Dense(10, activation='softmax'),\n",
        "])"
      ],
      "metadata": {
        "id": "L1YS6h1O1YGy"
      },
      "execution_count": 6,
      "outputs": []
    },
    {
      "cell_type": "code",
      "source": [
        "# 모델 컴파일\n",
        "model.compile(optimizer='adam', loss='sparse_categorical_crossentropy', metrics=['accuracy'])\n",
        "\n",
        "# 모델 훈련\n",
        "history = model.fit(x_train_in, y_train, \n",
        "                    validation_data=(x_valid_in, y_valid), \n",
        "                    epochs=10)"
      ],
      "metadata": {
        "colab": {
          "base_uri": "https://localhost:8080/"
        },
        "id": "lbruBijX1aUR",
        "outputId": "b6341e6d-62d6-4e40-e848-0a83e3c6790c"
      },
      "execution_count": 7,
      "outputs": [
        {
          "output_type": "stream",
          "name": "stdout",
          "text": [
            "Epoch 1/10\n",
            "1875/1875 [==============================] - 33s 17ms/step - loss: 0.2181 - accuracy: 0.9381 - val_loss: 0.0900 - val_accuracy: 0.9733\n",
            "Epoch 2/10\n",
            "1875/1875 [==============================] - 32s 17ms/step - loss: 0.0804 - accuracy: 0.9772 - val_loss: 0.0631 - val_accuracy: 0.9796\n",
            "Epoch 3/10\n",
            "1875/1875 [==============================] - 34s 18ms/step - loss: 0.0608 - accuracy: 0.9820 - val_loss: 0.0587 - val_accuracy: 0.9818\n",
            "Epoch 4/10\n",
            "1875/1875 [==============================] - 36s 19ms/step - loss: 0.0497 - accuracy: 0.9852 - val_loss: 0.0557 - val_accuracy: 0.9826\n",
            "Epoch 5/10\n",
            "1875/1875 [==============================] - 34s 18ms/step - loss: 0.0424 - accuracy: 0.9868 - val_loss: 0.0518 - val_accuracy: 0.9834\n",
            "Epoch 6/10\n",
            "1875/1875 [==============================] - 33s 18ms/step - loss: 0.0358 - accuracy: 0.9892 - val_loss: 0.0514 - val_accuracy: 0.9843\n",
            "Epoch 7/10\n",
            "1875/1875 [==============================] - 32s 17ms/step - loss: 0.0310 - accuracy: 0.9906 - val_loss: 0.0511 - val_accuracy: 0.9838\n",
            "Epoch 8/10\n",
            "1875/1875 [==============================] - 32s 17ms/step - loss: 0.0265 - accuracy: 0.9918 - val_loss: 0.0535 - val_accuracy: 0.9833\n",
            "Epoch 9/10\n",
            "1875/1875 [==============================] - 32s 17ms/step - loss: 0.0225 - accuracy: 0.9931 - val_loss: 0.0543 - val_accuracy: 0.9838\n",
            "Epoch 10/10\n",
            "1875/1875 [==============================] - 32s 17ms/step - loss: 0.0192 - accuracy: 0.9944 - val_loss: 0.0519 - val_accuracy: 0.9847\n"
          ]
        }
      ]
    },
    {
      "cell_type": "markdown",
      "source": [
        "```evaluate()```메소드를 모델 인스턴스에 적용하면 모델의 학습된 가중치 사용\n",
        "> 검증셋에 대한 약 98% 정확도"
      ],
      "metadata": {
        "id": "ln7bw5W81fF6"
      }
    },
    {
      "cell_type": "code",
      "source": [
        "model.evaluate(x_valid_in, y_valid)"
      ],
      "metadata": {
        "colab": {
          "base_uri": "https://localhost:8080/"
        },
        "id": "G9-vdKwl1og5",
        "outputId": "f370b356-5dca-4e0e-f87a-8a8febd5f047"
      },
      "execution_count": 8,
      "outputs": [
        {
          "output_type": "stream",
          "name": "stdout",
          "text": [
            "313/313 [==============================] - 2s 7ms/step - loss: 0.0519 - accuracy: 0.9847\n"
          ]
        },
        {
          "output_type": "execute_result",
          "data": {
            "text/plain": [
              "[0.05187418684363365, 0.9847000241279602]"
            ]
          },
          "metadata": {},
          "execution_count": 8
        }
      ]
    },
    {
      "cell_type": "code",
      "source": [
        "def plot_loss_acc(history, epoch):\n",
        "\n",
        "    loss, val_loss = history.history['loss'], history.history['val_loss']\n",
        "    acc, val_acc = history.history['accuracy'], history.history['val_accuracy']\n",
        "\n",
        "    fig, axes = plt.subplots(1, 2, figsize=(12, 4))\n",
        "\n",
        "    axes[0].plot(range(1, epoch + 1), loss, label='Training')\n",
        "    axes[0].plot(range(1, epoch + 1), val_loss, label='Validation')\n",
        "    axes[0].legend(loc='best')\n",
        "    axes[0].set_title('Loss')\n",
        "\n",
        "    axes[1].plot(range(1, epoch + 1), acc, label='Training')\n",
        "    axes[1].plot(range(1, epoch + 1), val_acc, label='Validation')\n",
        "    axes[1].legend(loc='best')\n",
        "    axes[1].set_title('Accuracy')\n",
        "\n",
        "    plt.show()\n",
        "\n",
        "plot_loss_acc(history, 10)"
      ],
      "metadata": {
        "colab": {
          "base_uri": "https://localhost:8080/",
          "height": 281
        },
        "id": "mRNraZDz1qP8",
        "outputId": "7cdcbd98-4de4-4ec6-bf7d-440de3742514"
      },
      "execution_count": 9,
      "outputs": [
        {
          "output_type": "display_data",
          "data": {
            "text/plain": [
              "<Figure size 864x288 with 2 Axes>"
            ],
            "image/png": "[encoded data removed]"
          },
          "metadata": {
            "needs_background": "light"
          }
        }
      ]
    },
    {
      "cell_type": "markdown",
      "source": [
        "### **2-3 모델 구조 파악**"
      ],
      "metadata": {
        "id": "fOO9LvFu1taU"
      }
    },
    {
      "cell_type": "code",
      "source": [
        "# 모델 구조 \n",
        "model.summary()"
      ],
      "metadata": {
        "colab": {
          "base_uri": "https://localhost:8080/"
        },
        "id": "HdSx8Qdp1xZ2",
        "outputId": "260e1066-2d67-449f-9b46-0ab8bacc632a"
      },
      "execution_count": 10,
      "outputs": [
        {
          "output_type": "stream",
          "name": "stdout",
          "text": [
            "Model: \"sequential\"\n",
            "_________________________________________________________________\n",
            " Layer (type)                Output Shape              Param #   \n",
            "=================================================================\n",
            " conv (Conv2D)               (None, 26, 26, 32)        320       \n",
            "                                                                 \n",
            " pool (MaxPooling2D)         (None, 13, 13, 32)        0         \n",
            "                                                                 \n",
            " flatten (Flatten)           (None, 5408)              0         \n",
            "                                                                 \n",
            " dense (Dense)               (None, 10)                54090     \n",
            "                                                                 \n",
            "=================================================================\n",
            "Total params: 54,410\n",
            "Trainable params: 54,410\n",
            "Non-trainable params: 0\n",
            "_________________________________________________________________\n"
          ]
        }
      ]
    },
    {
      "cell_type": "markdown",
      "source": [
        "생성된 모델 인스턴스의 input 속성으로부터 입력 레이어의 텐서 추출"
      ],
      "metadata": {
        "id": "1b_-i8Ml14FG"
      }
    },
    {
      "cell_type": "code",
      "source": [
        "# 입력 텐서 형태 \n",
        "model.input"
      ],
      "metadata": {
        "colab": {
          "base_uri": "https://localhost:8080/"
        },
        "id": "2vFGncoM11Jz",
        "outputId": "21e4254a-1507-4d45-e4fd-320a78013015"
      },
      "execution_count": 11,
      "outputs": [
        {
          "output_type": "execute_result",
          "data": {
            "text/plain": [
              "<KerasTensor: shape=(None, 28, 28, 1) dtype=float32 (created by layer 'conv_input')>"
            ]
          },
          "metadata": {},
          "execution_count": 11
        }
      ]
    },
    {
      "cell_type": "code",
      "source": [
        "# 출력 텐서 형태 \n",
        "model.output"
      ],
      "metadata": {
        "colab": {
          "base_uri": "https://localhost:8080/"
        },
        "id": "l9pBtgzD184Y",
        "outputId": "c37c860b-76bc-4b11-e401-6b477da7663e"
      },
      "execution_count": 12,
      "outputs": [
        {
          "output_type": "execute_result",
          "data": {
            "text/plain": [
              "<KerasTensor: shape=(None, 10) dtype=float32 (created by layer 'dense')>"
            ]
          },
          "metadata": {},
          "execution_count": 12
        }
      ]
    },
    {
      "cell_type": "code",
      "source": [
        "# 레이어 \n",
        "model.layers"
      ],
      "metadata": {
        "colab": {
          "base_uri": "https://localhost:8080/"
        },
        "id": "wSO0Axv-1_BB",
        "outputId": "556c79bf-416f-475c-a5b9-fe799a9e9a15"
      },
      "execution_count": 13,
      "outputs": [
        {
          "output_type": "execute_result",
          "data": {
            "text/plain": [
              "[<keras.layers.convolutional.Conv2D at 0x7fcafdde0e10>,\n",
              " <keras.layers.pooling.MaxPooling2D at 0x7fcafd93d4d0>,\n",
              " <keras.layers.core.flatten.Flatten at 0x7fcafd93ddd0>,\n",
              " <keras.layers.core.dense.Dense at 0x7fcafd8c1190>]"
            ]
          },
          "metadata": {},
          "execution_count": 13
        }
      ]
    },
    {
      "cell_type": "code",
      "source": [
        "# 첫번째 레이어 선택\n",
        "model.layers[0]"
      ],
      "metadata": {
        "colab": {
          "base_uri": "https://localhost:8080/"
        },
        "id": "UjzS-sqf2BLW",
        "outputId": "976aa3b2-4695-4c92-bbfc-41bd2bcff1fb"
      },
      "execution_count": 14,
      "outputs": [
        {
          "output_type": "execute_result",
          "data": {
            "text/plain": [
              "<keras.layers.convolutional.Conv2D at 0x7fcafdde0e10>"
            ]
          },
          "metadata": {},
          "execution_count": 14
        }
      ]
    },
    {
      "cell_type": "code",
      "source": [
        "# 첫번째 레이어 입력\n",
        "model.layers[0].input"
      ],
      "metadata": {
        "colab": {
          "base_uri": "https://localhost:8080/"
        },
        "id": "grjqjm8_2EBp",
        "outputId": "d0204bf9-2f7f-40ff-d028-77c63aaddc91"
      },
      "execution_count": 15,
      "outputs": [
        {
          "output_type": "execute_result",
          "data": {
            "text/plain": [
              "<KerasTensor: shape=(None, 28, 28, 1) dtype=float32 (created by layer 'conv_input')>"
            ]
          },
          "metadata": {},
          "execution_count": 15
        }
      ]
    },
    {
      "cell_type": "code",
      "source": [
        "# 첫번째 레이어 출력\n",
        "model.layers[0].output"
      ],
      "metadata": {
        "colab": {
          "base_uri": "https://localhost:8080/"
        },
        "id": "BBggeqox2F0L",
        "outputId": "e2f59c90-9303-4577-d012-1565c59f963d"
      },
      "execution_count": 16,
      "outputs": [
        {
          "output_type": "execute_result",
          "data": {
            "text/plain": [
              "<KerasTensor: shape=(None, 26, 26, 32) dtype=float32 (created by layer 'conv')>"
            ]
          },
          "metadata": {},
          "execution_count": 16
        }
      ]
    },
    {
      "cell_type": "code",
      "source": [
        "# 첫번째 레이어 가중치\n",
        "model.layers[0].weights"
      ],
      "metadata": {
        "colab": {
          "base_uri": "https://localhost:8080/"
        },
        "id": "-FyKUA5R3INh",
        "outputId": "7784513d-3d7e-4976-ce4c-cfa5b4595c6c"
      },
      "execution_count": 17,
      "outputs": [
        {
          "output_type": "execute_result",
          "data": {
            "text/plain": [
              "[<tf.Variable 'conv/kernel:0' shape=(3, 3, 1, 32) dtype=float32, numpy=\n",
              " array([[[[-0.5090332 ,  0.40003031, -0.14495037, -0.9051645 ,\n",
              "           -0.88563937,  0.3505056 ,  0.38128155,  0.05037944,\n",
              "            0.11734079, -0.07773177,  0.280222  , -1.2603885 ,\n",
              "            0.36262718, -0.6299191 ,  0.19766317,  0.26815224,\n",
              "            0.47310168,  0.1251758 ,  0.37080303,  0.4264757 ,\n",
              "            0.0840247 , -0.5715535 , -0.7754322 , -0.37177047,\n",
              "            0.27347794, -0.5074587 , -0.75638205, -0.00754067,\n",
              "           -0.53080684, -0.02238486,  0.3123043 , -0.40631366]],\n",
              " \n",
              "         [[ 0.00529049,  0.20621283, -0.2340654 , -0.50033134,\n",
              "           -0.18090428,  0.0863683 ,  0.18110257,  0.18919475,\n",
              "            0.3668953 ,  0.44658944,  0.28932777, -1.1260499 ,\n",
              "            0.23786366, -0.72373253, -0.32338828, -0.00637692,\n",
              "           -0.12643726,  0.46180892,  0.03995598, -0.06703843,\n",
              "            0.3576689 , -0.06905352,  0.33071098, -0.30133903,\n",
              "            0.5344289 , -0.7086293 , -0.537123  ,  0.4332333 ,\n",
              "            0.0506396 , -0.41603708,  0.17897612,  0.5036727 ]],\n",
              " \n",
              "         [[ 0.17759483, -0.44656157,  0.08135001,  0.48253202,\n",
              "            0.03889129, -0.28792316,  0.05000835,  0.11281361,\n",
              "           -0.11525624,  0.18390171, -0.52848434, -0.72271264,\n",
              "           -0.5881393 , -0.9268895 , -0.00275066, -0.7803446 ,\n",
              "           -0.7106272 , -0.47124058, -0.6266633 , -0.3178666 ,\n",
              "           -0.03342586,  0.33074254,  0.34211022,  0.3784434 ,\n",
              "            0.7057922 , -0.39198375, -0.62709314,  0.5377101 ,\n",
              "            0.31004605, -0.2664875 , -0.29866603,  0.03180503]]],\n",
              " \n",
              " \n",
              "        [[[-0.62086034, -0.2712748 ,  0.33328664, -0.6415198 ,\n",
              "            0.341014  ,  0.10327656, -0.07896965,  0.101145  ,\n",
              "           -0.55998224,  0.5147033 , -0.34462732, -0.9962573 ,\n",
              "            0.07811995,  0.572558  ,  0.21373186,  0.56303775,\n",
              "            0.5136634 ,  0.30738363,  0.02505119,  0.09483015,\n",
              "           -0.3051128 ,  0.31545568, -1.2386814 , -0.21469723,\n",
              "            0.03403255, -0.13484855,  0.31298882, -0.54733485,\n",
              "           -0.10183774,  0.21919484, -0.02086686, -0.04024429]],\n",
              " \n",
              "         [[ 0.30001995, -0.23367855,  0.12186165, -0.02601142,\n",
              "            0.59975344, -0.13543083, -0.0163652 , -0.02312142,\n",
              "            0.30940217,  0.3595713 ,  0.36634684,  0.27859575,\n",
              "           -0.05347333,  0.23165087,  0.16498727,  0.14198776,\n",
              "           -0.10609575,  0.5108237 ,  0.27994478,  0.08281505,\n",
              "           -0.3099458 ,  0.19275352,  0.09833003,  0.20067981,\n",
              "            0.3383392 , -0.1625288 ,  0.20519732,  0.2786833 ,\n",
              "            0.354909  , -0.4619298 ,  0.22654358,  0.56355405]],\n",
              " \n",
              "         [[ 0.30209008, -0.10293408,  0.29365948,  0.52330416,\n",
              "            0.22132882,  0.12125314,  0.29941592, -0.15001924,\n",
              "            0.05007718, -0.6162009 ,  0.06449939,  0.14540872,\n",
              "           -0.1383907 , -0.8458773 ,  0.2513487 , -0.7057653 ,\n",
              "           -0.9024112 , -0.85847926, -0.00434668, -0.3352551 ,\n",
              "           -0.7070277 , -0.00238357,  0.5475865 ,  0.18340898,\n",
              "            0.12304772, -0.24025863,  0.18071812,  0.5218468 ,\n",
              "           -0.14897472, -0.39830247,  0.22787905, -0.4507897 ]]],\n",
              " \n",
              " \n",
              "        [[[-0.12747054, -0.17513417,  0.13353331, -0.3890605 ,\n",
              "            0.08769772, -0.16572249, -0.37817398, -0.08008473,\n",
              "           -0.2602243 , -0.20318073, -0.26807243, -0.22760852,\n",
              "            0.14593284,  0.691872  , -0.0608555 ,  0.37106973,\n",
              "            0.5495416 ,  0.19320083, -0.33641028, -0.10978406,\n",
              "            0.23334724,  0.2956714 , -0.96614265,  0.29768342,\n",
              "           -1.1496873 ,  0.4878406 ,  0.41772407, -1.0526907 ,\n",
              "            0.32867453,  0.29955244, -0.26462814,  0.2925088 ]],\n",
              " \n",
              "         [[ 0.41849616,  0.2994272 , -0.33092925,  0.2559625 ,\n",
              "           -0.10031276,  0.14614284, -0.2521303 ,  0.07987662,\n",
              "            0.26714912, -0.74047405,  0.1365349 ,  0.61355686,\n",
              "            0.26735735,  0.49103543, -0.10458972,  0.30695882,\n",
              "           -0.37335595, -0.37186185,  0.29772198,  0.2864553 ,\n",
              "            0.5311586 , -0.33496988, -0.3385291 ,  0.24301736,\n",
              "           -1.04375   ,  0.53044504,  0.4202631 , -0.9604397 ,\n",
              "            0.10533063,  0.34304821, -0.21423458,  0.09675106]],\n",
              " \n",
              "         [[-0.05486369,  0.3882052 , -0.07106819,  0.33606422,\n",
              "           -0.53643167,  0.29961845,  0.35728505,  0.29906526,\n",
              "            0.11356563, -0.3601539 ,  0.16432735,  0.5678174 ,\n",
              "            0.14361161, -0.23488113,  0.03773446, -0.13656355,\n",
              "           -1.0019736 , -1.047101  ,  0.199704  ,  0.34052724,\n",
              "            0.23060639, -0.420273  ,  0.45190266, -0.24768789,\n",
              "           -0.9654426 ,  0.21390402,  0.09329389, -0.40532875,\n",
              "           -0.28615057,  0.24491358,  0.35895857, -0.4797391 ]]]],\n",
              "       dtype=float32)>,\n",
              " <tf.Variable 'conv/bias:0' shape=(32,) dtype=float32, numpy=\n",
              " array([-0.22361301, -0.12660834, -0.16708045, -0.1258831 , -0.02597916,\n",
              "        -0.33232334, -0.44170225, -0.3082503 , -0.27778357, -0.03448109,\n",
              "        -0.2175001 ,  0.16834286, -0.46151587,  0.08222464, -0.2512654 ,\n",
              "        -0.22309397, -0.08216217, -0.09584475, -0.36584905, -0.46478602,\n",
              "        -0.1187769 , -0.0569003 , -0.03707981, -0.41445896, -0.00847256,\n",
              "        -0.00068464, -0.05362555, -0.02767168, -0.31248108, -0.16273803,\n",
              "        -0.37735772, -0.2414635 ], dtype=float32)>]"
            ]
          },
          "metadata": {},
          "execution_count": 17
        }
      ]
    },
    {
      "cell_type": "code",
      "source": [
        "# 첫번째 레이어 커널 가중치\n",
        "model.layers[0].kernel"
      ],
      "metadata": {
        "colab": {
          "base_uri": "https://localhost:8080/"
        },
        "id": "BrT_FEY33J1I",
        "outputId": "f3d18f40-28b1-45be-9d3b-8df7e2b63e99"
      },
      "execution_count": 18,
      "outputs": [
        {
          "output_type": "execute_result",
          "data": {
            "text/plain": [
              "<tf.Variable 'conv/kernel:0' shape=(3, 3, 1, 32) dtype=float32, numpy=\n",
              "array([[[[-0.5090332 ,  0.40003031, -0.14495037, -0.9051645 ,\n",
              "          -0.88563937,  0.3505056 ,  0.38128155,  0.05037944,\n",
              "           0.11734079, -0.07773177,  0.280222  , -1.2603885 ,\n",
              "           0.36262718, -0.6299191 ,  0.19766317,  0.26815224,\n",
              "           0.47310168,  0.1251758 ,  0.37080303,  0.4264757 ,\n",
              "           0.0840247 , -0.5715535 , -0.7754322 , -0.37177047,\n",
              "           0.27347794, -0.5074587 , -0.75638205, -0.00754067,\n",
              "          -0.53080684, -0.02238486,  0.3123043 , -0.40631366]],\n",
              "\n",
              "        [[ 0.00529049,  0.20621283, -0.2340654 , -0.50033134,\n",
              "          -0.18090428,  0.0863683 ,  0.18110257,  0.18919475,\n",
              "           0.3668953 ,  0.44658944,  0.28932777, -1.1260499 ,\n",
              "           0.23786366, -0.72373253, -0.32338828, -0.00637692,\n",
              "          -0.12643726,  0.46180892,  0.03995598, -0.06703843,\n",
              "           0.3576689 , -0.06905352,  0.33071098, -0.30133903,\n",
              "           0.5344289 , -0.7086293 , -0.537123  ,  0.4332333 ,\n",
              "           0.0506396 , -0.41603708,  0.17897612,  0.5036727 ]],\n",
              "\n",
              "        [[ 0.17759483, -0.44656157,  0.08135001,  0.48253202,\n",
              "           0.03889129, -0.28792316,  0.05000835,  0.11281361,\n",
              "          -0.11525624,  0.18390171, -0.52848434, -0.72271264,\n",
              "          -0.5881393 , -0.9268895 , -0.00275066, -0.7803446 ,\n",
              "          -0.7106272 , -0.47124058, -0.6266633 , -0.3178666 ,\n",
              "          -0.03342586,  0.33074254,  0.34211022,  0.3784434 ,\n",
              "           0.7057922 , -0.39198375, -0.62709314,  0.5377101 ,\n",
              "           0.31004605, -0.2664875 , -0.29866603,  0.03180503]]],\n",
              "\n",
              "\n",
              "       [[[-0.62086034, -0.2712748 ,  0.33328664, -0.6415198 ,\n",
              "           0.341014  ,  0.10327656, -0.07896965,  0.101145  ,\n",
              "          -0.55998224,  0.5147033 , -0.34462732, -0.9962573 ,\n",
              "           0.07811995,  0.572558  ,  0.21373186,  0.56303775,\n",
              "           0.5136634 ,  0.30738363,  0.02505119,  0.09483015,\n",
              "          -0.3051128 ,  0.31545568, -1.2386814 , -0.21469723,\n",
              "           0.03403255, -0.13484855,  0.31298882, -0.54733485,\n",
              "          -0.10183774,  0.21919484, -0.02086686, -0.04024429]],\n",
              "\n",
              "        [[ 0.30001995, -0.23367855,  0.12186165, -0.02601142,\n",
              "           0.59975344, -0.13543083, -0.0163652 , -0.02312142,\n",
              "           0.30940217,  0.3595713 ,  0.36634684,  0.27859575,\n",
              "          -0.05347333,  0.23165087,  0.16498727,  0.14198776,\n",
              "          -0.10609575,  0.5108237 ,  0.27994478,  0.08281505,\n",
              "          -0.3099458 ,  0.19275352,  0.09833003,  0.20067981,\n",
              "           0.3383392 , -0.1625288 ,  0.20519732,  0.2786833 ,\n",
              "           0.354909  , -0.4619298 ,  0.22654358,  0.56355405]],\n",
              "\n",
              "        [[ 0.30209008, -0.10293408,  0.29365948,  0.52330416,\n",
              "           0.22132882,  0.12125314,  0.29941592, -0.15001924,\n",
              "           0.05007718, -0.6162009 ,  0.06449939,  0.14540872,\n",
              "          -0.1383907 , -0.8458773 ,  0.2513487 , -0.7057653 ,\n",
              "          -0.9024112 , -0.85847926, -0.00434668, -0.3352551 ,\n",
              "          -0.7070277 , -0.00238357,  0.5475865 ,  0.18340898,\n",
              "           0.12304772, -0.24025863,  0.18071812,  0.5218468 ,\n",
              "          -0.14897472, -0.39830247,  0.22787905, -0.4507897 ]]],\n",
              "\n",
              "\n",
              "       [[[-0.12747054, -0.17513417,  0.13353331, -0.3890605 ,\n",
              "           0.08769772, -0.16572249, -0.37817398, -0.08008473,\n",
              "          -0.2602243 , -0.20318073, -0.26807243, -0.22760852,\n",
              "           0.14593284,  0.691872  , -0.0608555 ,  0.37106973,\n",
              "           0.5495416 ,  0.19320083, -0.33641028, -0.10978406,\n",
              "           0.23334724,  0.2956714 , -0.96614265,  0.29768342,\n",
              "          -1.1496873 ,  0.4878406 ,  0.41772407, -1.0526907 ,\n",
              "           0.32867453,  0.29955244, -0.26462814,  0.2925088 ]],\n",
              "\n",
              "        [[ 0.41849616,  0.2994272 , -0.33092925,  0.2559625 ,\n",
              "          -0.10031276,  0.14614284, -0.2521303 ,  0.07987662,\n",
              "           0.26714912, -0.74047405,  0.1365349 ,  0.61355686,\n",
              "           0.26735735,  0.49103543, -0.10458972,  0.30695882,\n",
              "          -0.37335595, -0.37186185,  0.29772198,  0.2864553 ,\n",
              "           0.5311586 , -0.33496988, -0.3385291 ,  0.24301736,\n",
              "          -1.04375   ,  0.53044504,  0.4202631 , -0.9604397 ,\n",
              "           0.10533063,  0.34304821, -0.21423458,  0.09675106]],\n",
              "\n",
              "        [[-0.05486369,  0.3882052 , -0.07106819,  0.33606422,\n",
              "          -0.53643167,  0.29961845,  0.35728505,  0.29906526,\n",
              "           0.11356563, -0.3601539 ,  0.16432735,  0.5678174 ,\n",
              "           0.14361161, -0.23488113,  0.03773446, -0.13656355,\n",
              "          -1.0019736 , -1.047101  ,  0.199704  ,  0.34052724,\n",
              "           0.23060639, -0.420273  ,  0.45190266, -0.24768789,\n",
              "          -0.9654426 ,  0.21390402,  0.09329389, -0.40532875,\n",
              "          -0.28615057,  0.24491358,  0.35895857, -0.4797391 ]]]],\n",
              "      dtype=float32)>"
            ]
          },
          "metadata": {},
          "execution_count": 18
        }
      ]
    },
    {
      "cell_type": "code",
      "source": [
        "# 첫번째 레이어 bias 가중치\n",
        "model.layers[0].bias"
      ],
      "metadata": {
        "colab": {
          "base_uri": "https://localhost:8080/"
        },
        "id": "Rpe4GUBn3Ms7",
        "outputId": "dfff3097-c06a-41b2-f01a-c95bb66bbaa8"
      },
      "execution_count": 19,
      "outputs": [
        {
          "output_type": "execute_result",
          "data": {
            "text/plain": [
              "<tf.Variable 'conv/bias:0' shape=(32,) dtype=float32, numpy=\n",
              "array([-0.22361301, -0.12660834, -0.16708045, -0.1258831 , -0.02597916,\n",
              "       -0.33232334, -0.44170225, -0.3082503 , -0.27778357, -0.03448109,\n",
              "       -0.2175001 ,  0.16834286, -0.46151587,  0.08222464, -0.2512654 ,\n",
              "       -0.22309397, -0.08216217, -0.09584475, -0.36584905, -0.46478602,\n",
              "       -0.1187769 , -0.0569003 , -0.03707981, -0.41445896, -0.00847256,\n",
              "       -0.00068464, -0.05362555, -0.02767168, -0.31248108, -0.16273803,\n",
              "       -0.37735772, -0.2414635 ], dtype=float32)>"
            ]
          },
          "metadata": {},
          "execution_count": 19
        }
      ]
    },
    {
      "cell_type": "code",
      "source": [
        "# 레이어 이름 사용하여 레이어 선택\n",
        "model.get_layer('conv')"
      ],
      "metadata": {
        "colab": {
          "base_uri": "https://localhost:8080/"
        },
        "id": "NUF_z8o53PPG",
        "outputId": "dccaf9ae-89a0-4013-bf5d-d77dfea8a495"
      },
      "execution_count": 20,
      "outputs": [
        {
          "output_type": "execute_result",
          "data": {
            "text/plain": [
              "<keras.layers.convolutional.Conv2D at 0x7fcafdde0e10>"
            ]
          },
          "metadata": {},
          "execution_count": 20
        }
      ]
    },
    {
      "cell_type": "code",
      "source": [
        "# 샘플 이미지의 레이어별 출력을 리스트에 추가(첫번째, 두번째 레이어)\n",
        "activator = tf.keras.Model(inputs=model.input, \n",
        "                           outputs=[layer.output for layer in model.layers[:2]] ) \n",
        "activations = activator.predict(x_train_in[0][tf.newaxis, ...]) \n",
        "\n",
        "len(activations)"
      ],
      "metadata": {
        "colab": {
          "base_uri": "https://localhost:8080/"
        },
        "id": "SAplRm8w3RxW",
        "outputId": "d6e6ff29-2478-49b4-8567-b51e259432e9"
      },
      "execution_count": 21,
      "outputs": [
        {
          "output_type": "execute_result",
          "data": {
            "text/plain": [
              "2"
            ]
          },
          "metadata": {},
          "execution_count": 21
        }
      ]
    },
    {
      "cell_type": "code",
      "source": [
        "# 첫 번째 레이어(conv) 출력층 \n",
        "conv_activation = activations[0]\n",
        "conv_activation.shape"
      ],
      "metadata": {
        "colab": {
          "base_uri": "https://localhost:8080/"
        },
        "id": "vOWoQ0Fp3TR9",
        "outputId": "decbc08f-3089-4b88-d67e-de7f8ed8fd6f"
      },
      "execution_count": 22,
      "outputs": [
        {
          "output_type": "execute_result",
          "data": {
            "text/plain": [
              "(1, 26, 26, 32)"
            ]
          },
          "metadata": {},
          "execution_count": 22
        }
      ]
    },
    {
      "cell_type": "code",
      "source": [
        "# Convolution 시각화\n",
        "fig, axes = plt.subplots(4, 8)\n",
        "fig.set_size_inches(10, 5)\n",
        "\n",
        "for i in range(32):\n",
        "    axes[i//8, i%8].matshow(conv_activation[0, :, :, i], cmap='viridis')\n",
        "    axes[i//8, i%8].set_title('kernel %s'%str(i), fontsize=10)\n",
        "    plt.setp( axes[i//8, i%8].get_xticklabels(), visible=False)\n",
        "    plt.setp( axes[i//8, i%8].get_yticklabels(), visible=False)\n",
        "\n",
        "plt.tight_layout()\n",
        "plt.show()"
      ],
      "metadata": {
        "colab": {
          "base_uri": "https://localhost:8080/",
          "height": 369
        },
        "id": "NLnydHM63XTm",
        "outputId": "cb59bc10-2631-48be-f65b-0b42037305eb"
      },
      "execution_count": 23,
      "outputs": [
        {
          "output_type": "display_data",
          "data": {
            "text/plain": [
              "<Figure size 720x360 with 32 Axes>"
            ],
            "image/png": "[encoded data removed]"
          },
          "metadata": {}
        }
      ]
    },
    {
      "cell_type": "code",
      "source": [
        "# 두 번째 레이어(pool) 출력층 \n",
        "pooling_activation = activations[1]\n",
        "print(pooling_activation.shape)"
      ],
      "metadata": {
        "colab": {
          "base_uri": "https://localhost:8080/"
        },
        "id": "b00R7h2W3aHM",
        "outputId": "c0b35489-3d43-4498-c3a0-78cfd9aad36a"
      },
      "execution_count": 24,
      "outputs": [
        {
          "output_type": "stream",
          "name": "stdout",
          "text": [
            "(1, 13, 13, 32)\n"
          ]
        }
      ]
    },
    {
      "cell_type": "code",
      "source": [
        "# 시각화\n",
        "fig, axes = plt.subplots(4, 8)\n",
        "fig.set_size_inches(10, 5)\n",
        "\n",
        "for i in range(32):\n",
        "    axes[i//8, i%8].matshow(pooling_activation[0, :, :, i], cmap='viridis')\n",
        "    axes[i//8, i%8].set_title('kernel %s'%str(i), fontsize=10)\n",
        "    plt.setp( axes[i//8, i%8].get_xticklabels(), visible=False)\n",
        "    plt.setp( axes[i//8, i%8].get_yticklabels(), visible=False)\n",
        "\n",
        "plt.tight_layout()\n",
        "plt.show()"
      ],
      "metadata": {
        "colab": {
          "base_uri": "https://localhost:8080/",
          "height": 369
        },
        "id": "dfoC3mq03beq",
        "outputId": "bfc2d945-1bef-40a5-9559-00eb2e403df6"
      },
      "execution_count": 25,
      "outputs": [
        {
          "output_type": "display_data",
          "data": {
            "text/plain": [
              "<Figure size 720x360 with 32 Axes>"
            ],
            "image/png": "[encoded data removed]"
          },
          "metadata": {}
        }
      ]
    },
    {
      "cell_type": "markdown",
      "source": [
        "# **03 복잡한 모델 생성**  \n",
        "\n",
        ": Keras의 Functional API를 사용하면 Sequential API로 구현할 수 없는 복잡한 구조의 모델을 정의할 수 있음"
      ],
      "metadata": {
        "id": "LkCWmYhs3gXi"
      }
    },
    {
      "cell_type": "markdown",
      "source": [
        "### **3-1 데이터셋 준비**"
      ],
      "metadata": {
        "id": "__aAAzpv3r4V"
      }
    },
    {
      "cell_type": "code",
      "source": [
        "import tensorflow as tf\n",
        "import numpy as np\n",
        "\n",
        "# MNIST 손글씨 이미지 데이터 로드\n",
        "mnist = tf.keras.datasets.mnist\n",
        "(x_train, y_train), (x_valid, y_valid) = mnist.load_data()\n",
        "\n",
        "print(x_train.shape, y_train.shape)\n",
        "print(x_valid.shape, y_valid.shape)"
      ],
      "metadata": {
        "colab": {
          "base_uri": "https://localhost:8080/"
        },
        "id": "l2MEuERD3vVn",
        "outputId": "67e44873-26d6-40f9-8ea6-08f27593d3e4"
      },
      "execution_count": 26,
      "outputs": [
        {
          "output_type": "stream",
          "name": "stdout",
          "text": [
            "(60000, 28, 28) (60000,)\n",
            "(10000, 28, 28) (10000,)\n"
          ]
        }
      ]
    },
    {
      "cell_type": "code",
      "source": [
        "# 새로운 출력값 배열을 생성 (홀수: 1, 짝수: 0)\n",
        "y_train_odd = []\n",
        "for y in y_train:\n",
        "    if y % 2==0:\n",
        "        y_train_odd.append(0)\n",
        "    else:\n",
        "        y_train_odd.append(1)\n",
        "\n",
        "y_train_odd = np.array(y_train_odd)\n",
        "y_train_odd.shape"
      ],
      "metadata": {
        "colab": {
          "base_uri": "https://localhost:8080/"
        },
        "id": "X4RZZGMz3y6c",
        "outputId": "2cec3eb5-5458-4dc5-9f5c-d8d41561ec3a"
      },
      "execution_count": 27,
      "outputs": [
        {
          "output_type": "execute_result",
          "data": {
            "text/plain": [
              "(60000,)"
            ]
          },
          "metadata": {},
          "execution_count": 27
        }
      ]
    },
    {
      "cell_type": "code",
      "source": [
        "print(y_train[:10])\n",
        "print(y_train_odd[:10])"
      ],
      "metadata": {
        "colab": {
          "base_uri": "https://localhost:8080/"
        },
        "id": "xAHvGwlj30yR",
        "outputId": "cf7fa6fd-c77c-4bff-d23c-d20980246dfe"
      },
      "execution_count": 28,
      "outputs": [
        {
          "output_type": "stream",
          "name": "stdout",
          "text": [
            "[5 0 4 1 9 2 1 3 1 4]\n",
            "[1 0 0 1 1 0 1 1 1 0]\n"
          ]
        }
      ]
    },
    {
      "cell_type": "code",
      "source": [
        "# Validation 데이터셋 처리\n",
        "y_valid_odd = []\n",
        "for y in y_valid:\n",
        "    if y % 2==0:\n",
        "        y_valid_odd.append(0)\n",
        "    else:\n",
        "        y_valid_odd.append(1)\n",
        "\n",
        "y_valid_odd = np.array(y_valid_odd)\n",
        "y_valid_odd.shape"
      ],
      "metadata": {
        "colab": {
          "base_uri": "https://localhost:8080/"
        },
        "id": "dHG-_rZu32e2",
        "outputId": "1341a373-97f1-481e-ed8d-9c3943ee0e6a"
      },
      "execution_count": 29,
      "outputs": [
        {
          "output_type": "execute_result",
          "data": {
            "text/plain": [
              "(10000,)"
            ]
          },
          "metadata": {},
          "execution_count": 29
        }
      ]
    },
    {
      "cell_type": "code",
      "source": [
        "# 정규화(Normalization)\n",
        "x_train = x_train / 255.0\n",
        "x_valid = x_valid / 255.0\n",
        "\n",
        "# 채널 추가\n",
        "x_train_in = tf.expand_dims(x_train, -1)\n",
        "x_valid_in = tf.expand_dims(x_valid, -1)\n",
        "\n",
        "print(x_train_in.shape, x_valid_in.shape)"
      ],
      "metadata": {
        "colab": {
          "base_uri": "https://localhost:8080/"
        },
        "id": "7R82E3Fn34nV",
        "outputId": "6ce95463-f518-42a0-dee4-0b8243994618"
      },
      "execution_count": 30,
      "outputs": [
        {
          "output_type": "stream",
          "name": "stdout",
          "text": [
            "(60000, 28, 28, 1) (10000, 28, 28, 1)\n"
          ]
        }
      ]
    },
    {
      "cell_type": "markdown",
      "source": [
        "### **3-2 Functional API로 다중입력, 다중 출력 레이어 생성**  \n",
        "\n",
        "입력 레이어 inputs의 경우 : Conv2D 레이어와 Flatten 레이어의 입력으로 사용 (2개의 입력 레이어 출력)  \n",
        "> 함수의 입력과 출력으로 표현 가능해 자유롭게 무델 구조를 정의"
      ],
      "metadata": {
        "id": "TGqf6orQ364p"
      }
    },
    {
      "cell_type": "code",
      "source": [
        "# Functional API를 사용하여 모델 생성\n",
        "\n",
        "inputs = tf.keras.layers.Input(shape=(28, 28, 1))\n",
        "\n",
        "conv = tf.keras.layers.Conv2D(32, (3, 3), activation='relu')(inputs)\n",
        "pool = tf.keras.layers.MaxPooling2D((2, 2))(conv)\n",
        "flat = tf.keras.layers.Flatten()(pool)\n",
        "\n",
        "flat_inputs = tf.keras.layers.Flatten()(inputs)\n",
        "concat = tf.keras.layers.Concatenate()([flat, flat_inputs])\n",
        "outputs = tf.keras.layers.Dense(10, activation='softmax')(concat)\n",
        "\n",
        "model = tf.keras.models.Model(inputs=inputs, outputs=outputs)\n",
        "\n",
        "model.summary()"
      ],
      "metadata": {
        "colab": {
          "base_uri": "https://localhost:8080/"
        },
        "id": "da75QKlW3-7I",
        "outputId": "56f6680b-b147-44bd-929a-4b61a483e06d"
      },
      "execution_count": 31,
      "outputs": [
        {
          "output_type": "stream",
          "name": "stdout",
          "text": [
            "Model: \"model_1\"\n",
            "__________________________________________________________________________________________________\n",
            " Layer (type)                   Output Shape         Param #     Connected to                     \n",
            "==================================================================================================\n",
            " input_1 (InputLayer)           [(None, 28, 28, 1)]  0           []                               \n",
            "                                                                                                  \n",
            " conv2d (Conv2D)                (None, 26, 26, 32)   320         ['input_1[0][0]']                \n",
            "                                                                                                  \n",
            " max_pooling2d (MaxPooling2D)   (None, 13, 13, 32)   0           ['conv2d[0][0]']                 \n",
            "                                                                                                  \n",
            " flatten_1 (Flatten)            (None, 5408)         0           ['max_pooling2d[0][0]']          \n",
            "                                                                                                  \n",
            " flatten_2 (Flatten)            (None, 784)          0           ['input_1[0][0]']                \n",
            "                                                                                                  \n",
            " concatenate (Concatenate)      (None, 6192)         0           ['flatten_1[0][0]',              \n",
            "                                                                  'flatten_2[0][0]']              \n",
            "                                                                                                  \n",
            " dense_1 (Dense)                (None, 10)           61930       ['concatenate[0][0]']            \n",
            "                                                                                                  \n",
            "==================================================================================================\n",
            "Total params: 62,250\n",
            "Trainable params: 62,250\n",
            "Non-trainable params: 0\n",
            "__________________________________________________________________________________________________\n"
          ]
        }
      ]
    },
    {
      "cell_type": "code",
      "source": [
        "# 모델 구조 출력 및 이미지 파일로 저장\n",
        "from tensorflow.python.keras.utils.vis_utils import plot_model\n",
        "plot_model(model, show_shapes=True, show_layer_names=True, to_file='functional_cnn.png')"
      ],
      "metadata": {
        "colab": {
          "base_uri": "https://localhost:8080/",
          "height": 534
        },
        "id": "cNMDhfdh4RQs",
        "outputId": "188e780f-41a1-4cbd-c175-a20d1f6bcf5a"
      },
      "execution_count": 32,
      "outputs": [
        {
          "output_type": "error",
          "ename": "ImportError",
          "evalue": "ignored",
          "traceback": [
            "\u001b[0;31m---------------------------------------------------------------------------\u001b[0m",
            "\u001b[0;31mImportError\u001b[0m                               Traceback (most recent call last)",
            "\u001b[0;32m<ipython-input-32-b57c552f0fbf>\u001b[0m in \u001b[0;36m<module>\u001b[0;34m()\u001b[0m\n\u001b[1;32m      1\u001b[0m \u001b[0;31m# 모델 구조 출력 및 이미지 파일로 저장\u001b[0m\u001b[0;34m\u001b[0m\u001b[0;34m\u001b[0m\u001b[0;34m\u001b[0m\u001b[0m\n\u001b[1;32m      2\u001b[0m \u001b[0;32mfrom\u001b[0m \u001b[0mtensorflow\u001b[0m\u001b[0;34m.\u001b[0m\u001b[0mpython\u001b[0m\u001b[0;34m.\u001b[0m\u001b[0mkeras\u001b[0m\u001b[0;34m.\u001b[0m\u001b[0mutils\u001b[0m\u001b[0;34m.\u001b[0m\u001b[0mvis_utils\u001b[0m \u001b[0;32mimport\u001b[0m \u001b[0mplot_model\u001b[0m\u001b[0;34m\u001b[0m\u001b[0;34m\u001b[0m\u001b[0m\n\u001b[0;32m----> 3\u001b[0;31m \u001b[0mplot_model\u001b[0m\u001b[0;34m(\u001b[0m\u001b[0mmodel\u001b[0m\u001b[0;34m,\u001b[0m \u001b[0mshow_shapes\u001b[0m\u001b[0;34m=\u001b[0m\u001b[0;32mTrue\u001b[0m\u001b[0;34m,\u001b[0m \u001b[0mshow_layer_names\u001b[0m\u001b[0;34m=\u001b[0m\u001b[0;32mTrue\u001b[0m\u001b[0;34m,\u001b[0m \u001b[0mto_file\u001b[0m\u001b[0;34m=\u001b[0m\u001b[0;34m'functional_cnn.png'\u001b[0m\u001b[0;34m)\u001b[0m\u001b[0;34m\u001b[0m\u001b[0;34m\u001b[0m\u001b[0m\n\u001b[0m",
            "\u001b[0;32m/usr/local/lib/python3.7/dist-packages/tensorflow/python/keras/utils/vis_utils.py\u001b[0m in \u001b[0;36mplot_model\u001b[0;34m(model, to_file, show_shapes, show_dtype, show_layer_names, rankdir, expand_nested, dpi)\u001b[0m\n\u001b[1;32m    327\u001b[0m       \u001b[0mrankdir\u001b[0m\u001b[0;34m=\u001b[0m\u001b[0mrankdir\u001b[0m\u001b[0;34m,\u001b[0m\u001b[0;34m\u001b[0m\u001b[0;34m\u001b[0m\u001b[0m\n\u001b[1;32m    328\u001b[0m       \u001b[0mexpand_nested\u001b[0m\u001b[0;34m=\u001b[0m\u001b[0mexpand_nested\u001b[0m\u001b[0;34m,\u001b[0m\u001b[0;34m\u001b[0m\u001b[0;34m\u001b[0m\u001b[0m\n\u001b[0;32m--> 329\u001b[0;31m       dpi=dpi)\n\u001b[0m\u001b[1;32m    330\u001b[0m   \u001b[0mto_file\u001b[0m \u001b[0;34m=\u001b[0m \u001b[0mpath_to_string\u001b[0m\u001b[0;34m(\u001b[0m\u001b[0mto_file\u001b[0m\u001b[0;34m)\u001b[0m\u001b[0;34m\u001b[0m\u001b[0;34m\u001b[0m\u001b[0m\n\u001b[1;32m    331\u001b[0m   \u001b[0;32mif\u001b[0m \u001b[0mdot\u001b[0m \u001b[0;32mis\u001b[0m \u001b[0;32mNone\u001b[0m\u001b[0;34m:\u001b[0m\u001b[0;34m\u001b[0m\u001b[0;34m\u001b[0m\u001b[0m\n",
            "\u001b[0;32m/usr/local/lib/python3.7/dist-packages/tensorflow/python/keras/utils/vis_utils.py\u001b[0m in \u001b[0;36mmodel_to_dot\u001b[0;34m(model, show_shapes, show_dtype, show_layer_names, rankdir, expand_nested, dpi, subgraph)\u001b[0m\n\u001b[1;32m     96\u001b[0m     \u001b[0mImportError\u001b[0m\u001b[0;34m:\u001b[0m \u001b[0;32mif\u001b[0m \u001b[0mgraphviz\u001b[0m \u001b[0;32mor\u001b[0m \u001b[0mpydot\u001b[0m \u001b[0mare\u001b[0m \u001b[0;32mnot\u001b[0m \u001b[0mavailable\u001b[0m\u001b[0;34m.\u001b[0m\u001b[0;34m\u001b[0m\u001b[0;34m\u001b[0m\u001b[0m\n\u001b[1;32m     97\u001b[0m   \"\"\"\n\u001b[0;32m---> 98\u001b[0;31m   \u001b[0;32mfrom\u001b[0m \u001b[0mtensorflow\u001b[0m\u001b[0;34m.\u001b[0m\u001b[0mpython\u001b[0m\u001b[0;34m.\u001b[0m\u001b[0mkeras\u001b[0m\u001b[0;34m.\u001b[0m\u001b[0mlayers\u001b[0m \u001b[0;32mimport\u001b[0m \u001b[0mwrappers\u001b[0m\u001b[0;34m\u001b[0m\u001b[0;34m\u001b[0m\u001b[0m\n\u001b[0m\u001b[1;32m     99\u001b[0m   \u001b[0;32mfrom\u001b[0m \u001b[0mtensorflow\u001b[0m\u001b[0;34m.\u001b[0m\u001b[0mpython\u001b[0m\u001b[0;34m.\u001b[0m\u001b[0mkeras\u001b[0m\u001b[0;34m.\u001b[0m\u001b[0mengine\u001b[0m \u001b[0;32mimport\u001b[0m \u001b[0msequential\u001b[0m\u001b[0;34m\u001b[0m\u001b[0;34m\u001b[0m\u001b[0m\n\u001b[1;32m    100\u001b[0m   \u001b[0;32mfrom\u001b[0m \u001b[0mtensorflow\u001b[0m\u001b[0;34m.\u001b[0m\u001b[0mpython\u001b[0m\u001b[0;34m.\u001b[0m\u001b[0mkeras\u001b[0m\u001b[0;34m.\u001b[0m\u001b[0mengine\u001b[0m \u001b[0;32mimport\u001b[0m \u001b[0mfunctional\u001b[0m\u001b[0;34m\u001b[0m\u001b[0;34m\u001b[0m\u001b[0m\n",
            "\u001b[0;31mImportError\u001b[0m: cannot import name 'wrappers' from 'tensorflow.python.keras.layers' (/usr/local/lib/python3.7/dist-packages/tensorflow/python/keras/layers/__init__.py)",
            "",
            "\u001b[0;31m---------------------------------------------------------------------------\u001b[0;32m\nNOTE: If your import is failing due to a missing package, you can\nmanually install dependencies using either !pip or !apt.\n\nTo view examples of installing some common dependencies, click the\n\"Open Examples\" button below.\n\u001b[0;31m---------------------------------------------------------------------------\u001b[0m\n"
          ],
          "errorDetails": {
            "actions": [
              {
                "action": "open_url",
                "actionText": "Open Examples",
                "url": "/notebooks/snippets/importing_libraries.ipynb"
              }
            ]
          }
        }
      ]
    },
    {
      "cell_type": "code",
      "source": [
        "# 모델 컴파일\n",
        "model.compile(optimizer='adam', loss='sparse_categorical_crossentropy', metrics=['accuracy'])\n",
        "\n",
        "# 모델 훈련\n",
        "history = model.fit(x_train_in, y_train, \n",
        "                    validation_data=(x_valid_in, y_valid), \n",
        "                    epochs=10)\n",
        "\n",
        "# 모델 성능\n",
        "val_loss, val_acc = model.evaluate(x_valid_in, y_valid)\n",
        "print(val_loss, val_acc)"
      ],
      "metadata": {
        "colab": {
          "base_uri": "https://localhost:8080/"
        },
        "id": "fqa3rRsY4XuO",
        "outputId": "48b4701d-9bba-4ad2-a165-23224033fb9a"
      },
      "execution_count": 33,
      "outputs": [
        {
          "output_type": "stream",
          "name": "stdout",
          "text": [
            "Epoch 1/10\n",
            "1875/1875 [==============================] - 34s 18ms/step - loss: 0.2032 - accuracy: 0.9432 - val_loss: 0.0867 - val_accuracy: 0.9735\n",
            "Epoch 2/10\n",
            "1875/1875 [==============================] - 37s 20ms/step - loss: 0.0761 - accuracy: 0.9776 - val_loss: 0.0687 - val_accuracy: 0.9780\n",
            "Epoch 3/10\n",
            "1875/1875 [==============================] - 37s 20ms/step - loss: 0.0591 - accuracy: 0.9824 - val_loss: 0.0596 - val_accuracy: 0.9811\n",
            "Epoch 4/10\n",
            "1875/1875 [==============================] - 40s 21ms/step - loss: 0.0486 - accuracy: 0.9850 - val_loss: 0.0557 - val_accuracy: 0.9817\n",
            "Epoch 5/10\n",
            "1875/1875 [==============================] - 34s 18ms/step - loss: 0.0405 - accuracy: 0.9877 - val_loss: 0.0635 - val_accuracy: 0.9799\n",
            "Epoch 6/10\n",
            "1875/1875 [==============================] - 37s 20ms/step - loss: 0.0336 - accuracy: 0.9898 - val_loss: 0.0592 - val_accuracy: 0.9806\n",
            "Epoch 7/10\n",
            "1875/1875 [==============================] - 38s 20ms/step - loss: 0.0277 - accuracy: 0.9918 - val_loss: 0.0604 - val_accuracy: 0.9814\n",
            "Epoch 8/10\n",
            "1875/1875 [==============================] - 35s 18ms/step - loss: 0.0249 - accuracy: 0.9921 - val_loss: 0.0588 - val_accuracy: 0.9828\n",
            "Epoch 9/10\n",
            "1875/1875 [==============================] - 31s 17ms/step - loss: 0.0201 - accuracy: 0.9936 - val_loss: 0.0607 - val_accuracy: 0.9825\n",
            "Epoch 10/10\n",
            "1875/1875 [==============================] - 32s 17ms/step - loss: 0.0168 - accuracy: 0.9950 - val_loss: 0.0573 - val_accuracy: 0.9836\n",
            "313/313 [==============================] - 2s 7ms/step - loss: 0.0573 - accuracy: 0.9836\n",
            "0.05726483836770058 0.9836000204086304\n"
          ]
        }
      ]
    },
    {
      "cell_type": "markdown",
      "source": [
        "### **3-3 다중 출력 분류 모델**"
      ],
      "metadata": {
        "id": "X5PGHjUG4bk0"
      }
    },
    {
      "cell_type": "code",
      "source": [
        "# Functional API를 사용하여 모델 생성\n",
        "\n",
        "inputs = tf.keras.layers.Input(shape=(28, 28, 1), name='inputs')\n",
        "\n",
        "conv = tf.keras.layers.Conv2D(32, (3, 3), activation='relu', name='conv2d_layer')(inputs)\n",
        "pool = tf.keras.layers.MaxPooling2D((2, 2), name='maxpool_layer')(conv)\n",
        "flat = tf.keras.layers.Flatten(name='flatten_layer')(pool)\n",
        "\n",
        "flat_inputs = tf.keras.layers.Flatten()(inputs)\n",
        "concat = tf.keras.layers.Concatenate()([flat, flat_inputs])\n",
        "digit_outputs = tf.keras.layers.Dense(10, activation='softmax', name='digit_dense')(concat)\n",
        "\n",
        "odd_outputs = tf.keras.layers.Dense(1, activation='sigmoid', name='odd_dense')(flat_inputs)\n",
        "\n",
        "model = tf.keras.models.Model(inputs=inputs, outputs=[digit_outputs, odd_outputs])\n",
        "\n",
        "model.summary()"
      ],
      "metadata": {
        "colab": {
          "base_uri": "https://localhost:8080/"
        },
        "id": "et1XI41J4fn5",
        "outputId": "9fc2b0f0-100c-4b94-e3e7-7d70bdfd737b"
      },
      "execution_count": 36,
      "outputs": [
        {
          "output_type": "stream",
          "name": "stdout",
          "text": [
            "Model: \"model_2\"\n",
            "__________________________________________________________________________________________________\n",
            " Layer (type)                   Output Shape         Param #     Connected to                     \n",
            "==================================================================================================\n",
            " inputs (InputLayer)            [(None, 28, 28, 1)]  0           []                               \n",
            "                                                                                                  \n",
            " conv2d_layer (Conv2D)          (None, 26, 26, 32)   320         ['inputs[0][0]']                 \n",
            "                                                                                                  \n",
            " maxpool_layer (MaxPooling2D)   (None, 13, 13, 32)   0           ['conv2d_layer[0][0]']           \n",
            "                                                                                                  \n",
            " flatten_layer (Flatten)        (None, 5408)         0           ['maxpool_layer[0][0]']          \n",
            "                                                                                                  \n",
            " flatten_3 (Flatten)            (None, 784)          0           ['inputs[0][0]']                 \n",
            "                                                                                                  \n",
            " concatenate_1 (Concatenate)    (None, 6192)         0           ['flatten_layer[0][0]',          \n",
            "                                                                  'flatten_3[0][0]']              \n",
            "                                                                                                  \n",
            " digit_dense (Dense)            (None, 10)           61930       ['concatenate_1[0][0]']          \n",
            "                                                                                                  \n",
            " odd_dense (Dense)              (None, 1)            785         ['flatten_3[0][0]']              \n",
            "                                                                                                  \n",
            "==================================================================================================\n",
            "Total params: 63,035\n",
            "Trainable params: 63,035\n",
            "Non-trainable params: 0\n",
            "__________________________________________________________________________________________________\n"
          ]
        }
      ]
    },
    {
      "cell_type": "code",
      "source": [
        "# 모델의 입력과 출력을 나타내는 텐서\n",
        "print(model.input)\n",
        "print(model.output)"
      ],
      "metadata": {
        "colab": {
          "base_uri": "https://localhost:8080/"
        },
        "id": "KvkVLitu4hTl",
        "outputId": "5ca07182-2248-4fc7-b3ff-dc837bf72815"
      },
      "execution_count": 37,
      "outputs": [
        {
          "output_type": "stream",
          "name": "stdout",
          "text": [
            "KerasTensor(type_spec=TensorSpec(shape=(None, 28, 28, 1), dtype=tf.float32, name='inputs'), name='inputs', description=\"created by layer 'inputs'\")\n",
            "[<KerasTensor: shape=(None, 10) dtype=float32 (created by layer 'digit_dense')>, <KerasTensor: shape=(None, 1) dtype=float32 (created by layer 'odd_dense')>]\n"
          ]
        }
      ]
    },
    {
      "cell_type": "code",
      "source": [
        "plot_model(model, show_shapes=True, show_layer_names=True, to_file='multi_output_cnn.png')"
      ],
      "metadata": {
        "colab": {
          "base_uri": "https://localhost:8080/",
          "height": 497
        },
        "id": "6cmwxGy74kij",
        "outputId": "2a9c9451-9498-4373-ebe1-b07da1635288"
      },
      "execution_count": 38,
      "outputs": [
        {
          "output_type": "error",
          "ename": "ImportError",
          "evalue": "ignored",
          "traceback": [
            "\u001b[0;31m---------------------------------------------------------------------------\u001b[0m",
            "\u001b[0;31mImportError\u001b[0m                               Traceback (most recent call last)",
            "\u001b[0;32m<ipython-input-38-dd3eb2069114>\u001b[0m in \u001b[0;36m<module>\u001b[0;34m()\u001b[0m\n\u001b[0;32m----> 1\u001b[0;31m \u001b[0mplot_model\u001b[0m\u001b[0;34m(\u001b[0m\u001b[0mmodel\u001b[0m\u001b[0;34m,\u001b[0m \u001b[0mshow_shapes\u001b[0m\u001b[0;34m=\u001b[0m\u001b[0;32mTrue\u001b[0m\u001b[0;34m,\u001b[0m \u001b[0mshow_layer_names\u001b[0m\u001b[0;34m=\u001b[0m\u001b[0;32mTrue\u001b[0m\u001b[0;34m,\u001b[0m \u001b[0mto_file\u001b[0m\u001b[0;34m=\u001b[0m\u001b[0;34m'multi_output_cnn.png'\u001b[0m\u001b[0;34m)\u001b[0m\u001b[0;34m\u001b[0m\u001b[0;34m\u001b[0m\u001b[0m\n\u001b[0m",
            "\u001b[0;32m/usr/local/lib/python3.7/dist-packages/tensorflow/python/keras/utils/vis_utils.py\u001b[0m in \u001b[0;36mplot_model\u001b[0;34m(model, to_file, show_shapes, show_dtype, show_layer_names, rankdir, expand_nested, dpi)\u001b[0m\n\u001b[1;32m    327\u001b[0m       \u001b[0mrankdir\u001b[0m\u001b[0;34m=\u001b[0m\u001b[0mrankdir\u001b[0m\u001b[0;34m,\u001b[0m\u001b[0;34m\u001b[0m\u001b[0;34m\u001b[0m\u001b[0m\n\u001b[1;32m    328\u001b[0m       \u001b[0mexpand_nested\u001b[0m\u001b[0;34m=\u001b[0m\u001b[0mexpand_nested\u001b[0m\u001b[0;34m,\u001b[0m\u001b[0;34m\u001b[0m\u001b[0;34m\u001b[0m\u001b[0m\n\u001b[0;32m--> 329\u001b[0;31m       dpi=dpi)\n\u001b[0m\u001b[1;32m    330\u001b[0m   \u001b[0mto_file\u001b[0m \u001b[0;34m=\u001b[0m \u001b[0mpath_to_string\u001b[0m\u001b[0;34m(\u001b[0m\u001b[0mto_file\u001b[0m\u001b[0;34m)\u001b[0m\u001b[0;34m\u001b[0m\u001b[0;34m\u001b[0m\u001b[0m\n\u001b[1;32m    331\u001b[0m   \u001b[0;32mif\u001b[0m \u001b[0mdot\u001b[0m \u001b[0;32mis\u001b[0m \u001b[0;32mNone\u001b[0m\u001b[0;34m:\u001b[0m\u001b[0;34m\u001b[0m\u001b[0;34m\u001b[0m\u001b[0m\n",
            "\u001b[0;32m/usr/local/lib/python3.7/dist-packages/tensorflow/python/keras/utils/vis_utils.py\u001b[0m in \u001b[0;36mmodel_to_dot\u001b[0;34m(model, show_shapes, show_dtype, show_layer_names, rankdir, expand_nested, dpi, subgraph)\u001b[0m\n\u001b[1;32m     96\u001b[0m     \u001b[0mImportError\u001b[0m\u001b[0;34m:\u001b[0m \u001b[0;32mif\u001b[0m \u001b[0mgraphviz\u001b[0m \u001b[0;32mor\u001b[0m \u001b[0mpydot\u001b[0m \u001b[0mare\u001b[0m \u001b[0;32mnot\u001b[0m \u001b[0mavailable\u001b[0m\u001b[0;34m.\u001b[0m\u001b[0;34m\u001b[0m\u001b[0;34m\u001b[0m\u001b[0m\n\u001b[1;32m     97\u001b[0m   \"\"\"\n\u001b[0;32m---> 98\u001b[0;31m   \u001b[0;32mfrom\u001b[0m \u001b[0mtensorflow\u001b[0m\u001b[0;34m.\u001b[0m\u001b[0mpython\u001b[0m\u001b[0;34m.\u001b[0m\u001b[0mkeras\u001b[0m\u001b[0;34m.\u001b[0m\u001b[0mlayers\u001b[0m \u001b[0;32mimport\u001b[0m \u001b[0mwrappers\u001b[0m\u001b[0;34m\u001b[0m\u001b[0;34m\u001b[0m\u001b[0m\n\u001b[0m\u001b[1;32m     99\u001b[0m   \u001b[0;32mfrom\u001b[0m \u001b[0mtensorflow\u001b[0m\u001b[0;34m.\u001b[0m\u001b[0mpython\u001b[0m\u001b[0;34m.\u001b[0m\u001b[0mkeras\u001b[0m\u001b[0;34m.\u001b[0m\u001b[0mengine\u001b[0m \u001b[0;32mimport\u001b[0m \u001b[0msequential\u001b[0m\u001b[0;34m\u001b[0m\u001b[0;34m\u001b[0m\u001b[0m\n\u001b[1;32m    100\u001b[0m   \u001b[0;32mfrom\u001b[0m \u001b[0mtensorflow\u001b[0m\u001b[0;34m.\u001b[0m\u001b[0mpython\u001b[0m\u001b[0;34m.\u001b[0m\u001b[0mkeras\u001b[0m\u001b[0;34m.\u001b[0m\u001b[0mengine\u001b[0m \u001b[0;32mimport\u001b[0m \u001b[0mfunctional\u001b[0m\u001b[0;34m\u001b[0m\u001b[0;34m\u001b[0m\u001b[0m\n",
            "\u001b[0;31mImportError\u001b[0m: cannot import name 'wrappers' from 'tensorflow.python.keras.layers' (/usr/local/lib/python3.7/dist-packages/tensorflow/python/keras/layers/__init__.py)",
            "",
            "\u001b[0;31m---------------------------------------------------------------------------\u001b[0;32m\nNOTE: If your import is failing due to a missing package, you can\nmanually install dependencies using either !pip or !apt.\n\nTo view examples of installing some common dependencies, click the\n\"Open Examples\" button below.\n\u001b[0;31m---------------------------------------------------------------------------\u001b[0m\n"
          ],
          "errorDetails": {
            "actions": [
              {
                "action": "open_url",
                "actionText": "Open Examples",
                "url": "/notebooks/snippets/importing_libraries.ipynb"
              }
            ]
          }
        }
      ]
    },
    {
      "cell_type": "code",
      "source": [
        "# 모델 컴파일\n",
        "model.compile(optimizer='adam', \n",
        "              loss={'digit_dense': 'sparse_categorical_crossentropy', 'odd_dense': 'binary_crossentropy'}, \n",
        "              loss_weights={'digit_dense': 1, 'odd_dense': 0.5}, \n",
        "              # loss = 1.0 *sparse_categorical_crossentropy + 0.5*binary_crossentropy\n",
        "              metrics=['accuracy'])\n",
        "\n",
        "# 모델 훈련\n",
        "history = model.fit({'inputs': x_train_in}, \n",
        "                    {'digit_dense': y_train, 'odd_dense': y_train_odd}, \n",
        "                    validation_data=({'inputs': x_valid_in},  {'digit_dense': y_valid, 'odd_dense': y_valid_odd}), \n",
        "                    epochs=10)"
      ],
      "metadata": {
        "colab": {
          "base_uri": "https://localhost:8080/"
        },
        "id": "Cb6wxPUq4mx7",
        "outputId": "2732e826-1e63-4c4f-e0a8-b769548e3a1e"
      },
      "execution_count": 39,
      "outputs": [
        {
          "output_type": "stream",
          "name": "stdout",
          "text": [
            "Epoch 1/10\n",
            "1875/1875 [==============================] - 35s 18ms/step - loss: 0.3528 - digit_dense_loss: 0.1918 - odd_dense_loss: 0.3219 - digit_dense_accuracy: 0.9451 - odd_dense_accuracy: 0.8669 - val_loss: 0.2298 - val_digit_dense_loss: 0.0915 - val_odd_dense_loss: 0.2765 - val_digit_dense_accuracy: 0.9718 - val_odd_dense_accuracy: 0.8850\n",
            "Epoch 2/10\n",
            "1875/1875 [==============================] - 33s 18ms/step - loss: 0.2108 - digit_dense_loss: 0.0750 - odd_dense_loss: 0.2715 - digit_dense_accuracy: 0.9783 - odd_dense_accuracy: 0.8911 - val_loss: 0.1953 - val_digit_dense_loss: 0.0640 - val_odd_dense_loss: 0.2626 - val_digit_dense_accuracy: 0.9808 - val_odd_dense_accuracy: 0.8960\n",
            "Epoch 3/10\n",
            "1875/1875 [==============================] - 33s 17ms/step - loss: 0.1889 - digit_dense_loss: 0.0575 - odd_dense_loss: 0.2628 - digit_dense_accuracy: 0.9825 - odd_dense_accuracy: 0.8960 - val_loss: 0.1871 - val_digit_dense_loss: 0.0576 - val_odd_dense_loss: 0.2588 - val_digit_dense_accuracy: 0.9812 - val_odd_dense_accuracy: 0.8982\n",
            "Epoch 4/10\n",
            "1875/1875 [==============================] - 33s 17ms/step - loss: 0.1773 - digit_dense_loss: 0.0479 - odd_dense_loss: 0.2589 - digit_dense_accuracy: 0.9857 - odd_dense_accuracy: 0.8981 - val_loss: 0.1844 - val_digit_dense_loss: 0.0552 - val_odd_dense_loss: 0.2584 - val_digit_dense_accuracy: 0.9812 - val_odd_dense_accuracy: 0.8979\n",
            "Epoch 5/10\n",
            "1875/1875 [==============================] - 34s 18ms/step - loss: 0.1679 - digit_dense_loss: 0.0394 - odd_dense_loss: 0.2570 - digit_dense_accuracy: 0.9882 - odd_dense_accuracy: 0.8995 - val_loss: 0.1854 - val_digit_dense_loss: 0.0574 - val_odd_dense_loss: 0.2560 - val_digit_dense_accuracy: 0.9826 - val_odd_dense_accuracy: 0.9016\n",
            "Epoch 6/10\n",
            "1875/1875 [==============================] - 33s 17ms/step - loss: 0.1624 - digit_dense_loss: 0.0346 - odd_dense_loss: 0.2556 - digit_dense_accuracy: 0.9887 - odd_dense_accuracy: 0.9000 - val_loss: 0.1865 - val_digit_dense_loss: 0.0573 - val_odd_dense_loss: 0.2583 - val_digit_dense_accuracy: 0.9831 - val_odd_dense_accuracy: 0.8988\n",
            "Epoch 7/10\n",
            "1875/1875 [==============================] - 33s 17ms/step - loss: 0.1566 - digit_dense_loss: 0.0292 - odd_dense_loss: 0.2549 - digit_dense_accuracy: 0.9911 - odd_dense_accuracy: 0.9010 - val_loss: 0.1891 - val_digit_dense_loss: 0.0605 - val_odd_dense_loss: 0.2572 - val_digit_dense_accuracy: 0.9813 - val_odd_dense_accuracy: 0.9005\n",
            "Epoch 8/10\n",
            "1875/1875 [==============================] - 33s 17ms/step - loss: 0.1524 - digit_dense_loss: 0.0254 - odd_dense_loss: 0.2540 - digit_dense_accuracy: 0.9917 - odd_dense_accuracy: 0.9009 - val_loss: 0.1902 - val_digit_dense_loss: 0.0624 - val_odd_dense_loss: 0.2557 - val_digit_dense_accuracy: 0.9820 - val_odd_dense_accuracy: 0.9002\n",
            "Epoch 9/10\n",
            "1875/1875 [==============================] - 33s 18ms/step - loss: 0.1481 - digit_dense_loss: 0.0213 - odd_dense_loss: 0.2536 - digit_dense_accuracy: 0.9932 - odd_dense_accuracy: 0.9011 - val_loss: 0.1839 - val_digit_dense_loss: 0.0560 - val_odd_dense_loss: 0.2559 - val_digit_dense_accuracy: 0.9839 - val_odd_dense_accuracy: 0.9024\n",
            "Epoch 10/10\n",
            "1875/1875 [==============================] - 33s 18ms/step - loss: 0.1449 - digit_dense_loss: 0.0182 - odd_dense_loss: 0.2533 - digit_dense_accuracy: 0.9943 - odd_dense_accuracy: 0.9007 - val_loss: 0.1917 - val_digit_dense_loss: 0.0641 - val_odd_dense_loss: 0.2552 - val_digit_dense_accuracy: 0.9825 - val_odd_dense_accuracy: 0.9020\n"
          ]
        }
      ]
    },
    {
      "cell_type": "code",
      "source": [
        "# 모델 성능\n",
        "model.evaluate({'inputs': x_valid_in}, {'digit_dense': y_valid, 'odd_dense': y_valid_odd})"
      ],
      "metadata": {
        "colab": {
          "base_uri": "https://localhost:8080/"
        },
        "id": "mfyF2QPy4yLm",
        "outputId": "9ca5fb7b-820c-425b-b2b3-11d99b80d7af"
      },
      "execution_count": 40,
      "outputs": [
        {
          "output_type": "stream",
          "name": "stdout",
          "text": [
            "313/313 [==============================] - 2s 7ms/step - loss: 0.1917 - digit_dense_loss: 0.0641 - odd_dense_loss: 0.2552 - digit_dense_accuracy: 0.9825 - odd_dense_accuracy: 0.9020\n"
          ]
        },
        {
          "output_type": "execute_result",
          "data": {
            "text/plain": [
              "[0.19170106947422028,\n",
              " 0.06408640742301941,\n",
              " 0.25522947311401367,\n",
              " 0.9825000166893005,\n",
              " 0.9020000100135803]"
            ]
          },
          "metadata": {},
          "execution_count": 40
        }
      ]
    },
    {
      "cell_type": "code",
      "source": [
        "# 샘플 이미지 출력\n",
        "import matplotlib.pylab as plt\n",
        "\n",
        "def plot_image(data, idx):\n",
        "    plt.figure(figsize=(5, 5))\n",
        "    plt.imshow(data[idx])\n",
        "    plt.axis(\"off\")\n",
        "    plt.show()\n",
        "\n",
        "plot_image(x_valid, 0)"
      ],
      "metadata": {
        "colab": {
          "base_uri": "https://localhost:8080/",
          "height": 303
        },
        "id": "eig7hMTE40Ca",
        "outputId": "7e8b1653-acce-4efa-b032-ec7d5de63694"
      },
      "execution_count": 41,
      "outputs": [
        {
          "output_type": "display_data",
          "data": {
            "text/plain": [
              "<Figure size 360x360 with 1 Axes>"
            ],
            "image/png": "[encoded data removed]"
          },
          "metadata": {
            "needs_background": "light"
          }
        }
      ]
    },
    {
      "cell_type": "code",
      "source": [
        "digit_preds, odd_preds = model.predict(x_valid_in)\n",
        "print(digit_preds[0])\n",
        "print(odd_preds[0])"
      ],
      "metadata": {
        "colab": {
          "base_uri": "https://localhost:8080/"
        },
        "id": "laKSimcp41t_",
        "outputId": "80708e2e-7e71-4f78-8593-ef8d5fb0f44e"
      },
      "execution_count": 42,
      "outputs": [
        {
          "output_type": "stream",
          "name": "stdout",
          "text": [
            "[7.5303972e-13 4.1567041e-10 1.0591380e-09 5.1816221e-07 7.4751342e-12\n",
            " 5.1174162e-11 3.5801407e-21 9.9999917e-01 3.1836913e-09 3.3699263e-07]\n",
            "[0.999561]\n"
          ]
        }
      ]
    },
    {
      "cell_type": "code",
      "source": [
        "digit_labels = np.argmax(digit_preds, axis=-1)\n",
        "digit_labels[0:10]"
      ],
      "metadata": {
        "colab": {
          "base_uri": "https://localhost:8080/"
        },
        "id": "VDHGy3dL44U5",
        "outputId": "373e978c-9e38-477d-f0c0-3a99ccbfeaed"
      },
      "execution_count": 43,
      "outputs": [
        {
          "output_type": "execute_result",
          "data": {
            "text/plain": [
              "array([7, 2, 1, 0, 4, 1, 4, 9, 5, 9])"
            ]
          },
          "metadata": {},
          "execution_count": 43
        }
      ]
    },
    {
      "cell_type": "code",
      "source": [
        "odd_labels = (odd_preds > 0.5).astype(np.int).reshape(1, -1)[0]\n",
        "odd_labels[0:10]"
      ],
      "metadata": {
        "colab": {
          "base_uri": "https://localhost:8080/"
        },
        "id": "LloRrRAP45yh",
        "outputId": "aa37bbf9-4a21-428e-9fbd-708f9d071a62"
      },
      "execution_count": 44,
      "outputs": [
        {
          "output_type": "stream",
          "name": "stderr",
          "text": [
            "/usr/local/lib/python3.7/dist-packages/ipykernel_launcher.py:1: DeprecationWarning: `np.int` is a deprecated alias for the builtin `int`. To silence this warning, use `int` by itself. Doing this will not modify any behavior and is safe. When replacing `np.int`, you may wish to use e.g. `np.int64` or `np.int32` to specify the precision. If you wish to review your current use, check the release note link for additional information.\n",
            "Deprecated in NumPy 1.20; for more details and guidance: https://numpy.org/devdocs/release/1.20.0-notes.html#deprecations\n",
            "  \"\"\"Entry point for launching an IPython kernel.\n"
          ]
        },
        {
          "output_type": "execute_result",
          "data": {
            "text/plain": [
              "array([1, 0, 1, 0, 0, 1, 0, 1, 0, 1])"
            ]
          },
          "metadata": {},
          "execution_count": 44
        }
      ]
    },
    {
      "cell_type": "markdown",
      "source": [
        "### **3-4 전이학습**  \n",
        "\n",
        ": 기존에 학습된 모델을 활용해 새로운 모델을 만들어내는 개념"
      ],
      "metadata": {
        "id": "03QvG_r_48QF"
      }
    },
    {
      "cell_type": "code",
      "source": [
        "# 앞의 모델에서 flatten_layer 출력을 추출\n",
        "base_model_output = model.get_layer('flatten_layer').output\n",
        "\n",
        "# 앞의 출력을 출력으로 하는 모델 정의\n",
        "base_model = tf.keras.models.Model(inputs=model.input, outputs=base_model_output, name='base')\n",
        "base_model.summary()"
      ],
      "metadata": {
        "colab": {
          "base_uri": "https://localhost:8080/"
        },
        "id": "WqTuYiUR5Ctb",
        "outputId": "61c094c8-4273-448a-e3ec-f8566e1b8eba"
      },
      "execution_count": 45,
      "outputs": [
        {
          "output_type": "stream",
          "name": "stdout",
          "text": [
            "Model: \"base\"\n",
            "_________________________________________________________________\n",
            " Layer (type)                Output Shape              Param #   \n",
            "=================================================================\n",
            " inputs (InputLayer)         [(None, 28, 28, 1)]       0         \n",
            "                                                                 \n",
            " conv2d_layer (Conv2D)       (None, 26, 26, 32)        320       \n",
            "                                                                 \n",
            " maxpool_layer (MaxPooling2D  (None, 13, 13, 32)       0         \n",
            " )                                                               \n",
            "                                                                 \n",
            " flatten_layer (Flatten)     (None, 5408)              0         \n",
            "                                                                 \n",
            "=================================================================\n",
            "Total params: 320\n",
            "Trainable params: 320\n",
            "Non-trainable params: 0\n",
            "_________________________________________________________________\n"
          ]
        }
      ]
    },
    {
      "cell_type": "code",
      "source": [
        "plot_model(base_model, show_shapes=True, show_layer_names=True, to_file='base_model.png')"
      ],
      "metadata": {
        "colab": {
          "base_uri": "https://localhost:8080/",
          "height": 497
        },
        "id": "njFYRJhC5Eg2",
        "outputId": "bb0acfd7-0eac-4075-ae5b-ac172cc50aaa"
      },
      "execution_count": 46,
      "outputs": [
        {
          "output_type": "error",
          "ename": "ImportError",
          "evalue": "ignored",
          "traceback": [
            "\u001b[0;31m---------------------------------------------------------------------------\u001b[0m",
            "\u001b[0;31mImportError\u001b[0m                               Traceback (most recent call last)",
            "\u001b[0;32m<ipython-input-46-b8331571bc6c>\u001b[0m in \u001b[0;36m<module>\u001b[0;34m()\u001b[0m\n\u001b[0;32m----> 1\u001b[0;31m \u001b[0mplot_model\u001b[0m\u001b[0;34m(\u001b[0m\u001b[0mbase_model\u001b[0m\u001b[0;34m,\u001b[0m \u001b[0mshow_shapes\u001b[0m\u001b[0;34m=\u001b[0m\u001b[0;32mTrue\u001b[0m\u001b[0;34m,\u001b[0m \u001b[0mshow_layer_names\u001b[0m\u001b[0;34m=\u001b[0m\u001b[0;32mTrue\u001b[0m\u001b[0;34m,\u001b[0m \u001b[0mto_file\u001b[0m\u001b[0;34m=\u001b[0m\u001b[0;34m'base_model.png'\u001b[0m\u001b[0;34m)\u001b[0m\u001b[0;34m\u001b[0m\u001b[0;34m\u001b[0m\u001b[0m\n\u001b[0m",
            "\u001b[0;32m/usr/local/lib/python3.7/dist-packages/tensorflow/python/keras/utils/vis_utils.py\u001b[0m in \u001b[0;36mplot_model\u001b[0;34m(model, to_file, show_shapes, show_dtype, show_layer_names, rankdir, expand_nested, dpi)\u001b[0m\n\u001b[1;32m    327\u001b[0m       \u001b[0mrankdir\u001b[0m\u001b[0;34m=\u001b[0m\u001b[0mrankdir\u001b[0m\u001b[0;34m,\u001b[0m\u001b[0;34m\u001b[0m\u001b[0;34m\u001b[0m\u001b[0m\n\u001b[1;32m    328\u001b[0m       \u001b[0mexpand_nested\u001b[0m\u001b[0;34m=\u001b[0m\u001b[0mexpand_nested\u001b[0m\u001b[0;34m,\u001b[0m\u001b[0;34m\u001b[0m\u001b[0;34m\u001b[0m\u001b[0m\n\u001b[0;32m--> 329\u001b[0;31m       dpi=dpi)\n\u001b[0m\u001b[1;32m    330\u001b[0m   \u001b[0mto_file\u001b[0m \u001b[0;34m=\u001b[0m \u001b[0mpath_to_string\u001b[0m\u001b[0;34m(\u001b[0m\u001b[0mto_file\u001b[0m\u001b[0;34m)\u001b[0m\u001b[0;34m\u001b[0m\u001b[0;34m\u001b[0m\u001b[0m\n\u001b[1;32m    331\u001b[0m   \u001b[0;32mif\u001b[0m \u001b[0mdot\u001b[0m \u001b[0;32mis\u001b[0m \u001b[0;32mNone\u001b[0m\u001b[0;34m:\u001b[0m\u001b[0;34m\u001b[0m\u001b[0;34m\u001b[0m\u001b[0m\n",
            "\u001b[0;32m/usr/local/lib/python3.7/dist-packages/tensorflow/python/keras/utils/vis_utils.py\u001b[0m in \u001b[0;36mmodel_to_dot\u001b[0;34m(model, show_shapes, show_dtype, show_layer_names, rankdir, expand_nested, dpi, subgraph)\u001b[0m\n\u001b[1;32m     96\u001b[0m     \u001b[0mImportError\u001b[0m\u001b[0;34m:\u001b[0m \u001b[0;32mif\u001b[0m \u001b[0mgraphviz\u001b[0m \u001b[0;32mor\u001b[0m \u001b[0mpydot\u001b[0m \u001b[0mare\u001b[0m \u001b[0;32mnot\u001b[0m \u001b[0mavailable\u001b[0m\u001b[0;34m.\u001b[0m\u001b[0;34m\u001b[0m\u001b[0;34m\u001b[0m\u001b[0m\n\u001b[1;32m     97\u001b[0m   \"\"\"\n\u001b[0;32m---> 98\u001b[0;31m   \u001b[0;32mfrom\u001b[0m \u001b[0mtensorflow\u001b[0m\u001b[0;34m.\u001b[0m\u001b[0mpython\u001b[0m\u001b[0;34m.\u001b[0m\u001b[0mkeras\u001b[0m\u001b[0;34m.\u001b[0m\u001b[0mlayers\u001b[0m \u001b[0;32mimport\u001b[0m \u001b[0mwrappers\u001b[0m\u001b[0;34m\u001b[0m\u001b[0;34m\u001b[0m\u001b[0m\n\u001b[0m\u001b[1;32m     99\u001b[0m   \u001b[0;32mfrom\u001b[0m \u001b[0mtensorflow\u001b[0m\u001b[0;34m.\u001b[0m\u001b[0mpython\u001b[0m\u001b[0;34m.\u001b[0m\u001b[0mkeras\u001b[0m\u001b[0;34m.\u001b[0m\u001b[0mengine\u001b[0m \u001b[0;32mimport\u001b[0m \u001b[0msequential\u001b[0m\u001b[0;34m\u001b[0m\u001b[0;34m\u001b[0m\u001b[0m\n\u001b[1;32m    100\u001b[0m   \u001b[0;32mfrom\u001b[0m \u001b[0mtensorflow\u001b[0m\u001b[0;34m.\u001b[0m\u001b[0mpython\u001b[0m\u001b[0;34m.\u001b[0m\u001b[0mkeras\u001b[0m\u001b[0;34m.\u001b[0m\u001b[0mengine\u001b[0m \u001b[0;32mimport\u001b[0m \u001b[0mfunctional\u001b[0m\u001b[0;34m\u001b[0m\u001b[0;34m\u001b[0m\u001b[0m\n",
            "\u001b[0;31mImportError\u001b[0m: cannot import name 'wrappers' from 'tensorflow.python.keras.layers' (/usr/local/lib/python3.7/dist-packages/tensorflow/python/keras/layers/__init__.py)",
            "",
            "\u001b[0;31m---------------------------------------------------------------------------\u001b[0;32m\nNOTE: If your import is failing due to a missing package, you can\nmanually install dependencies using either !pip or !apt.\n\nTo view examples of installing some common dependencies, click the\n\"Open Examples\" button below.\n\u001b[0;31m---------------------------------------------------------------------------\u001b[0m\n"
          ],
          "errorDetails": {
            "actions": [
              {
                "action": "open_url",
                "actionText": "Open Examples",
                "url": "/notebooks/snippets/importing_libraries.ipynb"
              }
            ]
          }
        }
      ]
    },
    {
      "cell_type": "code",
      "source": [
        "# Sequential API 적용\n",
        "digit_model = tf.keras.Sequential([base_model,\n",
        "                                   tf.keras.layers.Dense(10, activation='softmax'),\n",
        "                                   ])\n",
        "digit_model.summary()"
      ],
      "metadata": {
        "colab": {
          "base_uri": "https://localhost:8080/"
        },
        "id": "ELpv0_eN5G-7",
        "outputId": "bfcf5c00-89cc-4183-c572-a5c4ff85efde"
      },
      "execution_count": 47,
      "outputs": [
        {
          "output_type": "stream",
          "name": "stdout",
          "text": [
            "Model: \"sequential_1\"\n",
            "_________________________________________________________________\n",
            " Layer (type)                Output Shape              Param #   \n",
            "=================================================================\n",
            " base (Functional)           (None, 5408)              320       \n",
            "                                                                 \n",
            " dense_2 (Dense)             (None, 10)                54090     \n",
            "                                                                 \n",
            "=================================================================\n",
            "Total params: 54,410\n",
            "Trainable params: 54,410\n",
            "Non-trainable params: 0\n",
            "_________________________________________________________________\n"
          ]
        }
      ]
    },
    {
      "cell_type": "code",
      "source": [
        "plot_model(digit_model, show_shapes=True, show_layer_names=True, to_file='digit_model.png')"
      ],
      "metadata": {
        "colab": {
          "base_uri": "https://localhost:8080/",
          "height": 497
        },
        "id": "vwQk5-pR5Kh3",
        "outputId": "998b7600-9ccd-4905-de78-17f69eb9ae62"
      },
      "execution_count": 48,
      "outputs": [
        {
          "output_type": "error",
          "ename": "ImportError",
          "evalue": "ignored",
          "traceback": [
            "\u001b[0;31m---------------------------------------------------------------------------\u001b[0m",
            "\u001b[0;31mImportError\u001b[0m                               Traceback (most recent call last)",
            "\u001b[0;32m<ipython-input-48-8b92722d5793>\u001b[0m in \u001b[0;36m<module>\u001b[0;34m()\u001b[0m\n\u001b[0;32m----> 1\u001b[0;31m \u001b[0mplot_model\u001b[0m\u001b[0;34m(\u001b[0m\u001b[0mdigit_model\u001b[0m\u001b[0;34m,\u001b[0m \u001b[0mshow_shapes\u001b[0m\u001b[0;34m=\u001b[0m\u001b[0;32mTrue\u001b[0m\u001b[0;34m,\u001b[0m \u001b[0mshow_layer_names\u001b[0m\u001b[0;34m=\u001b[0m\u001b[0;32mTrue\u001b[0m\u001b[0;34m,\u001b[0m \u001b[0mto_file\u001b[0m\u001b[0;34m=\u001b[0m\u001b[0;34m'digit_model.png'\u001b[0m\u001b[0;34m)\u001b[0m\u001b[0;34m\u001b[0m\u001b[0;34m\u001b[0m\u001b[0m\n\u001b[0m",
            "\u001b[0;32m/usr/local/lib/python3.7/dist-packages/tensorflow/python/keras/utils/vis_utils.py\u001b[0m in \u001b[0;36mplot_model\u001b[0;34m(model, to_file, show_shapes, show_dtype, show_layer_names, rankdir, expand_nested, dpi)\u001b[0m\n\u001b[1;32m    327\u001b[0m       \u001b[0mrankdir\u001b[0m\u001b[0;34m=\u001b[0m\u001b[0mrankdir\u001b[0m\u001b[0;34m,\u001b[0m\u001b[0;34m\u001b[0m\u001b[0;34m\u001b[0m\u001b[0m\n\u001b[1;32m    328\u001b[0m       \u001b[0mexpand_nested\u001b[0m\u001b[0;34m=\u001b[0m\u001b[0mexpand_nested\u001b[0m\u001b[0;34m,\u001b[0m\u001b[0;34m\u001b[0m\u001b[0;34m\u001b[0m\u001b[0m\n\u001b[0;32m--> 329\u001b[0;31m       dpi=dpi)\n\u001b[0m\u001b[1;32m    330\u001b[0m   \u001b[0mto_file\u001b[0m \u001b[0;34m=\u001b[0m \u001b[0mpath_to_string\u001b[0m\u001b[0;34m(\u001b[0m\u001b[0mto_file\u001b[0m\u001b[0;34m)\u001b[0m\u001b[0;34m\u001b[0m\u001b[0;34m\u001b[0m\u001b[0m\n\u001b[1;32m    331\u001b[0m   \u001b[0;32mif\u001b[0m \u001b[0mdot\u001b[0m \u001b[0;32mis\u001b[0m \u001b[0;32mNone\u001b[0m\u001b[0;34m:\u001b[0m\u001b[0;34m\u001b[0m\u001b[0;34m\u001b[0m\u001b[0m\n",
            "\u001b[0;32m/usr/local/lib/python3.7/dist-packages/tensorflow/python/keras/utils/vis_utils.py\u001b[0m in \u001b[0;36mmodel_to_dot\u001b[0;34m(model, show_shapes, show_dtype, show_layer_names, rankdir, expand_nested, dpi, subgraph)\u001b[0m\n\u001b[1;32m     96\u001b[0m     \u001b[0mImportError\u001b[0m\u001b[0;34m:\u001b[0m \u001b[0;32mif\u001b[0m \u001b[0mgraphviz\u001b[0m \u001b[0;32mor\u001b[0m \u001b[0mpydot\u001b[0m \u001b[0mare\u001b[0m \u001b[0;32mnot\u001b[0m \u001b[0mavailable\u001b[0m\u001b[0;34m.\u001b[0m\u001b[0;34m\u001b[0m\u001b[0;34m\u001b[0m\u001b[0m\n\u001b[1;32m     97\u001b[0m   \"\"\"\n\u001b[0;32m---> 98\u001b[0;31m   \u001b[0;32mfrom\u001b[0m \u001b[0mtensorflow\u001b[0m\u001b[0;34m.\u001b[0m\u001b[0mpython\u001b[0m\u001b[0;34m.\u001b[0m\u001b[0mkeras\u001b[0m\u001b[0;34m.\u001b[0m\u001b[0mlayers\u001b[0m \u001b[0;32mimport\u001b[0m \u001b[0mwrappers\u001b[0m\u001b[0;34m\u001b[0m\u001b[0;34m\u001b[0m\u001b[0m\n\u001b[0m\u001b[1;32m     99\u001b[0m   \u001b[0;32mfrom\u001b[0m \u001b[0mtensorflow\u001b[0m\u001b[0;34m.\u001b[0m\u001b[0mpython\u001b[0m\u001b[0;34m.\u001b[0m\u001b[0mkeras\u001b[0m\u001b[0;34m.\u001b[0m\u001b[0mengine\u001b[0m \u001b[0;32mimport\u001b[0m \u001b[0msequential\u001b[0m\u001b[0;34m\u001b[0m\u001b[0;34m\u001b[0m\u001b[0m\n\u001b[1;32m    100\u001b[0m   \u001b[0;32mfrom\u001b[0m \u001b[0mtensorflow\u001b[0m\u001b[0;34m.\u001b[0m\u001b[0mpython\u001b[0m\u001b[0;34m.\u001b[0m\u001b[0mkeras\u001b[0m\u001b[0;34m.\u001b[0m\u001b[0mengine\u001b[0m \u001b[0;32mimport\u001b[0m \u001b[0mfunctional\u001b[0m\u001b[0;34m\u001b[0m\u001b[0;34m\u001b[0m\u001b[0m\n",
            "\u001b[0;31mImportError\u001b[0m: cannot import name 'wrappers' from 'tensorflow.python.keras.layers' (/usr/local/lib/python3.7/dist-packages/tensorflow/python/keras/layers/__init__.py)",
            "",
            "\u001b[0;31m---------------------------------------------------------------------------\u001b[0;32m\nNOTE: If your import is failing due to a missing package, you can\nmanually install dependencies using either !pip or !apt.\n\nTo view examples of installing some common dependencies, click the\n\"Open Examples\" button below.\n\u001b[0;31m---------------------------------------------------------------------------\u001b[0m\n"
          ],
          "errorDetails": {
            "actions": [
              {
                "action": "open_url",
                "actionText": "Open Examples",
                "url": "/notebooks/snippets/importing_libraries.ipynb"
              }
            ]
          }
        }
      ]
    },
    {
      "cell_type": "code",
      "source": [
        "# 모델 컴파일\n",
        "digit_model.compile(optimizer='adam', loss='sparse_categorical_crossentropy', metrics=['accuracy'])\n",
        "\n",
        "# 모델 훈련\n",
        "history = digit_model.fit(x_train_in, y_train, \n",
        "                    validation_data=(x_valid_in, y_valid), \n",
        "                    epochs=10)"
      ],
      "metadata": {
        "colab": {
          "base_uri": "https://localhost:8080/"
        },
        "id": "wpQ86vhX5NFO",
        "outputId": "1b597a48-6f62-43a7-8c1f-14ebcf711c97"
      },
      "execution_count": 49,
      "outputs": [
        {
          "output_type": "stream",
          "name": "stdout",
          "text": [
            "Epoch 1/10\n",
            "1875/1875 [==============================] - 31s 16ms/step - loss: 0.1302 - accuracy: 0.9622 - val_loss: 0.0677 - val_accuracy: 0.9771\n",
            "Epoch 2/10\n",
            "1875/1875 [==============================] - 30s 16ms/step - loss: 0.0585 - accuracy: 0.9827 - val_loss: 0.0514 - val_accuracy: 0.9841\n",
            "Epoch 3/10\n",
            "1875/1875 [==============================] - 30s 16ms/step - loss: 0.0457 - accuracy: 0.9862 - val_loss: 0.0511 - val_accuracy: 0.9829\n",
            "Epoch 4/10\n",
            "1875/1875 [==============================] - 31s 16ms/step - loss: 0.0363 - accuracy: 0.9887 - val_loss: 0.0584 - val_accuracy: 0.9820\n",
            "Epoch 5/10\n",
            "1875/1875 [==============================] - 30s 16ms/step - loss: 0.0302 - accuracy: 0.9907 - val_loss: 0.0582 - val_accuracy: 0.9821\n",
            "Epoch 6/10\n",
            "1875/1875 [==============================] - 30s 16ms/step - loss: 0.0250 - accuracy: 0.9920 - val_loss: 0.0534 - val_accuracy: 0.9848\n",
            "Epoch 7/10\n",
            "1875/1875 [==============================] - 30s 16ms/step - loss: 0.0213 - accuracy: 0.9935 - val_loss: 0.0553 - val_accuracy: 0.9855\n",
            "Epoch 8/10\n",
            "1875/1875 [==============================] - 30s 16ms/step - loss: 0.0177 - accuracy: 0.9944 - val_loss: 0.0529 - val_accuracy: 0.9851\n",
            "Epoch 9/10\n",
            "1875/1875 [==============================] - 30s 16ms/step - loss: 0.0144 - accuracy: 0.9954 - val_loss: 0.0541 - val_accuracy: 0.9854\n",
            "Epoch 10/10\n",
            "1875/1875 [==============================] - 30s 16ms/step - loss: 0.0129 - accuracy: 0.9962 - val_loss: 0.0544 - val_accuracy: 0.9857\n"
          ]
        }
      ]
    },
    {
      "cell_type": "code",
      "source": [
        "# 베이스 모델의 가중치를 고정 (Freeze Model)\n",
        "\n",
        "base_model_frozen = tf.keras.models.Model(inputs=model.input, outputs=base_model_output, name='base_frozen')\n",
        "base_model_frozen.trainable = False\n",
        "base_model_frozen.summary()"
      ],
      "metadata": {
        "colab": {
          "base_uri": "https://localhost:8080/"
        },
        "id": "24hxTJZH5P0l",
        "outputId": "51f5c448-5a89-4ab6-da60-99127a7b84c0"
      },
      "execution_count": 50,
      "outputs": [
        {
          "output_type": "stream",
          "name": "stdout",
          "text": [
            "Model: \"base_frozen\"\n",
            "_________________________________________________________________\n",
            " Layer (type)                Output Shape              Param #   \n",
            "=================================================================\n",
            " inputs (InputLayer)         [(None, 28, 28, 1)]       0         \n",
            "                                                                 \n",
            " conv2d_layer (Conv2D)       (None, 26, 26, 32)        320       \n",
            "                                                                 \n",
            " maxpool_layer (MaxPooling2D  (None, 13, 13, 32)       0         \n",
            " )                                                               \n",
            "                                                                 \n",
            " flatten_layer (Flatten)     (None, 5408)              0         \n",
            "                                                                 \n",
            "=================================================================\n",
            "Total params: 320\n",
            "Trainable params: 0\n",
            "Non-trainable params: 320\n",
            "_________________________________________________________________\n"
          ]
        }
      ]
    },
    {
      "cell_type": "code",
      "source": [
        "# Functional API 적용\n",
        "dense_output = tf.keras.layers.Dense(10, activation='softmax')(base_model_frozen.output)\n",
        "digit_model_frozen = tf.keras.models.Model(inputs=base_model_frozen.input, outputs=dense_output)\n",
        "digit_model_frozen.summary()"
      ],
      "metadata": {
        "colab": {
          "base_uri": "https://localhost:8080/"
        },
        "id": "xGRv3H_35R3A",
        "outputId": "c0008aaf-5c6f-4a22-d531-75e84bb804c4"
      },
      "execution_count": 51,
      "outputs": [
        {
          "output_type": "stream",
          "name": "stdout",
          "text": [
            "Model: \"model_3\"\n",
            "_________________________________________________________________\n",
            " Layer (type)                Output Shape              Param #   \n",
            "=================================================================\n",
            " inputs (InputLayer)         [(None, 28, 28, 1)]       0         \n",
            "                                                                 \n",
            " conv2d_layer (Conv2D)       (None, 26, 26, 32)        320       \n",
            "                                                                 \n",
            " maxpool_layer (MaxPooling2D  (None, 13, 13, 32)       0         \n",
            " )                                                               \n",
            "                                                                 \n",
            " flatten_layer (Flatten)     (None, 5408)              0         \n",
            "                                                                 \n",
            " dense_3 (Dense)             (None, 10)                54090     \n",
            "                                                                 \n",
            "=================================================================\n",
            "Total params: 54,410\n",
            "Trainable params: 54,090\n",
            "Non-trainable params: 320\n",
            "_________________________________________________________________\n"
          ]
        }
      ]
    },
    {
      "cell_type": "code",
      "source": [
        "# 모델 컴파일\n",
        "digit_model_frozen.compile(optimizer='adam', loss='sparse_categorical_crossentropy', metrics=['accuracy'])\n",
        "\n",
        "# 모델 훈련\n",
        "history = digit_model_frozen.fit(x_train_in, y_train, \n",
        "                    validation_data=(x_valid_in, y_valid), \n",
        "                    epochs=10)"
      ],
      "metadata": {
        "colab": {
          "base_uri": "https://localhost:8080/"
        },
        "id": "bGq9dnRz5Tf9",
        "outputId": "7aaae25a-5469-448f-9a9d-86b05b97cbe2"
      },
      "execution_count": 52,
      "outputs": [
        {
          "output_type": "stream",
          "name": "stdout",
          "text": [
            "Epoch 1/10\n",
            "1875/1875 [==============================] - 18s 9ms/step - loss: 0.1157 - accuracy: 0.9688 - val_loss: 0.0566 - val_accuracy: 0.9822\n",
            "Epoch 2/10\n",
            "1875/1875 [==============================] - 16s 9ms/step - loss: 0.0500 - accuracy: 0.9850 - val_loss: 0.0540 - val_accuracy: 0.9823\n",
            "Epoch 3/10\n",
            "1875/1875 [==============================] - 16s 9ms/step - loss: 0.0376 - accuracy: 0.9886 - val_loss: 0.0519 - val_accuracy: 0.9837\n",
            "Epoch 4/10\n",
            "1875/1875 [==============================] - 16s 9ms/step - loss: 0.0293 - accuracy: 0.9908 - val_loss: 0.0543 - val_accuracy: 0.9834\n",
            "Epoch 5/10\n",
            "1875/1875 [==============================] - 17s 9ms/step - loss: 0.0239 - accuracy: 0.9927 - val_loss: 0.0528 - val_accuracy: 0.9839\n",
            "Epoch 6/10\n",
            "1875/1875 [==============================] - 16s 9ms/step - loss: 0.0198 - accuracy: 0.9937 - val_loss: 0.0491 - val_accuracy: 0.9855\n",
            "Epoch 7/10\n",
            "1875/1875 [==============================] - 16s 9ms/step - loss: 0.0159 - accuracy: 0.9954 - val_loss: 0.0574 - val_accuracy: 0.9829\n",
            "Epoch 8/10\n",
            "1875/1875 [==============================] - 16s 9ms/step - loss: 0.0141 - accuracy: 0.9958 - val_loss: 0.0576 - val_accuracy: 0.9847\n",
            "Epoch 9/10\n",
            "1875/1875 [==============================] - 16s 9ms/step - loss: 0.0114 - accuracy: 0.9967 - val_loss: 0.0548 - val_accuracy: 0.9851\n",
            "Epoch 10/10\n",
            "1875/1875 [==============================] - 16s 9ms/step - loss: 0.0108 - accuracy: 0.9969 - val_loss: 0.0769 - val_accuracy: 0.9812\n"
          ]
        }
      ]
    },
    {
      "cell_type": "code",
      "source": [
        "# 베이스 모델의 Conv2D 레이어의 가중치만 고정 (Freeze Layer)\n",
        "base_model_frozen2 = tf.keras.models.Model(inputs=model.input, outputs=base_model_output, name='base_frozen2')\n",
        "base_model_frozen2.get_layer('conv2d_layer').trainable = False\n",
        "base_model_frozen2.summary()"
      ],
      "metadata": {
        "colab": {
          "base_uri": "https://localhost:8080/"
        },
        "id": "fizH5ZRe5V1u",
        "outputId": "14705995-7f6f-4dfb-9e12-9964c91a06cf"
      },
      "execution_count": 53,
      "outputs": [
        {
          "output_type": "stream",
          "name": "stdout",
          "text": [
            "Model: \"base_frozen2\"\n",
            "_________________________________________________________________\n",
            " Layer (type)                Output Shape              Param #   \n",
            "=================================================================\n",
            " inputs (InputLayer)         [(None, 28, 28, 1)]       0         \n",
            "                                                                 \n",
            " conv2d_layer (Conv2D)       (None, 26, 26, 32)        320       \n",
            "                                                                 \n",
            " maxpool_layer (MaxPooling2D  (None, 13, 13, 32)       0         \n",
            " )                                                               \n",
            "                                                                 \n",
            " flatten_layer (Flatten)     (None, 5408)              0         \n",
            "                                                                 \n",
            "=================================================================\n",
            "Total params: 320\n",
            "Trainable params: 0\n",
            "Non-trainable params: 320\n",
            "_________________________________________________________________\n"
          ]
        }
      ]
    },
    {
      "cell_type": "code",
      "source": [
        "# Functional API 적용\n",
        "dense_output2 = tf.keras.layers.Dense(10, activation='softmax')(base_model_frozen2.output)\n",
        "digit_model_frozen2 = tf.keras.models.Model(inputs=base_model_frozen2.input, outputs=dense_output2)\n",
        "digit_model_frozen2.summary()"
      ],
      "metadata": {
        "colab": {
          "base_uri": "https://localhost:8080/"
        },
        "id": "gZscc1jp5Xq4",
        "outputId": "c6be9942-f0a8-4d58-c607-5a837cfb0683"
      },
      "execution_count": 54,
      "outputs": [
        {
          "output_type": "stream",
          "name": "stdout",
          "text": [
            "Model: \"model_4\"\n",
            "_________________________________________________________________\n",
            " Layer (type)                Output Shape              Param #   \n",
            "=================================================================\n",
            " inputs (InputLayer)         [(None, 28, 28, 1)]       0         \n",
            "                                                                 \n",
            " conv2d_layer (Conv2D)       (None, 26, 26, 32)        320       \n",
            "                                                                 \n",
            " maxpool_layer (MaxPooling2D  (None, 13, 13, 32)       0         \n",
            " )                                                               \n",
            "                                                                 \n",
            " flatten_layer (Flatten)     (None, 5408)              0         \n",
            "                                                                 \n",
            " dense_4 (Dense)             (None, 10)                54090     \n",
            "                                                                 \n",
            "=================================================================\n",
            "Total params: 54,410\n",
            "Trainable params: 54,090\n",
            "Non-trainable params: 320\n",
            "_________________________________________________________________\n"
          ]
        }
      ]
    },
    {
      "cell_type": "code",
      "source": [
        "# 모델 컴파일\n",
        "digit_model_frozen2.compile(optimizer='adam', loss='sparse_categorical_crossentropy', metrics=['accuracy'])\n",
        "\n",
        "# 모델 훈련\n",
        "history = digit_model_frozen2.fit(x_train_in, y_train, \n",
        "                    validation_data=(x_valid_in, y_valid), \n",
        "                    epochs=10)"
      ],
      "metadata": {
        "colab": {
          "base_uri": "https://localhost:8080/"
        },
        "id": "iLk6K9p55ZjR",
        "outputId": "2a6622be-6fbf-43a9-9b05-29da9f2df78a"
      },
      "execution_count": 55,
      "outputs": [
        {
          "output_type": "stream",
          "name": "stdout",
          "text": [
            "Epoch 1/10\n",
            "1875/1875 [==============================] - 16s 8ms/step - loss: 0.1157 - accuracy: 0.9678 - val_loss: 0.0603 - val_accuracy: 0.9815\n",
            "Epoch 2/10\n",
            "1875/1875 [==============================] - 17s 9ms/step - loss: 0.0502 - accuracy: 0.9850 - val_loss: 0.0472 - val_accuracy: 0.9845\n",
            "Epoch 3/10\n",
            "1875/1875 [==============================] - 16s 8ms/step - loss: 0.0374 - accuracy: 0.9887 - val_loss: 0.0553 - val_accuracy: 0.9831\n",
            "Epoch 4/10\n",
            "1875/1875 [==============================] - 15s 8ms/step - loss: 0.0290 - accuracy: 0.9911 - val_loss: 0.0534 - val_accuracy: 0.9842\n",
            "Epoch 5/10\n",
            "1875/1875 [==============================] - 16s 9ms/step - loss: 0.0244 - accuracy: 0.9925 - val_loss: 0.0545 - val_accuracy: 0.9830\n",
            "Epoch 6/10\n",
            "1875/1875 [==============================] - 16s 8ms/step - loss: 0.0192 - accuracy: 0.9942 - val_loss: 0.0555 - val_accuracy: 0.9845\n",
            "Epoch 7/10\n",
            "1875/1875 [==============================] - 16s 8ms/step - loss: 0.0162 - accuracy: 0.9952 - val_loss: 0.0557 - val_accuracy: 0.9843\n",
            "Epoch 8/10\n",
            "1875/1875 [==============================] - 16s 9ms/step - loss: 0.0132 - accuracy: 0.9958 - val_loss: 0.0555 - val_accuracy: 0.9846\n",
            "Epoch 9/10\n",
            "1875/1875 [==============================] - 16s 8ms/step - loss: 0.0120 - accuracy: 0.9964 - val_loss: 0.0591 - val_accuracy: 0.9842\n",
            "Epoch 10/10\n",
            "1875/1875 [==============================] - 16s 9ms/step - loss: 0.0101 - accuracy: 0.9971 - val_loss: 0.0592 - val_accuracy: 0.9843\n"
          ]
        }
      ]
    }
  ]
}