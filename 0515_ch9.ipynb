{
  "nbformat": 4,
  "nbformat_minor": 0,
  "metadata": {
    "colab": {
      "name": "0515_ch9.ipynb",
      "provenance": [],
      "collapsed_sections": [],
      "authorship_tag": "ABX9TyNVxja+3uXB4TKKvk/bUC3v",
      "include_colab_link": true
    },
    "kernelspec": {
      "name": "python3",
      "display_name": "Python 3"
    },
    "language_info": {
      "name": "python"
    }
  },
  "cells": [
    {
      "cell_type": "markdown",
      "metadata": {
        "id": "view-in-github",
        "colab_type": "text"
      },
      "source": [
        "<a href=\"https://colab.research.google.com/github/HyeJin816/ESAA_22/blob/main/0515_ch9.ipynb\" target=\"_parent\"><img src=\"https://colab.research.google.com/assets/colab-badge.svg\" alt=\"Open In Colab\"/></a>"
      ]
    },
    {
      "cell_type": "markdown",
      "source": [
        "# **Ch9. 추천시스템**"
      ],
      "metadata": {
        "id": "jTRRh-k9sV2D"
      }
    },
    {
      "cell_type": "markdown",
      "source": [
        "## **01 추천 시스템 개요**"
      ],
      "metadata": {
        "id": "RYy97H_DseGF"
      }
    },
    {
      "cell_type": "markdown",
      "source": [
        "사용자가 스스로도 몰랐던 취향을 시스템이 발견하고 그에 맞는 콘텐츠를 추천. 해당 시스템을 신뢰하게 될수록 더 많은 데이터가 추천 시스템에 축적되면서 추천이 더욱 정확해지고 좋은 선순환 시스템 구축. "
      ],
      "metadata": {
        "id": "JZuHxcYBsjP0"
      }
    },
    {
      "cell_type": "markdown",
      "source": [
        "### **온라인 스토어의 필수 요소, 추천시스템**"
      ],
      "metadata": {
        "id": "zWGtjX0qtXvV"
      }
    },
    {
      "cell_type": "markdown",
      "source": [
        "온라인 스토어는 많은 양과 고객과 상품 관련 데이터를 가지고 있으며 이 모든 데이터가 사용자의 흥미를 돋을 상품을 즉각적으로 추천하는데 사용.\n",
        "> 사용자가 어떤 상품을 구매했는가?  \n",
        "> 사용자가 어떤 제품을 browse했는가?  \n",
        "> 사용자가 무엇을 클릭했는가?  \n",
        "> 사용자의 제품 평점은?"
      ],
      "metadata": {
        "id": "G0kSkqAVteGX"
      }
    },
    {
      "cell_type": "markdown",
      "source": [
        "### **추천시스템의 유형**"
      ],
      "metadata": {
        "id": "98VXO1Xyt-TC"
      }
    },
    {
      "cell_type": "markdown",
      "source": [
        "* 콘텐츠 기반 필터링\n",
        "* 협업필터링\n",
        "  * 최근접 이웃 협업 필터링\n",
        "  * 잠재 요인 협업 필터링"
      ],
      "metadata": {
        "id": "Y2qS0v71uAIq"
      }
    },
    {
      "cell_type": "markdown",
      "source": [
        "## **02 콘텐츠 기반 필터링 추천 시스템**"
      ],
      "metadata": {
        "id": "pz398slVufgZ"
      }
    },
    {
      "cell_type": "markdown",
      "source": [
        "사용자가 특정한 아이템을 매우 선호하는 경우, 그 아이템과 비슷한 콘텐츠를 가진 다른 아이템을 추천하는 방식."
      ],
      "metadata": {
        "id": "ztzAU4kLuj2E"
      }
    },
    {
      "cell_type": "markdown",
      "source": [
        "## **03 최근접 이웃 협업 필터링**"
      ],
      "metadata": {
        "id": "-OCVfatgu_6i"
      }
    },
    {
      "cell_type": "markdown",
      "source": [
        "사용자 행동 양식(아이템에 매긴 평점 정보, 상품 구매 이력)만을 기반으로 추천을 수행하는 것  \n",
        ": 사용자-아이템 평점 매트릭스와 같은 축적된 사용자 행동 데이터를 기반으로 사용자가 아직 평가하지 않은 아이템을 예측 평가 하는 것.  \n",
        "> **사용자 기반 User-User** : 특성 사용자와 유사한 다른 사용자를 선정하여 그 사용자가 좋아하는 아이템 추천 방식  \n",
        "> **아이템 기반 Item-Item** : 아이템이 갖는 속성과 상관없이 사용자들이 그 아이템에 대한 호감의 평가 척도가 유사한 아이템을 추천하는 기준이 되는 알고리즘"
      ],
      "metadata": {
        "id": "UWn2czPOvCqi"
      }
    },
    {
      "cell_type": "markdown",
      "source": [
        "## **04 잠재 요인 협업 필터링**"
      ],
      "metadata": {
        "id": "BMHM-ozWwJzo"
      }
    },
    {
      "cell_type": "markdown",
      "source": [
        "'잠재 요인'이 어떤 것인지 명확히 정의할 수는 없지만 user-item 평점 행렬 데이터로 잠재 요인을 끄집어 내는 것을 의미"
      ],
      "metadata": {
        "id": "8sYLFmatwOmG"
      }
    },
    {
      "cell_type": "markdown",
      "source": [
        "### **행렬 분해의 이해**"
      ],
      "metadata": {
        "id": "9zKuLj2WxPNB"
      }
    },
    {
      "cell_type": "markdown",
      "source": [
        "다차원 매트릭스를 저차원 매트릭스로 분해하는 기법  \n",
        "* **SVD** Singular Vector Decompositon : NaN값이 없는 행렬의 분해  \n",
        "* **NMF** Non-Negative Matrix Factorization"
      ],
      "metadata": {
        "id": "IPNYL8shxUZG"
      }
    },
    {
      "cell_type": "markdown",
      "source": [
        "### **확률적 경사 하강법을 이용한 행렬 분해**"
      ],
      "metadata": {
        "id": "S34i-Hi0x6k_"
      }
    },
    {
      "cell_type": "markdown",
      "source": [
        "예측 행렬의 값이 실제 행렬 값과 최소의 오류를 가질 수 있도록 반복적인 비용 함수 최적화를 통해 행렬 유추"
      ],
      "metadata": {
        "id": "KGWN6dIYx90K"
      }
    },
    {
      "cell_type": "code",
      "source": [
        "import numpy as np\n",
        "\n",
        "#원본 행렬 R 생성, 분해 행렬 P와 Q 초기화, 잠재 요인 차원 K는 3으로 설정\n",
        "R = np.array([[4, np.NaN, np.NaN, 2, np.NaN,],\n",
        "              [np.NaN, 5, np.NaN, 3, 1],\n",
        "              [np.NaN, np.NaN, 3, 4, 4],\n",
        "              [5, 2, 1, 1, np.NaN]])\n",
        "\n",
        "num_users, num_items = R.shape\n",
        "K = 3\n",
        "\n",
        "# P와 Q 행렬의 크기를 지정하고 정규 분포를 가진 임의의 값으로 입력\n",
        "np.random.seed(1)\n",
        "P = np.random.normal(scale=1./K, size=(num_users, K))\n",
        "Q = np.random.normal(scale=1./K, size=(num_items, K))"
      ],
      "metadata": {
        "id": "-09ZysCPyq1i"
      },
      "execution_count": 1,
      "outputs": []
    },
    {
      "cell_type": "code",
      "source": [
        "from sklearn.metrics import mean_squared_error\n",
        "\n",
        "def get_rmse(R, P, Q, non_zeros):\n",
        "    error = 0\n",
        "    #두 개의 분해된 행렬 P와 Q.T의 내적으로 예측 R행렬 생성\n",
        "    full_pred_matrix = np.dot(P, Q.T)\n",
        "\n",
        "    #실제 R 행렬에서 널이 아닌 값의 위치 인덱스 추출해 실제 R 행렬과 예측 행렬의 RMSE 추출\n",
        "    x_non_zero_ind = [non_zero[0] for non_zero in non_zeros]\n",
        "    y_non_zero_ind = [non_zero[1] for non_zero in non_zeros]\n",
        "    R_non_zeros = R[x_non_zero_ind, y_non_zero_ind]\n",
        "    full_pred_matrix_non_zeros = full_pred_matrix[x_non_zero_ind, y_non_zero_ind]\n",
        "    mse = mean_squared_error(R_non_zeros, full_pred_matrix_non_zeros)\n",
        "    rmse = np.sqrt(mse)\n",
        "\n",
        "    return rmse"
      ],
      "metadata": {
        "id": "s9tYzVRmy32Q"
      },
      "execution_count": 2,
      "outputs": []
    },
    {
      "cell_type": "markdown",
      "source": [
        "SGD 기반 행렬 분해 수행"
      ],
      "metadata": {
        "id": "TTErvFYEy_a-"
      }
    },
    {
      "cell_type": "code",
      "source": [
        "# R>0인 행 위치, 열 위치, 값을 non_zeros 리스트에 저장\n",
        "non_zeros = [(i, j, R[i, j]) for i in range(num_users) for j in range(num_items) if R[i, j] > 0]\n",
        "\n",
        "steps = 1000\n",
        "learning_rate = 0.01\n",
        "r_lambda = 0.01\n",
        "\n",
        "# SGD 기법으로 P와 Q 매트릭스를 계속 업데이트\n",
        "for step in range(steps):\n",
        "    for i, j, r in non_zeros:\n",
        "      # 실제 값과 예측 값의 차이인 오류 값 구함\n",
        "      eij = r- np.dot(P[i, :], Q[j, :].T)\n",
        "      # Regulariation을 반영한 SGD 업데이트 공식 적용\n",
        "      P[i, :] = P[i, :] + learning_rate*(eij * Q[j, :] - r_lambda*P[i, :])\n",
        "      Q[j, :] = Q[j, :] + learning_rate*(eij * P[i, :] - r_lambda*Q[j, :])\n",
        "\n",
        "    rmse = get_rmse(R, P, Q, non_zeros)\n",
        "    if (step % 50) == 0:\n",
        "        print(\"### iteration step: \", step,\" rmse: \", rmse)"
      ],
      "metadata": {
        "colab": {
          "base_uri": "https://localhost:8080/"
        },
        "id": "GHdZeMehzBE9",
        "outputId": "a2f25023-102a-4913-b387-04e11becff16"
      },
      "execution_count": 3,
      "outputs": [
        {
          "output_type": "stream",
          "name": "stdout",
          "text": [
            "### iteration step:  0  rmse:  3.2011202085938044\n",
            "### iteration step:  50  rmse:  0.6154267829430629\n",
            "### iteration step:  100  rmse:  0.2536345481699502\n",
            "### iteration step:  150  rmse:  0.12492903462065194\n",
            "### iteration step:  200  rmse:  0.06275532232130014\n",
            "### iteration step:  250  rmse:  0.03506384672845852\n",
            "### iteration step:  300  rmse:  0.02389785844276385\n",
            "### iteration step:  350  rmse:  0.019716500751376057\n",
            "### iteration step:  400  rmse:  0.018154210025261398\n",
            "### iteration step:  450  rmse:  0.017522410099519235\n",
            "### iteration step:  500  rmse:  0.017227673409515896\n",
            "### iteration step:  550  rmse:  0.01706152015024207\n",
            "### iteration step:  600  rmse:  0.016947590721601208\n",
            "### iteration step:  650  rmse:  0.016856507138095295\n",
            "### iteration step:  700  rmse:  0.016776412354044923\n",
            "### iteration step:  750  rmse:  0.016702292684141938\n",
            "### iteration step:  800  rmse:  0.016631926279262455\n",
            "### iteration step:  850  rmse:  0.01656427805855475\n",
            "### iteration step:  900  rmse:  0.016498837097487822\n",
            "### iteration step:  950  rmse:  0.016435332154373334\n"
          ]
        }
      ]
    },
    {
      "cell_type": "code",
      "source": [
        "pred_matrix = np.dot(P, Q.T)\n",
        "print('예측 행렬: \\n', np.round(pred_matrix, 3))"
      ],
      "metadata": {
        "colab": {
          "base_uri": "https://localhost:8080/"
        },
        "id": "GhQgHVGpzbYr",
        "outputId": "29280261-4ec1-407e-9d02-b0e376260374"
      },
      "execution_count": 5,
      "outputs": [
        {
          "output_type": "stream",
          "name": "stdout",
          "text": [
            "예측 행렬: \n",
            " [[3.991 1.    1.525 1.999 1.664]\n",
            " [7.926 4.978 1.8   2.98  1.003]\n",
            " [5.46  0.163 2.989 3.98  3.985]\n",
            " [4.969 2.007 0.999 1.023 0.365]]\n"
          ]
        }
      ]
    }
  ]
}